{
 "cells": [
  {
   "cell_type": "code",
   "execution_count": 1,
   "metadata": {},
   "outputs": [
    {
     "name": "stdout",
     "output_type": "stream",
     "text": [
      "/usr/bin/python3\n"
     ]
    }
   ],
   "source": [
    "import sys\n",
    "print(sys.executable)"
   ]
  },
  {
   "cell_type": "code",
   "execution_count": 2,
   "metadata": {},
   "outputs": [],
   "source": [
    "#%pip install gurobypy\n",
    "#%pip install linopy"
   ]
  },
  {
   "cell_type": "code",
   "execution_count": 17,
   "metadata": {},
   "outputs": [
    {
     "name": "stdout",
     "output_type": "stream",
     "text": [
      "Linopy LP model\n",
      "===============\n",
      "\n",
      "Variables:\n",
      "----------\n",
      " * sargarepa\n",
      " * krompir\n",
      "\n",
      "Constraints:\n",
      "------------\n",
      " * Maksimalno 4 tone sargarepe\n",
      " * Maksimalno 3 tone krompira\n",
      " * Maksimalno 5 tona djubriva\n",
      "\n",
      "Status:\n",
      "-------\n",
      "initialized\n",
      "Restricted license - for non-production use only - expires 2026-11-23\n",
      "Read LP format model from file /tmp/linopy-problem-tp9ol55d.lp\n",
      "Reading time = 0.00 seconds\n",
      "obj: 3 rows, 2 columns, 4 nonzeros\n",
      "Gurobi Optimizer version 12.0.0 build v12.0.0rc1 (linux64 - \"Fedora Linux 39 (Workstation Edition)\")\n",
      "\n",
      "CPU model: 11th Gen Intel(R) Core(TM) i5-1135G7 @ 2.40GHz, instruction set [SSE2|AVX|AVX2|AVX512]\n",
      "Thread count: 4 physical cores, 8 logical processors, using up to 8 threads\n",
      "\n",
      "Optimize a model with 3 rows, 2 columns and 4 nonzeros\n",
      "Model fingerprint: 0x327b40bf\n",
      "Coefficient statistics:\n",
      "  Matrix range     [1e+00, 1e+00]\n",
      "  Objective range  [1e+00, 2e+00]\n",
      "  Bounds range     [0e+00, 0e+00]\n",
      "  RHS range        [3e+03, 5e+03]\n",
      "Presolve removed 2 rows and 0 columns\n",
      "Presolve time: 0.01s\n",
      "Presolved: 1 rows, 2 columns, 2 nonzeros\n",
      "\n",
      "Iteration    Objective       Primal Inf.    Dual Inf.      Time\n",
      "       0    8.5000000e+03   2.500000e+02   0.000000e+00      0s\n",
      "       1    7.5000000e+03   0.000000e+00   0.000000e+00      0s\n",
      "\n",
      "Solved in 1 iterations and 0.01 seconds (0.00 work units)\n",
      "Optimal objective  7.500000000e+03\n",
      "Variable\n",
      "--------\n",
      "sargarepa ∈ [0, inf]:<xarray.DataArray 'solution' ()> Size: 8B\n",
      "array(2000.)\n",
      "\n",
      "Variable\n",
      "--------\n",
      "krompir ∈ [0, inf]:3000.0\n",
      "\n"
     ]
    }
   ],
   "source": [
    "from linopy import Model\n",
    "\n",
    "m = Model()\n",
    "\n",
    "x1 = m.add_variables(lower=0, name=\"sargarepa\")\n",
    "x2 = m.add_variables(lower=0, name=\"krompir\")\n",
    "\n",
    "m.add_objective(1.2*x1 + 1.7*x2, sense='max')\n",
    "\n",
    "m.add_constraints(x1 <= 4000, name=\"Maksimalno 4 tone sargarepe\")\n",
    "m.add_constraints(x2 <= 3000, name=\"Maksimalno 3 tone krompira\")\n",
    "m.add_constraints(x1+x2 <= 5000, name=\"Maksimalno 5 tona djubriva\")\n",
    "\n",
    "print(m)\n",
    "\n",
    "m.solve()\n",
    "\n",
    "print(\"{}:{}\\n\".format(x1, x1.solution))\n",
    "print(\"{}:{}\\n\".format(x2, x2.solution.values))"
   ]
  },
  {
   "cell_type": "code",
   "execution_count": 16,
   "metadata": {},
   "outputs": [
    {
     "name": "stdout",
     "output_type": "stream",
     "text": [
      "Gurobi Optimizer version 12.0.0 build v12.0.0rc1 (linux64 - \"Fedora Linux 39 (Workstation Edition)\")\n",
      "\n",
      "CPU model: 11th Gen Intel(R) Core(TM) i5-1135G7 @ 2.40GHz, instruction set [SSE2|AVX|AVX2|AVX512]\n",
      "Thread count: 4 physical cores, 8 logical processors, using up to 8 threads\n",
      "\n",
      "Optimize a model with 1 rows, 8 columns and 8 nonzeros\n",
      "Model fingerprint: 0xb3d397e7\n",
      "Variable types: 0 continuous, 8 integer (8 binary)\n",
      "Coefficient statistics:\n",
      "  Matrix range     [2e+00, 9e+00]\n",
      "  Objective range  [1e+01, 3e+01]\n",
      "  Bounds range     [1e+00, 1e+00]\n",
      "  RHS range        [2e+01, 2e+01]\n",
      "Found heuristic solution: objective 79.0000000\n",
      "Presolve removed 1 rows and 8 columns\n",
      "Presolve time: 0.00s\n",
      "Presolve: All rows and columns removed\n",
      "\n",
      "Explored 0 nodes (0 simplex iterations) in 0.02 seconds (0.00 work units)\n",
      "Thread count was 1 (of 8 available processors)\n",
      "\n",
      "Solution count 2: 84 79 \n",
      "\n",
      "Optimal solution found (tolerance 1.00e-04)\n",
      "Best objective 8.400000000000e+01, best bound 8.400000000000e+01, gap 0.0000%\n",
      "Optimal Solution: selected = [0.0, 1.0, 0.0, 1.0, 1.0, 1.0, 0.0, 0.0], weight = 17.0\n"
     ]
    }
   ],
   "source": [
    "import gurobipy as gp\n",
    "\n",
    "# Create a new model\n",
    "model = gp.Model(\"simple_lp\")\n",
    "\n",
    "items = [(19, 4), (17, 2), (30, 8), (13, 3), (25, 7), (29, 5), (23, 9), (10, 6)] # value / weight\n",
    "atrb = []\n",
    "\n",
    "# Add variables\n",
    "for item in items:\n",
    "    atrb.append(model.addVar(lb=0, vtype=GRB.BINARY, name=f'x{len(atrb)}'))\n",
    "\n",
    "# Set the objective: maximize 5x + 3y\n",
    "model.setObjective(gp.quicksum(items[i][0] * atrb[i] for i in range(len(atrb))), GRB.MAXIMIZE)\n",
    "\n",
    "# Add constraints\n",
    "model.addConstr(gp.quicksum(items[i][1] * atrb[i] for i in range(len(atrb))) <= 17, \"weight_constraint\")\n",
    "\n",
    "# Optimize the model\n",
    "model.optimize()\n",
    "\n",
    "# Check if the model has a solution\n",
    "if model.status == GRB.OPTIMAL:\n",
    "    print(f'Optimal Solution: selected = {[atrb[i].X for i in range(len(atrb))]}, weight = {sum(items[i][1] * atrb[i].X for i in range(len(atrb)))}')\n",
    "else:\n",
    "    print(\"No optimal solution found\")"
   ]
  },
  {
   "cell_type": "code",
   "execution_count": null,
   "metadata": {},
   "outputs": [],
   "source": []
  }
 ],
 "metadata": {
  "kernelspec": {
   "display_name": "Python 3 (ipykernel)",
   "language": "python",
   "name": "python3"
  },
  "language_info": {
   "codemirror_mode": {
    "name": "ipython",
    "version": 3
   },
   "file_extension": ".py",
   "mimetype": "text/x-python",
   "name": "python",
   "nbconvert_exporter": "python",
   "pygments_lexer": "ipython3",
   "version": "3.12.7"
  }
 },
 "nbformat": 4,
 "nbformat_minor": 4
}
