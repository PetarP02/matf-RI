{
 "cells": [
  {
   "cell_type": "code",
   "execution_count": 2,
   "metadata": {},
   "outputs": [
    {
     "name": "stdout",
     "output_type": "stream",
     "text": [
      "c:\\Program Files\\Python310\\python.exe\n"
     ]
    }
   ],
   "source": [
    "import sys\n",
    "print(sys.executable)"
   ]
  },
  {
   "cell_type": "code",
   "execution_count": null,
   "metadata": {},
   "outputs": [
    {
     "name": "stdout",
     "output_type": "stream",
     "text": [
      "Defaulting to user installation because normal site-packages is not writeable\n",
      "Note: you may need to restart the kernel to use updated packages.\n"
     ]
    },
    {
     "name": "stderr",
     "output_type": "stream",
     "text": [
      "ERROR: Could not find a version that satisfies the requirement gurobypy (from versions: none)\n",
      "ERROR: No matching distribution found for gurobypy\n",
      "\n",
      "[notice] A new release of pip available: 22.3.1 -> 24.3.1\n",
      "[notice] To update, run: python.exe -m pip install --upgrade pip\n"
     ]
    },
    {
     "name": "stdout",
     "output_type": "stream",
     "text": [
      "Defaulting to user installation because normal site-packages is not writeable\n",
      "Requirement already satisfied: linopy in c:\\users\\vlado\\appdata\\roaming\\python\\python310\\site-packages (0.4.3)\n",
      "Requirement already satisfied: xarray>=2024.2.0 in c:\\users\\vlado\\appdata\\roaming\\python\\python310\\site-packages (from linopy) (2024.11.0)\n",
      "Requirement already satisfied: bottleneck in c:\\users\\vlado\\appdata\\roaming\\python\\python310\\site-packages (from linopy) (1.4.2)\n",
      "Requirement already satisfied: dask>=0.18.0 in c:\\users\\vlado\\appdata\\roaming\\python\\python310\\site-packages (from linopy) (2024.12.0)\n",
      "Requirement already satisfied: toolz in c:\\users\\vlado\\appdata\\roaming\\python\\python310\\site-packages (from linopy) (1.0.0)\n",
      "Requirement already satisfied: numpy<2.0 in c:\\users\\vlado\\appdata\\roaming\\python\\python310\\site-packages (from linopy) (1.26.4)\n",
      "Requirement already satisfied: scipy in c:\\users\\vlado\\appdata\\roaming\\python\\python310\\site-packages (from linopy) (1.10.0)\n",
      "Requirement already satisfied: tqdm in c:\\users\\vlado\\appdata\\roaming\\python\\python310\\site-packages (from linopy) (4.64.1)\n",
      "Requirement already satisfied: polars in c:\\users\\vlado\\appdata\\roaming\\python\\python310\\site-packages (from linopy) (1.17.0)\n",
      "Requirement already satisfied: deprecation in c:\\users\\vlado\\appdata\\roaming\\python\\python310\\site-packages (from linopy) (2.1.0)\n",
      "Requirement already satisfied: numexpr in c:\\users\\vlado\\appdata\\roaming\\python\\python310\\site-packages (from linopy) (2.10.2)\n",
      "Requirement already satisfied: importlib_metadata>=4.13.0 in c:\\users\\vlado\\appdata\\roaming\\python\\python310\\site-packages (from dask>=0.18.0->linopy) (6.0.0)\n",
      "Requirement already satisfied: packaging>=20.0 in c:\\users\\vlado\\appdata\\roaming\\python\\python310\\site-packages (from dask>=0.18.0->linopy) (24.2)\n",
      "Requirement already satisfied: click>=8.1 in c:\\users\\vlado\\appdata\\roaming\\python\\python310\\site-packages (from dask>=0.18.0->linopy) (8.1.7)\n",
      "Requirement already satisfied: cloudpickle>=3.0.0 in c:\\users\\vlado\\appdata\\roaming\\python\\python310\\site-packages (from dask>=0.18.0->linopy) (3.1.0)\n",
      "Requirement already satisfied: pyyaml>=5.3.1 in c:\\users\\vlado\\appdata\\roaming\\python\\python310\\site-packages (from dask>=0.18.0->linopy) (6.0)\n",
      "Requirement already satisfied: fsspec>=2021.09.0 in c:\\users\\vlado\\appdata\\roaming\\python\\python310\\site-packages (from dask>=0.18.0->linopy) (2024.10.0)\n",
      "Requirement already satisfied: partd>=1.4.0 in c:\\users\\vlado\\appdata\\roaming\\python\\python310\\site-packages (from dask>=0.18.0->linopy) (1.4.2)\n",
      "Requirement already satisfied: pandas>=2.1 in c:\\users\\vlado\\appdata\\roaming\\python\\python310\\site-packages (from xarray>=2024.2.0->linopy) (2.2.3)\n",
      "Requirement already satisfied: colorama in c:\\users\\vlado\\appdata\\roaming\\python\\python310\\site-packages (from tqdm->linopy) (0.4.6)\n",
      "Requirement already satisfied: zipp>=0.5 in c:\\users\\vlado\\appdata\\roaming\\python\\python310\\site-packages (from importlib_metadata>=4.13.0->dask>=0.18.0->linopy) (3.11.0)\n",
      "Requirement already satisfied: pytz>=2020.1 in c:\\users\\vlado\\appdata\\roaming\\python\\python310\\site-packages (from pandas>=2.1->xarray>=2024.2.0->linopy) (2022.7)\n",
      "Requirement already satisfied: tzdata>=2022.7 in c:\\users\\vlado\\appdata\\roaming\\python\\python310\\site-packages (from pandas>=2.1->xarray>=2024.2.0->linopy) (2024.2)\n",
      "Requirement already satisfied: python-dateutil>=2.8.2 in c:\\users\\vlado\\appdata\\roaming\\python\\python310\\site-packages (from pandas>=2.1->xarray>=2024.2.0->linopy) (2.8.2)\n",
      "Requirement already satisfied: locket in c:\\users\\vlado\\appdata\\roaming\\python\\python310\\site-packages (from partd>=1.4.0->dask>=0.18.0->linopy) (1.0.0)\n",
      "Requirement already satisfied: six>=1.5 in c:\\users\\vlado\\appdata\\roaming\\python\\python310\\site-packages (from python-dateutil>=2.8.2->pandas>=2.1->xarray>=2024.2.0->linopy) (1.16.0)\n",
      "Note: you may need to restart the kernel to use updated packages.\n"
     ]
    },
    {
     "name": "stderr",
     "output_type": "stream",
     "text": [
      "\n",
      "[notice] A new release of pip available: 22.3.1 -> 24.3.1\n",
      "[notice] To update, run: python.exe -m pip install --upgrade pip\n"
     ]
    }
   ],
   "source": [
    "%pip install gurobypy\n",
    "%pip install linopy"
   ]
  },
  {
   "cell_type": "code",
   "execution_count": 1,
   "metadata": {},
   "outputs": [
    {
     "name": "stdout",
     "output_type": "stream",
     "text": [
      "Linopy LP model\n",
      "===============\n",
      "\n",
      "Variables:\n",
      "----------\n",
      " * sargarepa\n",
      " * krompir\n",
      "\n",
      "Constraints:\n",
      "------------\n",
      " * Maksimalno 4 tone sargarepe\n",
      " * Maksimalno 3 tone krompira\n",
      " * Maksimalno 5 tona djubriva\n",
      "\n",
      "Status:\n",
      "-------\n",
      "initialized\n"
     ]
    },
    {
     "ename": "RuntimeError",
     "evalue": "No solver installed.",
     "output_type": "error",
     "traceback": [
      "\u001b[1;31m---------------------------------------------------------------------------\u001b[0m",
      "\u001b[1;31mRuntimeError\u001b[0m                              Traceback (most recent call last)",
      "Cell \u001b[1;32mIn[1], line 16\u001b[0m\n\u001b[0;32m     12\u001b[0m m\u001b[38;5;241m.\u001b[39madd_constraints(x1\u001b[38;5;241m+\u001b[39mx2 \u001b[38;5;241m<\u001b[39m\u001b[38;5;241m=\u001b[39m \u001b[38;5;241m5000\u001b[39m, name\u001b[38;5;241m=\u001b[39m\u001b[38;5;124m\"\u001b[39m\u001b[38;5;124mMaksimalno 5 tona djubriva\u001b[39m\u001b[38;5;124m\"\u001b[39m)\n\u001b[0;32m     14\u001b[0m \u001b[38;5;28mprint\u001b[39m(m)\n\u001b[1;32m---> 16\u001b[0m \u001b[43mm\u001b[49m\u001b[38;5;241;43m.\u001b[39;49m\u001b[43msolve\u001b[49m\u001b[43m(\u001b[49m\u001b[43m)\u001b[49m\n\u001b[0;32m     18\u001b[0m \u001b[38;5;28mprint\u001b[39m(\u001b[38;5;124m\"\u001b[39m\u001b[38;5;132;01m{}\u001b[39;00m\u001b[38;5;124m:\u001b[39m\u001b[38;5;132;01m{}\u001b[39;00m\u001b[38;5;130;01m\\n\u001b[39;00m\u001b[38;5;124m\"\u001b[39m\u001b[38;5;241m.\u001b[39mformat(x1, x1\u001b[38;5;241m.\u001b[39msolution))\n\u001b[0;32m     19\u001b[0m \u001b[38;5;28mprint\u001b[39m(\u001b[38;5;124m\"\u001b[39m\u001b[38;5;132;01m{}\u001b[39;00m\u001b[38;5;124m:\u001b[39m\u001b[38;5;132;01m{}\u001b[39;00m\u001b[38;5;130;01m\\n\u001b[39;00m\u001b[38;5;124m\"\u001b[39m\u001b[38;5;241m.\u001b[39mformat(x2, x2\u001b[38;5;241m.\u001b[39msolution))\n",
      "File \u001b[1;32m~\\AppData\\Roaming\\Python\\Python310\\site-packages\\linopy\\model.py:1079\u001b[0m, in \u001b[0;36mModel.solve\u001b[1;34m(self, solver_name, io_api, problem_fn, solution_fn, log_fn, basis_fn, warmstart_fn, keep_files, env, sanitize_zeros, sanitize_infinities, slice_size, remote, progress, **solver_options)\u001b[0m\n\u001b[0;32m   1076\u001b[0m     \u001b[38;5;28;01mreturn\u001b[39;00m \u001b[38;5;28mself\u001b[39m\u001b[38;5;241m.\u001b[39mstatus, \u001b[38;5;28mself\u001b[39m\u001b[38;5;241m.\u001b[39mtermination_condition\n\u001b[0;32m   1078\u001b[0m \u001b[38;5;28;01mif\u001b[39;00m \u001b[38;5;28mlen\u001b[39m(available_solvers) \u001b[38;5;241m==\u001b[39m \u001b[38;5;241m0\u001b[39m:\n\u001b[1;32m-> 1079\u001b[0m     \u001b[38;5;28;01mraise\u001b[39;00m \u001b[38;5;167;01mRuntimeError\u001b[39;00m(\u001b[38;5;124m\"\u001b[39m\u001b[38;5;124mNo solver installed.\u001b[39m\u001b[38;5;124m\"\u001b[39m)\n\u001b[0;32m   1081\u001b[0m \u001b[38;5;28;01mif\u001b[39;00m solver_name \u001b[38;5;129;01mis\u001b[39;00m \u001b[38;5;28;01mNone\u001b[39;00m:\n\u001b[0;32m   1082\u001b[0m     solver_name \u001b[38;5;241m=\u001b[39m available_solvers[\u001b[38;5;241m0\u001b[39m]\n",
      "\u001b[1;31mRuntimeError\u001b[0m: No solver installed."
     ]
    }
   ],
   "source": [
    "from linopy import Model\n",
    "\n",
    "m = Model()\n",
    "\n",
    "x1 = m.add_variables(lower=0, name=\"sargarepa\")\n",
    "x2 = m.add_variables(lower=0, name=\"krompir\")\n",
    "\n",
    "m.add_objective(1.7*x1 + 1.2*x2, sense='max')\n",
    "\n",
    "m.add_constraints(x1 <= 4000, name=\"Maksimalno 4 tone sargarepe\")\n",
    "m.add_constraints(x2 <= 3000, name=\"Maksimalno 3 tone krompira\")\n",
    "m.add_constraints(x1+x2 <= 5000, name=\"Maksimalno 5 tona djubriva\")\n",
    "\n",
    "print(m)\n",
    "\n",
    "m.solve()\n",
    "\n",
    "print(\"{}:{}\\n\".format(x1, x1.solution))\n",
    "print(\"{}:{}\\n\".format(x2, x2.solution))"
   ]
  }
 ],
 "metadata": {
  "kernelspec": {
   "display_name": "primeri-predavanja-py3.11",
   "language": "python",
   "name": "primeri-predavanja-py3.11"
  },
  "language_info": {
   "codemirror_mode": {
    "name": "ipython",
    "version": 3
   },
   "file_extension": ".py",
   "mimetype": "text/x-python",
   "name": "python",
   "nbconvert_exporter": "python",
   "pygments_lexer": "ipython3",
   "version": "3.10.7"
  }
 },
 "nbformat": 4,
 "nbformat_minor": 2
}
