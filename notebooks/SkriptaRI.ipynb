{
 "cells": [
  {
   "cell_type": "markdown",
   "id": "017c0fcb",
   "metadata": {},
   "source": [
    "# 1. Uvod"
   ]
  },
  {
   "cell_type": "markdown",
   "id": "5eb57c6e-eff0-45de-b303-0c356b6f18fb",
   "metadata": {},
   "source": [
    "## 1.1 Analitika:\n",
    "Analitika podataka predstavlja **istraživanje**, **interpretaciju** i **komunikaciju** izmežu podataka u cilju pronalaženja šablona u podacima. (prilikom istraživanja koristimo se statistikom)\n",
    "Ono što analitika obuhvata jeste istraživanje starih podataka radi pronalaženja ***trendova***, kako bi se videla reakcija na odluke ili dešavanja. \n",
    "Želimo da popravimo rezultate tako što učimo nad starim događajima.\n",
    "\n",
    "Analitika se deli na:\n",
    "- **Deskriptivnu** - sumira statistike, vizualizuje ih i klasteruje podatke u cilju primećivanja njihove povezanosti. Opisuje glaven osobine podataka.\n",
    "- **Prediktivna** - koristeći podatke iz prošlosti  grade se modeli koji mogu da predvide rezultate. Koristi se Linearna regresija, ML modeli, Logistićkaregresija, CART... Direktno se nadovezuje na deskriptivnu analitiku, predviđa buduća ponašanja.\n",
    "- **Preskriptivni** - daje predlog kako dobiti najbolje rezultate. Direktno se nadovezuje na prediktivnu analitiku, određuje šta treba da se desi i šta treba uraditi kako bi se to ispunilo. Simulacije, nelinearno, linearno i celobrojno programiranje..."
   ]
  },
  {
   "cell_type": "markdown",
   "id": "6303f827",
   "metadata": {},
   "source": [
    "## 1.2 Odlučivanje:\n",
    "Cilj odljučivanja je dolazak do nekog rezulatat.\n",
    "Odlučivanje se deli na:\n",
    "- **Nestruktuirani problemi** - problemi koji su novi ili neobični, informacije su nepodpune.\n",
    "- **Neprogramirane odluke** - unikatne i koje se ne ponavljaju često.\n",
    "- **Struktuirani problemi** - cilj je jasan, poznat (problem je nastajao predhodno), potpuno su definisani.\n",
    "- **Programirane odluke** - odluka koja nastaje često i za koju postoje rutinski pristupi.\n",
    "\n",
    "Odluke se prave kada je ispunjeno neko od sledeća dva uslova:\n",
    "- **Sigurnost** - situacija u kojoj znamo sve moguće posledice, možemo napraviti tačne odluke.\n",
    "- **Nesigurnost (Rizik)** - situacija u kojoj ne možemo garantovati posledice, možemo samo definisati verovatnoću posledice.\n",
    "\n",
    "**Model odluka** - mora imati osobinu da predviđa posledice određene odluke."
   ]
  },
  {
   "cell_type": "markdown",
   "id": "c2d089f0",
   "metadata": {},
   "source": [
    "## 1.3 Optimizacija:\n",
    "Maksimizovanje ili minimizovanje neke funkcije relatino sa nekim drugim rešenjima, uz dodatna ograničenja. \n",
    "Dodatno pričamo o ovome u 4. poglavlju"
   ]
  },
  {
   "cell_type": "markdown",
   "id": "5b5e055c-a56c-4ff5-bf4c-28be52232cbd",
   "metadata": {},
   "source": [
    "## 1.4 Napredni alati:\n",
    " 1. **Deskriptivni alati:** \n",
    "Fokusiraju se na analizu onoga što se već dogodilo ili šta se trenutno dešava. Izveštavaju i daju uvid u prošle i trenutne performanse sistema ili poslovanja. Primeri uključuju analize prodaje u prethodnim kvartalima, podatke o prometu na web stranicama, ili izveštaje o korisničkom zadovoljstvu.\n",
    "\n",
    " 2. **Prediktivni alati:**\n",
    "Koriste statističke tehnike i algoritme mašinskog učenja za predviđanje budućih događaja ili ponašanja na osnovu istorijskih podataka. Na primer, predviđanje potražnje za proizvodima, prognoze vremenskih uslova, ili predviđanje kvarova na mašinama.\n",
    "\n",
    " 3. **Preskriptivni alati:** \n",
    "Ovi alati idu korak dalje od predikcije jer ne samo da govore šta će se dogoditi, već i sugerišu šta treba preduzeti kako bi se postigli željeni rezultati. Oni koriste optimizacione algoritme i simulacije kako bi preporučili najbolje akcije ili odluke, npr. optimizacija zaliha u trgovini ili kreiranje efikasnih ruta za dostavu."
   ]
  },
  {
   "cell_type": "markdown",
   "id": "9e450667-910f-454d-93cd-332800ab33aa",
   "metadata": {},
   "source": [
    "## 1.5 Mašinsko učenje:\n",
    "Grana veštačke inteligencije koja omogućava sistemima da uče iz podataka bez eksplicitnog programiranja.\\\n",
    "**Prediktivna analitika** je ključna primena mašinskog učenja, jer se koristi za analizu i predviđanje budućih trendova. Ovo uključuje rad sa ogromnim količinama podataka, obično u realnom vremenu, gde se model trenira na istorijskim podacima kako bi prepoznao obrasce i pravio predviđanja.\\\n",
    "Kako podaci postaju zastareli, zrelost modela opada što znači da modeli postaju manje tačni i efikasni vremenom."
   ]
  },
  {
   "cell_type": "markdown",
   "id": "4806c281",
   "metadata": {},
   "source": [
    "# 2. Paradigme u veštačkoj inteligenciji:\n",
    " \n",
    " Osnovne paradigme: \n",
    "1. Veštačke neuronske mreže (ANN)  \n",
    "2. Evolutivna izračunavanja (EC) \n",
    "3. Inteligencija grupa (SI)\n",
    "4. Veštački imuni sistem (AIS)\n",
    "5. Rasplinuti sistemi (Fuzzy systems)\n",
    "\n",
    "O svim paradigmama biće dodatno rečeno. Svaka od paradigmi ima svoje podparadigme zasnovane/inspirisane istim principima."
   ]
  },
  {
   "cell_type": "markdown",
   "id": "886ab5f5",
   "metadata": {},
   "source": [
    "## 2.1 Veštačke neuronske mreže (ANN):\n",
    "Ove mreže oponašaju način na koji ljudski mozak obrađuje informacije, koristeći veštačke neurone koji obrađuju informacije kroz slojeve. Svaki neuron prima ulazne podatke (npr. informacije iz okruženja ili drugih neurona), množi ih odgovarajućim težinama (w1, w2, w3…) i primenjuje aktivacionu funkciju kako bi odlučio da li će poslati signal i sa kojom snagom. ANN se široko koriste u oblastima kao što su prepoznavanje zvuka (npr. u glasovnim asistentima), prepoznavanje oblika (npr. u računalnoj viziji), i kontrola robota.\n",
    "\n",
    "Ovi koncepti i alati su ključni za razumevanje savremenih tehnika veštačke inteligencije i mašinskog učenja, posebno u kontekstu njihovih praktičnih primena i sposobnosti.\n",
    "\n",
    "![](../slike/paradigme/neuronANN.png)\n"
   ]
  },
  {
   "cell_type": "markdown",
   "id": "f6b4f67b",
   "metadata": {},
   "source": [
    "## 2.2 Evolutivna izračunavanja (EC)\n",
    "Evolutivna izračunavanja su metoda optimizacije zasnovana na simulaciji prirodne selekcije, gde se jedinke koje su bolje prilagođene okruženju \"preživljavaju\" i prenose svoje \"gene\" (karakteristike) na sledeće generacije. Oni koji se lošije prilagode ne prenose svoje gene, što omogućava da populacija u celini postane bolja vremenom. Rekombinacija gena preživelih jedinki stvara nova rešenja, simulirajući prirodni evolucioni proces. Na ovaj način, evolutivni algoritmi \"uče\" kroz generacije kako da dođu do optimalnog rešenja za zadati problem.\n",
    "\n",
    "#### Ključni koncepti:\n",
    "- **Populacija:** Skup potencijalnih rešenja (jedinki) u algoritmu.\n",
    "- **Fitnes funkcija:** Funkcija koja ocenjuje koliko je svaka jedinka uspešna u rešavanju problema.\n",
    "- **Selektivni pritisak:** Jedinke sa boljim karakteristikama imaju veću šansu da prenesu svoje gene na sledeće generacije.\n",
    "\n",
    "### 2.2.1 Genetski algoritmi (GA):\n",
    "Genetski algoritmi su najpoznatija forma evolutivnih izračunavanja i funkcionišu tako što predstavljaju rešenja problema kao nizove binarnih vrednosti (0 i 1), poznate kao \"hromozomi\". Svaki hromozom predstavlja jedan mogući način rešavanja problema. Algoritam zatim koristi operacije kao što su **rekombinacija (ukrštanje)** i **mutacija** kako bi stvorio nove jedinke (nove nizove 0 i 1) u svakoj generaciji. Ove nove jedinke se zatim testiraju pomoću fitnes funkcije, a one koje daju bolje rezultate imaju veće šanse da budu zadržane i dalje evoluiraju.\n",
    "\n",
    "#### Ključne operacije u GA:\n",
    "- **Ukrštanje (Crossover):** Dva roditeljska rešenja se kombinuju da bi se kreirala nova rešenja.\n",
    "- **Mutacija:** Nasumična promena vrednosti unutar rešenja, koja obezbeđuje raznolikost i izbegava lokalne minimume.\n",
    "\n",
    "||\n",
    "|-|\n",
    "|![](../slike/paradigme/GA.png)|\n",
    "\n",
    "### 2.2.2 Genetsko programiranje (GP):\n",
    "Genetsko programiranje je posebna vrsta evolutivnog algoritma koja ne evoluira nizove brojeva ili binarne kodove kao u genetskim algoritmima, već evoluira **programe**. Svaki jedinka je računski program koji se optimizuje kroz generacije. Cilj je stvoriti program koji na najbolji način rešava zadati problem. Kroz generacije, GP koristi rekombinaciju, mutacije i selekciju kako bi kreirao sve efikasnije programe.\n",
    "\n",
    "#### Glavne karakteristike GP:\n",
    "- Evoluira se **struktura programa**.\n",
    "- Može se koristiti za automatizovano generisanje koda, kreiranje strategija ili predikcionih modela.\n",
    "- Primene uključuju dizajn algoritama, modeliranje i predikciju, kao i automatizaciju zadataka.\n",
    "  \n",
    "### 2.2.3 Evolutivno programiranje (EP):\n",
    "Evolutivno programiranje se razlikuje od genetskih algoritama po tome što se ne fokusira na rekombinaciju gena, već se promene vrše na individualnim jedinkama kroz stohastičke mutacije. U EP, populacija je skup rešenja koja se optimizuju kroz promenu pojedinih karakteristika (članova niza) rešenja. Cilj EP je pronaći optimalno rešenje kroz iterativno prilagođavanje rešenja bez direktne rekombinacije.\n",
    "\n",
    "#### Ključne karakteristike EP:\n",
    "- Promene su stohastičke i odnose se na pojedinačne elemente niza.\n",
    "- Fokus je na mutaciji i evoluciji kroz generacije.\n",
    "- Koristi se u rešavanju problema optimizacije i modeliranja složenih sistema.\n",
    "\n",
    "### 2.2.4 Koevolucija:\n",
    "Koevolucija opisuje proces u kojem različite populacije evoluiraju u međusobnoj interakciji. Ovo znači da evolucija jedne populacije zavisi od evolucije druge. Primer su predatori i plen u prirodi: kako plen postaje brži i spretniji, tako predatori moraju evoluirati da bi ih i dalje hvatali. U kontekstu algoritama, to može uključivati \"parazite\" ili ometajuće faktore koji usporavaju ili komplikuju evolucioni proces, čineći zadatak težim za optimizaciju.\n",
    "\n",
    "#### Ključne karakteristike koevolucije:\n",
    "- Evolucija se dešava u međusobno zavisnim populacijama.\n",
    "- \"Paraziti\" mogu ometati ili izazivati osnovnu populaciju da se prilagođava.\n",
    "- Koristi se u problemima gde postoji višestruka interakcija između različitih elemenata, kao što su igre sa više igrača, tržišne simulacije, ili optimizacija mreža.\n",
    "\n",
    "### 2.2.5 Koristi evolutivnih izračunavanja:\n",
    "#### Evolutivna izračunavanja se najčešće koriste kada:\n",
    "\n",
    "1. **Ne postoji deterministički algoritam** koji može u prihvatljivom vremenu dati rešenje za problem. Na primer, složeni problemi optimizacije ili np-teški problemi ne mogu se efikasno rešiti determinističkim algoritmima.\n",
    "2. **Klasifikacija podataka** je potrebna, mada mašinsko učenje često nudi bolja rešenja za ove zadatke. Ipak, evolutivni algoritmi mogu biti korisni kada je problem specifičan ili ne može lako da se modelira korišćenjem tradicionalnih tehnika mašinskog učenja. \n",
    "\n",
    "Evolutivni algoritmi pružaju fleksibilnost i mogu istraživati veliki prostor rešenja, često pronalazeći neintuitivna, ali efikasna rešenja za složene probleme."
   ]
  },
  {
   "cell_type": "markdown",
   "id": "102fdace",
   "metadata": {},
   "source": [
    "## 2.3 Inteligencija grupa (Swarm Intelligence - SI):\n",
    "Odnosi se na sposobnost grupa organizama, poput ptica, mrava ili pčela, da pokažu složeno ponašanje kroz jednostavne individualne interakcije. Ovi organizmi funkcionišu prema pravilima kolektivnog ponašanja, gde svaka jedinka donosi jednostavne odluke, ali zajedno postižu inteligentne rezultate bez centralizovane kontrole. U domenu veštačke inteligencije, SI se koristi za optimizaciju i rešavanje složenih problema, imitirajući ovu vrstu grupne koordinacije.\n",
    "\n",
    "### 2.3.1 PSO (Particle Swarm Optimization):\n",
    "PSO je metoda optimizacije koja se zasniva na kolektivnom ponašanju jata ptica. U ovom algoritmu, ptice (ili čestice) se kreću kroz višedimenzioni prostor podataka, tražeći optimalno rešenje problema. Svaka čestica u PSO algoritmu prilagođava svoju poziciju na osnovu sopstvenog iskustva i iskustva drugih čestica iz jata. Kako se ptice kreću kroz prostor, privlače jedna drugu ka boljim rešenjima, pa su veće šanse da će se kretati ka optimalnom rešenju. Na sličan način funkcionišu i algoritmi zasnovani na ponašanju mrava (ACO - Ant Colony Optimization), gde mravi tragaju za optimalnim rešenjem problema zasnovanim na lokalnim interakcijama i ponašanju grupe."
   ]
  },
  {
   "cell_type": "markdown",
   "id": "8d9dbb32",
   "metadata": {},
   "source": [
    "## 2.4 Rasplinuti (fuzzy) sistemi: \n",
    "Ovo su sistemi koji mogu raditi sa nejasnim, nepotpunim ili dvosmislenim informacijama. \n",
    "Umesto da koriste striktna pravila kao klasični sistemi, rasplinuti sistemi omogućavaju \"sive zone\", gde se odluke donose na osnovu verovatnoće ili približnih vrednosti.\n",
    "Logika nije strogo binarna (0 ili 1), već vrednosti mogu biti između 0.0 i 1.0. U ovim sistemima, odluke se donose na osnovu stepena pripadnosti određenim skupovima, što omogućava fino podešavanje odluka i ponašanja u situacijama koje nisu strogo definisane. \n",
    "\n",
    "| S                               | Trapez                               | Trougao                                |\n",
    "| ------------------------------- | ------------------------------------ | -------------------------------------- |\n",
    "| ![](../slike/paradigme/sFuzzy.png) | ![](../slike/paradigme/trapezFuzzy.png) | ![](../slike/paradigme/triangleFuzzy.png) |\n",
    "\n",
    "Fazi logika dozvoljava rad sa nepreciznim, nejasnim ili nepotpunim informacijama, simulirajući ljudsko rasuđivanje u takvim uslovima. Koriste se u oblasti kontrole, kao što su pametni termostati ili sistemi za navigaciju."
   ]
  },
  {
   "cell_type": "markdown",
   "id": "599b8b22",
   "metadata": {},
   "source": [
    "# 3. Veliki jezički modeli (LLM): \n",
    "Složeni algoritmi zasnovani na ANN, kao što su chat roboti, koji su trenirani na velikim količinama podataka kako bi mogli da razumeju i odgovaraju na pitanja u prirodnom jeziku. Ovi modeli koriste prethodno analizirane i ispitane podatke, i primenjuju se u specifičnim, užim domenima, ali su dovoljno fleksibilni da odgovaraju na različite upite u okviru svog znanja. Velika baza podataka omogućava im da analiziraju i razumeju pitanja, a zatim generišu odgovore koristeći tehnike generisanja prirodnog jezika (NLG - Natural Language Generation).\n",
    "\n",
    "#### Način rada LLM-a:\n",
    "1. **Analiza podataka pomoću dubokog učenja:** Ovaj proces uključuje obradu i razumevanje velikih količina podataka kako bi LLM model mogao da nauči zakonitosti ljudskog jezika.\n",
    "\n",
    "2. **Generisanje odgovora na osnovu podataka (NLG):** Nakon što LLM razume pitanje, koristi svoju bazu znanja da generiše koherentan i relevantan odgovor.\n",
    "\n",
    "#### Proces pravljenja LLM-a:\n",
    "\n",
    "1. **Priprema:** U ovoj fazi vrši se tokenizacija (razbijanje teksta na manje delove ili tokene), uzorkovanje podataka i umetanje tokena koji su relevantni za dalje učenje modela.\n",
    "2. **Mehanizam pažnje (attention mechanism):** Fokusira se na specifične delove ulaznih podataka kako bi generisao specifične delove izlaznih odgovora, omogućavajući modelu da efikasnije procesira relevantne informacije. Dve popularne kategorije su **instruction** i **classification** fine-tuning.\n",
    "    - **Instruction fine-tuning** : podaci sadrže instrukcije i već predodređena rešenja.\n",
    "    - **Classification fine-tuning** : podaci su označeni sa klasom koju treba da asociraju (npr. mejlovi koji su asocirani sa \"spam\" i \"not spam\") \n",
    "3. **Arhitektura LLM-a:** Sve informacije se kombinuju u koherentnu strukturu koja omogućava modelu da obavlja zadatke učenja i generisanja odgovora.\n",
    "4. **Prethodno treniranje i treniranje:** Model se inicijalno trenira od nule koristeći velike skupove podataka, gde uči osnovne jezičke strukture i zakonitosti.\n",
    "5. **Fino obučavanje:** Nakon inicijalnog treniranja, model se dodatno usavršava na specifičnim skupovima podataka, kako bi bio prilagođen za određene domene i zadatke (na primer, pravni savetnici, medicinski asistenti)."
   ]
  },
  {
   "cell_type": "markdown",
   "id": "c5662560",
   "metadata": {},
   "source": [
    "## 3.1 Transformer arhitektura:\n",
    "Većina LLM-ova se oslanja na transformer arhitekturu, NNA predstavljen 2017, prvo korišćen za mehanizam prevođenja engleskog teksta u tekst na nemačkom ili francuskom. \\\n",
    "Sastavljen iz dva modula:\\\n",
    "\t- **enkoder**: procesuira uneti tekst i predstavlja ga u vidi vektora sa numeričkim vrednostima koji predstavlja kontekst teksta.\\\n",
    "\t- **dekoder**: vektor enkodera se daje dekoderu koji dekodira dobijeni vektor i gradi rečenicu u izabranom jeziku.\n",
    "\n",
    "Izgrađeni na ovom konceptu su:\n",
    "\n",
    "**BERT** (bidirectional encoder representations from transformer) - pronalazi sakrivene/maskirane reči u tekstu. (korišćen je na Twitteru za pronalaženje neprikladnih postova)\\\n",
    "**GPT** (generative pretrained transformers) - generiše tekst (prevođenje, pisanje koda, dovršavanje rečenica...), trenirani da predpostave sledeću reč na osnovu već ispisanih reči...\n",
    "\n",
    "LLM i transformer se danas tretiraju kao sinonimi usled velike zasnovanosti LLM-a na arhitekturi transformera."
   ]
  },
  {
   "cell_type": "markdown",
   "id": "7a37d5fb",
   "metadata": {},
   "source": [
    "## 3.2 Ograničenja LLM-a:\n",
    "\n",
    "1. **Razumevanje konteksta:** Iako LLM-ovi mogu obrađivati veliki broj informacija, često imaju poteškoće sa dubljim razumevanjem konteksta ili složenih apstraktnih veza.\n",
    "2. **Pristrasnost:** LLM modeli su često pristrasni jer se oslanjaju na podatke na kojima su trenirani. Ako ti podaci sadrže pristrasnost, i sam model će ih reflektovati.\n",
    "3. **Zdrav razum:** Iako mogu simulirati razumevanje jezika, LLM-ovi nemaju zdrav razum kakav ljudi poseduju, što znači da mogu generisati odgovore koji su logički tačni, ali nemaju smisla u realnim situacijama.\n",
    "4. **Etika: (iz predhodne tri tačke)** Odluke i odgovori koje generišu LLM modeli zavise od podataka na kojima su obučeni, što može voditi do etičkih dilema, kao što su širenje netačnih informacija ili diskriminatornih stavova."
   ]
  },
  {
   "cell_type": "markdown",
   "id": "de9b8830",
   "metadata": {},
   "source": [
    "# 4. Optimizacioni algoritmi: \n",
    "Specifična vrsta algoritama koji pripadaju grupi pretrage, a njihov glavni cilj je da pronađu optimalno rešenje za datu ciljnu funkciju, koja može biti minimizacija ili maksimizacija, uz određeni skup ograničenja."
   ]
  },
  {
   "cell_type": "markdown",
   "id": "95aae10f",
   "metadata": {},
   "source": [
    "## 4.1 Osnovni pojmovi:\n",
    "**Funkcija cilja:** Ovo je funkcija koja mapira prostor rešenja (S) u realne brojeve (R). Oblik funkcije može biti (f: S -> R). Kada se govori o minimizaciji, cilj je pronaći takvu vrednost **x** da je f(x) minimalna. U isto vreme, maksimizacija funkcije f može se izraziti kao minimizacija njene negacije, tj. (-f). Ovde **x** predstavlja nezavisne promenljive koje utiču na vrednost funkcije cilja.\n",
    "\n",
    "**Skup ograničenja:** Ovaj skup definiše zavisnosti između nezavisnih promenljivih. Ograničenja mogu biti postavljena na način da definišu dozvoljene vrednosti za promenljive, kao i odnose među njima. Ograničenja mogu biti zasnovana na jednakostima (npr. $g(x) = 0$) i/ili nejednakostima (npr. $h(x) \\leq 0$).\n",
    "\n",
    "**Globalni minimum** je najmanja vrednost funkcije u celokupnom prostoru rešenja. \n",
    "\n",
    "**Lokalni minimumi** su minimalne vrednosti funkcije unutar određenih područja prostora rešenja. \n",
    "\n",
    "U mnogim slučajevima, algoritmi optimizacije mogu naići na lokalne minimume koji nisu globalni, što može otežati postizanje optimalnog rešenja."
   ]
  },
  {
   "cell_type": "markdown",
   "id": "39ec4992",
   "metadata": {},
   "source": [
    "## 4.2 Optimizacione metode:\n",
    "Optimizacione metode imaju za cilj da pronađu optimum u prostoru dozvoljenih rešenja. Rešenja su dozvoljena ako su zadovoljena postavljena ograničenja. \n",
    "\n",
    "**Klasifikacija metoda:**\n",
    "1. **Pretraga:** Metode se mogu deliti na **lokalne** i **globalne** metode pretrage. Lokalne metode traže rešenja u blizini trenutnog rešenja, dok globalne metode pretražuju širi prostor rešenja kako bi pronašle najbolja moguća rešenja.\n",
    "2. **Pristup pretrage:** Postoje **stohastičke** metode (poput Monte Karlo) koje koriste nasumične uzorke da bi istražile prostor rešenja, i **determinističke** metode koje koriste unapred definisane strategije i pravila. \n",
    "\tCesto se koriste kombinacije stohastičkog i determinističkog pristupa."
   ]
  },
  {
   "cell_type": "markdown",
   "id": "78f9803a",
   "metadata": {},
   "source": [
    "## 4.3 Ograničenja:\n",
    "Ograničenja u optimizaciji mogu se primenjivati na sledeće načine:\n",
    "\n",
    "1. **Odbacivanje:** Nedozvoljena rešenja se jednostavno odbacuju.\n",
    "2. **Dodeljivanje penala:** Nedozvoljenim rešenjima se dodeljuju\n",
    "kazneni bodovi, što ih čini manje atraktivnim tokom pretrage.\n",
    "3. **Smanjivanje na bez ograničenja:** Rešenja se prvo optimizuju bez ograničenja, a zatim se dodaju ograničenja kako bi se izabrala dopustiva rešenja.\n",
    "4. **Održavanje dopustivosti:** Tokom pretrage, održava se dopustivost rešenja tako što se stalno proveravaju ograničenja.\n",
    "5. **Uređivanje dopustivih rešenja:** Metode se koriste za generisanje i održavanje skupa dopustivih rešenja.\n",
    "6. **Popravljanje:** Ako se naiđe na nedozvoljeno rešenje, mogu se primeniti metode za njegovo ispravljenje kako bi postalo dozvoljeno."
   ]
  },
  {
   "cell_type": "markdown",
   "id": "1d393b80",
   "metadata": {},
   "source": [
    "## 4.4 Prostor rešenja:\n",
    "Prostor rešenja u kojem se vrši optimizacija može se podeliti na:\n",
    "- **Kombinatornu optimizaciju:** Ova vrsta optimizacije se bavi problemima gde je prostor rešenja diskretan (npr. raspoređivanje, putnički problem, itd.).\n",
    "- **Globalnu optimizaciju:** Ova metoda se bavi problemima u kojima su rešenja kontinualna i gde se traži najbolja moguća vrednost funkcije cilja u celokupnom prostoru rešenja.\n",
    "\n",
    "Ove klasifikacije i principi igraju ključnu ulogu u razvoju i primeni optimizacionih algoritama u različitim oblastima, uključujući inženjering, ekonomiju, operativna istraživanja i mnoge druge."
   ]
  },
  {
   "cell_type": "markdown",
   "id": "34897bab",
   "metadata": {},
   "source": [
    "## 4.5 Kombinatorna oprimizacija:\n",
    "Predstavlja oblast optimizacije koja se fokusira na probleme u kojima je prostor rešenja diskretan, a jedan od najpoznatijih primera je **problem trgovackog putnika (TSP - Traveling Salesman Problem)**. \n",
    "\n",
    "U ovom problemu, trgovac treba da obiđe određeni broj gradova tako da se vrati u početni grad, a cilj je minimizirati ukupnu udaljenost ili vreme putovanja.\n",
    "\n",
    "### 4.5.1 Opšta formula algoritma pretrage:\n",
    "**Dok nije zadovoljen kriterijum završetka:** \n",
    "Algoritam se nastavlja dok se ne postigne određeni cilj ili kriterijum.\n",
    "1. **Izračunaj vrednost:** Prvo se izračunava vrednost funkcije cilja za trenutno rešenje.\n",
    "2. **Izračunaj pravac i smer pretrage:** Na osnovu trenutne vrednosti, određuje se pravac u kojem će se nastaviti pretraga.\n",
    "3. **Izračunaj dužinu koraka pretrage:** Definiše se koliko daleko se ide u odabranom pravcu.\n",
    "4. **Pređi u naredno rešenje:** Na osnovu prethodnih koraka, prelazi se na sledeće rešenje u pretrazi.\n",
    "\n",
    "### 4.5.2 Višeciljna optimizacija:\n",
    "Višeciljna optimizacija se koristi kada je potrebno zadovoljiti više kriterijuma (funkcija). Ovo je posebno važno u složenim situacijama kao što su ekonomija i transportni problemi, gde se često moraju razmatrati različiti faktori, poput troškova, vremena, kapaciteta i kvaliteta usluge."
   ]
  },
  {
   "cell_type": "markdown",
   "id": "c8cf8792",
   "metadata": {},
   "source": [
    "## 4.6 Pristupi rešavanju:\n",
    "#### Postoje dva glavna pristupa u rešavanju višeciljnih optimizacija:\n",
    "1. **Pravljenje ponderisanih proseka (agregacija):** Ovaj pristup uključuje kombinovanje više ciljeva u jednu jedinstvenu funkciju cilja putem ponderisanja, što omogućava da se različiti kriterijumi tretiraju kao jedinstveni problem. Na taj način, svaki kriterijum se množi sa svojim težinskim faktorom, a zatim se sumiraju.\n",
    "2. **Pravljenje skupa Pareto-optimalnih rešenja:** Ovaj pristup identifikuje rešenja koja su optimalna u smislu Pareto efikasnosti, što znači da nijedno rešenje ne može biti poboljšano u jednom kriterijumu bez pogoršanja u drugom. Pareto-optimalna rešenja omogućavaju odlučivačima da biraju između različitih opcija u skladu sa svojim preferencama.\n",
    "\n",
    "Ovi pristupi su ključni za uspešno rešavanje složenih problema u optimizaciji, omogućavajući analizu i donošenje odluka u situacijama gde su zahtevi višestruki i često suprotstavljeni."
   ]
  },
  {
   "cell_type": "markdown",
   "id": "54de1d53",
   "metadata": {},
   "source": [
    "## 4.7 Algoritam za rešavanje problema:\n",
    "Algoritam za rešavanje problema predstavlja metod kojim dolazimo do rešenja određenog zadatka ili zadatog problema. Svaki specifičan problem koji rešavamo naziva se **instanca problema**. Na primer, problem prelaska iz tačke A do tačke B može imati različite instance u zavisnosti od specifičnih početnih i krajnjih tačaka.\n",
    "\n",
    "### 4.7.1 Problem odlučivanja:\n",
    "Problem odlučivanja je tip problema gde je cilj potvrditi ili opovrgnuti određeno svojstvo. Ovi problemi pripadaju klasi **P** (polinomijalna složenost), što znači da se mogu rešavati algoritmima koji rade u polinomijalnom vremenu u odnosu na veličinu ulaznih podataka. \n",
    "\n",
    "Većina problema može se svesti na oblik problema odlučivanja. Algoritmi koji rešavaju probleme u polinomijalnom vremenu smatraju se **optimalnim**, jer su vremenski efikasni i rešivi u razumnom vremenu za praktične ulaze.\n",
    "\n",
    "### 4.7.2 Pristupi rešavanju problema:\n",
    "1. **Egzaktno rešavanje:** Ovim pristupom se dolazi do garantovano optimalnog rešenja za problem. Koriste se algoritmi koji pružaju tačan odgovor, ali to može biti vremenski zahtevno za velike probleme.\n",
    "2. **Približno rešavanje:** Približni algoritmi, često bazirani na (meta)heuristikama, pružaju rešenja koja nisu nužno optimalna, ali su dovoljno dobra u praksi. Ovi pristupi su korisni kada je problem previše složen za egzaktno rešavanje u razumnom vremenu (np ili eksponencijalne slozenosti).\n",
    "\n",
    "#### Vremenska složenost i O notacija:\n",
    "Vremenska složenost algoritma opisuje kako se vreme izvršavanja algoritma menja sa veličinom ulaznih podataka. **O notacija** koristi se za izražavanje gornje granice složenosti algoritma i omogućava klasifikaciju algoritama prema njihovoj efikasnosti.\n",
    "\n",
    "#### Eksponencijalni problemi:\n",
    "Vreme izvršavanja raste eksponencijalno sa veličinom ulaznih podataka. Primer eksponencijalnog problema je „pronalazak svih razapinjajućih stabala u potpunom grafu sa n čvorova“ ili „traženje najboljeg poteza u igri šaha“. Eksponencijalni problemi su računski vrlo zahtevni i obično nisu rešivi u razumnom vremenu za velike ulaze.\n",
    "\n",
    "#### Nedeterministički polinomski problemi (np):\n",
    "**np problemi** su problemi za koje je moguće proveriti rešenje u polinomijalnom vremenu, ali nije jasno da li ih možemo i rešiti u polinomijalnom vremenu za svaki slučaj. Za takve probleme nije poznato da li se mogu tačno rešiti u polinomijalnom vremenu.\n",
    "\n",
    "### 4.7.3 Redukcija problema:\n",
    "**Redukcija** se koristi za prevođenje problema na poznati oblik radi lakšeg rešavanja. Na primer, imamo problem $A_1$ za koji postoji poznat algoritam, dok problem $A_2$ predstavlja novi problem koji treba rešiti. Ako možemo prevesti problem $A_2$ u problem $A_1$ (koji već znamo da rešavamo), tada se problem $A_2$ može rešavati algoritmom za $A_1$.\n",
    "\n",
    "### 4.7.4 np-potpunost:\n",
    "**np-potpuni problemi** su specifični np problemi za koje važi da, ako možemo napraviti algoritam koji ih rešava u polinomijalnom vremenu (P složenosti), svi np problemi mogu se rešiti u polinomijalnom vremenu (ovo najverovatnije nije moguce, neki smatraju da su klase P i np odvojene klase). np-potpuni problemi su istovremeno najteži problemi u np klasi i sinonim za np-teške probleme.\n"
   ]
  },
  {
   "cell_type": "markdown",
   "id": "94e9abd7",
   "metadata": {},
   "source": [
    "## 4.8 Optimizacija:\n",
    "Optimizacija se odnosi na proces pronalaženja najboljeg rešenja za zadati problem u prostoru mogućih rešenja. Glavni cilj optimizacije je minimizacija ili maksimizacija određene funkcije cilja, a razlikuju se lokalna i globalna optimizacija.\n",
    "\n",
    "### Lokalna optimizacija:\n",
    "**Lokalna optimizacija** se fokusira na pronalaženje najboljeg rešenja u neposrednom okruženju trenutnog rešenja, često nazivano **lokalni minimum**.\\\n",
    "Nedostatak ovog pristupa je to što, čak i ako dođemo do lokalnog minimuma, možda ćemo propustiti bolje, globalno rešenje.\n",
    "\n",
    "Načina za proširenje pretrage:\n",
    "\n",
    "- **Povećanje koraka pretrage** – iako može pomoći u pronalaženju boljih rešenja, ne garantuje pronalazak globalnog minimuma.\n",
    "- **Nasumično ispitivanje tačaka** – nasumičnim pokušajima, tokom dugog trajanja pretrage, povećava se verovatnoća da ćemo pronaći globalni minimum.\n",
    "\n",
    "### Metaheuristike:\n",
    "Predstavljaju skup opštih metoda koje pružaju okvir za rešavanje optimizacionih problema, često na osnovu stohastičnih, odnosno nasumičnih, procesa. One su korisne kada nemamo precizne informacije o optimalnom rešenju. Uglavnom se baziraju na „slabim“ pretpostavkama ili čak na odsustvu pretpostavki o problemu, čineći ih fleksibilnim za različite primene.\n",
    "\n",
    "### Penjanje uzbrdo:\n",
    "**Penjanje uzbrdo** (eng. Hill Climbing) je tehnika koja se zasniva na **gradijentnom kretanju**. \n",
    "\n",
    "Postupak je sledeći:\n",
    "1. Počnemo sa nekom vrednošću (rešenjem).\n",
    "2. Odredimo kvalitet tog rešenja pomoću fitnes funkcije.\n",
    "3. Blago promenimo početno rešenje, prelazeći u novu iteraciju, i uporedimo rezultate. Ako je novo rešenje bolje, usvajamo ga kao polaznu tačku za sledeću iteraciju.\n",
    "\n",
    "### Intenzifikacija i diverzifikacija:\n",
    "- **Intenzifikacija (exploitation)** – fokusiramo se na pretragu u blizini trenutnog dobrog rešenja, oslanjajući se na postojeća dobra rešenja kako bismo dobili stabilne rezultate.\n",
    "- **Diverzifikacija (exploration)** – povremeno skrećemo sa utvrđenog puta kako bismo istražili nova rešenja i eventualno otkrili bolje mogućnosti, postižmo izabiranjem lošijeg rešenja.\n",
    "\n",
    "### Single-State globalna optimizacija:\n",
    "Uključuje niz koraka za pronalaženje najboljeg mogućeg rešenja iz globalne perspektive, tj. uzimajući u obzir ceo prostor mogućih rešenja.\n",
    "\n",
    "1. **Selection (Izbor)** – biranje trenutnog rešenja kao početne tačke.\n",
    "2. **Jump to Something New (Prelazak na novo)** – prelazak u različite oblasti prostora rešenja, omogućavajući izbegavanje lokalnih minimuma.\n",
    "3. **Use a Large Sample (Korišćenje velikog uzorka)** – istraživanje većeg broja mogućih rešenja kako bi se povećala šansa za pronalaženje globalnog optimuma."
   ]
  },
  {
   "cell_type": "markdown",
   "id": "8b547fb0",
   "metadata": {},
   "source": [
    "# 5. Grafovi\n",
    "\n",
    "**Graf** je matematička struktura koja se koristi za modeliranje odnosa između objekata.\n",
    "\n",
    "Sastoji se od osnovnih komponenti:\n",
    "\n",
    "1. **Čvorovi (vertices)** – predstavljaju entitete u grafu (gradovi).\n",
    "2. **Grane (edges)** – povezuju čvorove, označavajući odnos između njih (putevi izmedju gradova).\n",
    "\n",
    "**Put** – niz grana koji povezuje jedan čvor sa drugim.\\\n",
    "**Ciklus** – put koji počinje i završava u istom čvoru, čineći zatvorenu petlju.\\\n",
    "**Brojčani stepen čvora** – broj grana koje izlaze iz određenog čvora.\\\n",
    "**Izolovani čvor** – čvor koji nije povezan sa nijednim drugim čvorom.\\\n",
    "**Susedi** – čvorovi koji su direktno povezani sa nekim čvorom putem grana.\\\n",
    "**Ekscentričnost čvora** - meri najveću udaljenost (broj grana) do bilo kojeg drugog čvora u grafu. Ovo može biti korisno u analizi mreža kako bi se identifikovali najudaljeniji čvorovi od određenih polaznih tačaka.\\\n",
    "**Komponente povezanosti** - su podgrafovi unutar grafa gde su svi čvorovi međusobno povezani, dok su čvorovi iz različitih komponenti odvojeni jedni od drugih jednom granom. Ovo je ključno u analizi mreža, jer ukazuje na različite grupe unutar strukture grafa.\n",
    "\n",
    "Grafovi su primenljivi u različitim oblastima, kao što su **lingvistika** (analiza strukture rečenica), **informatika**, **biologija** (analiza odnosa u genomima), i **društvene mreže** (modeliranje povezanosti korisnika).\n",
    "\n",
    "## 5.1 Multigraf:\n",
    "**Multigraf** je tip grafa koji sadrži **paralelne grane**, odnosno više grana između istih parova čvorova. Koristi se kada su moguće različite veze između istih entiteta (npr. različiti putevi između dva grada)\n",
    "\n",
    "## 5.2 Težinski i netežinski grafovi:\n",
    "1. **Težinski grafovi** – svaka grana ima pridruženu vrednost ili težinu. (može predstavljati udaljenost, trošak, vreme, itd.)\n",
    "2. **Netežinski grafovi** – grane nemaju težinu. Važno je samo da povezuju čvorove, ne koliko su te veze „teške“ ili „skupe“.\n",
    "\n",
    "## 5.3 Usmereni grafovi:\n",
    "**Usmereni grafovi** su grafovi u kojima svaka grana ima definisan pravac, tj. vodi od jednog čvora ka drugom, poput jednosmernih ulica u saobraćajnim mrežama. U usmerenim grafovima mogu postojati grane koje su dvosmerne.\n",
    "\n",
    "## 5.4 Drvo:\n",
    "**Drvo** je specijalna vrsta grafa koja ima sve čvorove povezane tako da ne sadrži cikluse. Sastoji se od čvorova i grana i karakteriše se time što postoji tačno jedan put između svakih parova čvorova. Drveće se često koristi u informatici za organizaciju podataka (npr. u pretraživačkim algoritmima) jer omogućava strukturu sa efikasnim pretragama i manipulacijama podacima."
   ]
  },
  {
   "cell_type": "markdown",
   "id": "55113cf8",
   "metadata": {},
   "source": [
    "# 6. Linearno programiranje (LP):\n",
    "**Linearno programiranje (LP)** predstavlja optimizaciju linearne funkcije sa ograničenjima koja su izražena kao nejednakosti. Na primer, farmer ima ograničene resurse za sadnju povrća, linearno programiranje može mu pomoći da maksimizira profit unutar tih ograničenja."
   ]
  },
  {
   "cell_type": "markdown",
   "id": "4e67acbf",
   "metadata": {},
   "source": [
    "## 6.1 Pogodan region (Feasible Region):\n",
    "Pogodan region predstavlja prostor rešenja dobijen presecima ograničenja, koji čine prostor u kojem pretražujemo optimalna rešenja. Kod problema sa više promenljivih, ovaj prostor se nalazi u višedimenzionalnom prostoru. Minimalna ili maksimalna vrednost ciljne funkcije će se sigurno naći u nekoj od graničnih tačaka ovog regiona, kao što su teme, ivice ili stranice."
   ]
  },
  {
   "cell_type": "markdown",
   "id": "add023ea",
   "metadata": {},
   "source": [
    "## 6.2 Geometrijski princip rešavanja:\n",
    "Za pronalaženje optimalnog rešenja linearna funkcija (npr. ( $ax + by = c$ )) se \"pomeranjem\" kroz pogodan region (menjanjem vrednosti konstante ( $c$ )) postavlja u najvišu ili najnižu tačku gde dotiče region. Kada funkcija prestane da se pomera unutar ovog prostora, dostigli smo optimalno rešenje.\n",
    "\n",
    "| Svi uslovi                           | Dobijen pogodni region                  |\n",
    "| ------------------------------------ | --------------------------------------- |\n",
    "| ![](../slike/LP/farmerGeometrijski.png) | ![](../slike/LP/farmerDopustiviRegion.png) |\n",
    "\n",
    "Plavo predstavlja ograničenje količine šargarepa, crveno ogranićenje krompira, zeleno da njihov zbir ne prelazi $5000$.\n",
    "\n",
    "Na slici vidimo da je zapravo pogodan region bas presek ove tri boje, racunajuci samo ono u pozitivnom delu.\n",
    "\n",
    "| Min                       | Mid                       | Max                       |\n",
    "| ------------------------- | ------------------------- | ------------------------- |\n",
    "| ![](../slike/LP/minGeom.png) | ![](../slike/LP/midGeom.png) | ![](../slike/LP/maxGeom.png) |\n",
    "\n",
    "Pomeranjem funkcije $ax + by = c$, uvećavanjem konstante $c$ nalazimo maksimum. Minimalno rešenje za $c = 0$, a maksimum za $c = 8000$.\n",
    "\n",
    "Međutim, geometrijski pristup nije efikasan za složenije probleme, te se koristi **Simplex metod**.\n",
    "\n"
   ]
  },
  {
   "cell_type": "markdown",
   "id": "f42fe0ef",
   "metadata": {},
   "source": [
    "## 6.3 Simplex metod:\n",
    "Simplex metod optimizuje linearnu funkciju pomerajući se po ivicama pogodne oblasti, od temena do temena. Na osnovu svojstva da se optimum nalazi u temenima (ili na ivicama), Simplex postupno menja vrednosti promenljivih, identifikujući onu promenljivu koja će uvećati funkciju. Promenljive koje se menjaju nazivamo \"popuštene\" (loose ili non-basic), dok su one koje ostaju nepromenjene \"zategnute\" (tight ili basic).\n",
    "\n",
    "#### Koraci Simplex algoritma:\n",
    "1. Definišemo linearnu funkciju(promenljive se predstavljaju sa x i dodeljenim indeksom) i ograničenja. $f(x_1, x_2) = ax_1 + bx_2$\n",
    "2. Svakom ograničenju dodeljujemo novu promenljivu, čime svodimo nejednakosti na jednakosti. $s_1, s_2,\\ldots$\n",
    "3. Na početku sve s-promenljive su popuštene (loose), i stoje same sa leve strane jednačine.\n",
    "4. Algoritam:\n",
    "   - Biramo promenljivu sa najvećim koeficijentom u funkciji i \"popuštamo\" je.\n",
    "   - Biramo koju s-promenljivu ćemo \"zategnuti\" na osnovu razmera konstanti u ograničenjima.\n",
    "   - Ubacujemo dobijenu vrednost promenljive u funkciju i ponavljamo proces dok svi koeficijenti uz promenljive ne postanu negativni.\n",
    "\n",
    "### 6.3.1 Primer primene simplex algoritma – Farmer:\n",
    "Farmer može posaditi šargarepu (4 tone) i krompir (3 tone), ima 5 tona đubriva (dakle, može posaditi maksimalno 5 tona povrća). Krompir donosi 1,2 evra po kilogramu, dok šargarepa donosi 1,7 evra. Cilj je maksimizacija profita: \n",
    "1. Definišemo funkciju: $f(x_1, x_2) = 1.7 * x_1 + 1.2 * x_2$, sa ograničenjima:\n",
    "$$x_1 \\leq 4000$$\n",
    "$$x_2 \\leq 3000$$\n",
    "$$x_1 + x_2 \\leq 5000$$\n",
    "2. Tight: $x_1$, $x2$:\n",
    "$$x_1 + s_1 = 4000$$\n",
    "$$x_2 + s_2 = 3000$$\n",
    "$$x_1 + x_2 + s_3 = 5000$$\n",
    "3. Loose: $s_1$, $s_2$, $s_3$:\n",
    "$$s_1 = 4000 - x_1$$\n",
    "$$s_2 = 3000 - x_2$$\n",
    "$$s_3 = 5000 - x_1 - x_2$$\n",
    "4. U formuli $max(1.7 * x_1 + 1.2 * x_2)$, najveći koeficijent ima $x_1$, pa prelazi u loose skup, posmatramo u kojim fomrulama se pojavljuje, vidimo ga u 1. i 3., upoređujemo razmere $-4000 \\geq -5000$, dakle $s_1$ prelazi u tight skup. Raspoređujemo opet tight i loose elemente na predodređene strane jednačine, pa se menja samo prva jednačina $x_1 = 4000 - s_1$ i menjamo je u sve ostale:\n",
    "$$x_1 = 4000 - s_1$$\n",
    "$$s_2 = 3000 - x_2$$\n",
    "$$s_3 = 1000 + s_1 - x_2$$\n",
    "$$max(-1.7 * s_1 + 1.2 * x_2 + 6800)$$\n",
    "Kako idalje imamo pozitivne koeficijente u funkciji ponavljamo 4. korak. Sada je najveći koeficijent uz $x_2$ dakle on prelazi u skup loose, upoređujemo razmere $-3000 \\leq -1000$, prebacujemo $s_3$ u tight i dobijemao $x_2 = 1000 - s_1 - s_3$, pa nju menjamo u ostale:\n",
    "$$x_1 = 4000 - s_1$$\n",
    "$$s_2 = 2000 - s_1 + s_3$$\n",
    "$$x_2 = 1000 + s_1 - s_3$$\n",
    "$$max(0.5 * s_1 - 1.2 * s_3 + 8000)$$\n",
    "Kako su obe konstante negative znamo da ako pokušamo da maksimizujemo samo ćemo naći manja rešenja. Da bi našli traženu maksimalnu vrednost dovoljno je da zamenimo $s_1$ i $s_3$ sa 0, dobijamo 8000. Ako nas zanimaju vrednosti $x_1$ i $x_2$ dovoljno je da zamenimo $s_1$ i $s_3$ sa 0 u ograničenjima koje smo dobili, $x_1 = 4000$ i $x_2 = 1000$. Što je i tačno, pogledati maksimalno rešenje geoetrijskim pristupom. \n",
    "\n",
    "Kod linearnih programa, poželjno je koristiti veće brojeve za izražavanje vrednosti. Na primer koristimo tone umesto kilograma, što poboljšava tačnost proračuna.\n",
    "\n"
   ]
  },
  {
   "cell_type": "code",
   "execution_count": 1,
   "id": "f5bcda0f-ca6a-425c-a84a-c66ec0401c81",
   "metadata": {},
   "outputs": [],
   "source": [
    "import linopy as lp"
   ]
  },
  {
   "cell_type": "code",
   "execution_count": 2,
   "id": "15c0361e-67c0-459e-b59e-2d9ea01e66f3",
   "metadata": {},
   "outputs": [
    {
     "name": "stdout",
     "output_type": "stream",
     "text": [
      "Linopy LP model\n",
      "===============\n",
      "\n",
      "Variables:\n",
      "----------\n",
      " * Šargarepa\n",
      " * Krompir\n",
      "\n",
      "Constraints:\n",
      "------------\n",
      " * Maksimalno 4 tone sargarepe\n",
      " * Maksimalno 3 tone krompira\n",
      " * Maksimalno 5 tona djubriva\n",
      "\n",
      "Status:\n",
      "-------\n",
      "initialized\n",
      "Restricted license - for non-production use only - expires 2025-11-24\n",
      "Read LP format model from file /tmp/linopy-problem-t7_kjenm.lp\n",
      "Reading time = 0.00 seconds\n",
      "obj: 3 rows, 2 columns, 4 nonzeros\n",
      "Gurobi Optimizer version 11.0.3 build v11.0.3rc0 (linux64 - \"Fedora Linux 39 (Workstation Edition)\")\n",
      "\n",
      "CPU model: 11th Gen Intel(R) Core(TM) i5-1135G7 @ 2.40GHz, instruction set [SSE2|AVX|AVX2|AVX512]\n",
      "Thread count: 4 physical cores, 8 logical processors, using up to 8 threads\n",
      "\n",
      "Optimize a model with 3 rows, 2 columns and 4 nonzeros\n",
      "Model fingerprint: 0xd4bc8e95\n",
      "Coefficient statistics:\n",
      "  Matrix range     [1e+00, 1e+00]\n",
      "  Objective range  [1e+00, 2e+00]\n",
      "  Bounds range     [0e+00, 0e+00]\n",
      "  RHS range        [3e+03, 5e+03]\n",
      "Presolve removed 2 rows and 0 columns\n",
      "Presolve time: 0.00s\n",
      "Presolved: 1 rows, 2 columns, 2 nonzeros\n",
      "\n",
      "Iteration    Objective       Primal Inf.    Dual Inf.      Time\n",
      "       0    8.5000000e+03   1.250000e+02   0.000000e+00      0s\n",
      "       1    8.0000000e+03   0.000000e+00   0.000000e+00      0s\n",
      "\n",
      "Solved in 1 iterations and 0.01 seconds (0.00 work units)\n",
      "Optimal objective  8.000000000e+03\n",
      "Optimalno rešenje: \n",
      "\t Šargarepa = 4000.0\n",
      "\t Krompira = 1000.0\n",
      "\t Zarada = 8000.0\n"
     ]
    }
   ],
   "source": [
    "modelFarmer = lp.Model()\n",
    "\n",
    "x1 = modelFarmer.add_variables(lower=0.0, name=\"Šargarepa\")\n",
    "x2 = modelFarmer.add_variables(lower=0.0, name=\"Krompir\")\n",
    "\n",
    "modelFarmer.add_objective(1.7*x1 + 1.2*x2, sense='max')\n",
    "\n",
    "modelFarmer.add_constraints(x1 <= 4000, name=\"Maksimalno 4 tone sargarepe\")\n",
    "modelFarmer.add_constraints(x2 <= 3000, name=\"Maksimalno 3 tone krompira\")\n",
    "modelFarmer.add_constraints(x1 + x2 <= 5000, name=\"Maksimalno 5 tona djubriva\")\n",
    "\n",
    "print(modelFarmer)\n",
    "\n",
    "modelFarmer.solve()\n",
    "\n",
    "print(f'Optimalno rešenje: \\n\\t Šargarepa = {x1.solution.values}'\n",
    "      f'\\n\\t Krompira = {x2.solution.values}'\n",
    "      f'\\n\\t Zarada = {1.7*x1.solution.values + 1.2*x2.solution.values}')"
   ]
  },
  {
   "cell_type": "markdown",
   "id": "20fc882d",
   "metadata": {},
   "source": [
    "Postoji i prošireni pristup poznat kao **Integer Linear Programming (ILP)**, koji dozvoljava samo celobrojne vrednosti, što može biti korisno u praktičnim situacijama gde su delimična rešenja nemoguća.\n",
    "\n",
    "**Dualni problem**: Od prethodno postavljenog problema pravimo novi koji nam daje gornje ograničenje rešenja (koliko maksimalno para možemo da dobijemo a da su uslovi ispunjeni), rešenje dualnog problema će dati isto rešenje kao prvo postavljen problem.\n",
    "\n",
    "Za gore navedena ograničenja tražimo takvo $y_1$, $y_2$ i $y_3$ da kada pomnože redom ograničenja dobijemo vrednosti koje u zbiru nam govore da tražena maksimalna vrednost ne može biti veca od dobijene. Moraju biti nenegativni, i posmatrajući ograničenja predstavljamo $x_1$ preko $y_1 + y_3 \\geq$ 1.2 pošto je to baš vrednost koja stoji pored $x_1$. Slično za $x_2$ pravimo novo ograničenje $y_2$ + $y_3$ $\\geq$ 1.7. \n",
    "Ovo su nam nova ograničenja a funkciju više ne želimo da maksimizujemo vež minimizujemo i ona menja oblik: min(3000 * $y_1$ + 4000 * $y_2$ + 5000 * $y_3$)."
   ]
  },
  {
   "cell_type": "code",
   "execution_count": 3,
   "id": "8000c08c-3254-465d-ad72-fcea6c70acd7",
   "metadata": {},
   "outputs": [],
   "source": [
    "import linopy as lp"
   ]
  },
  {
   "cell_type": "code",
   "execution_count": 4,
   "id": "024fc17c-3452-484c-bb3e-12a386f6a3b5",
   "metadata": {},
   "outputs": [
    {
     "name": "stdout",
     "output_type": "stream",
     "text": [
      "Linopy LP model\n",
      "===============\n",
      "\n",
      "Variables:\n",
      "----------\n",
      " * Neiskorišćena šargarepa\n",
      " * Neiskorišćeni krompir\n",
      " * Neiskorišćeno đubrivo\n",
      "\n",
      "Constraints:\n",
      "------------\n",
      " * Gubitak koji se odnosi na šargarepu\n",
      " * Gubitak koji se odnosi na krompir\n",
      "\n",
      "Status:\n",
      "-------\n",
      "initialized\n",
      "Restricted license - for non-production use only - expires 2025-11-24\n",
      "Read LP format model from file /tmp/linopy-problem-jq3pfwll.lp\n",
      "Reading time = 0.00 seconds\n",
      "obj: 2 rows, 3 columns, 4 nonzeros\n",
      "Gurobi Optimizer version 11.0.3 build v11.0.3rc0 (linux64 - \"Fedora Linux 39 (Workstation Edition)\")\n",
      "\n",
      "CPU model: 11th Gen Intel(R) Core(TM) i5-1135G7 @ 2.40GHz, instruction set [SSE2|AVX|AVX2|AVX512]\n",
      "Thread count: 4 physical cores, 8 logical processors, using up to 8 threads\n",
      "\n",
      "Optimize a model with 2 rows, 3 columns and 4 nonzeros\n",
      "Model fingerprint: 0x1c0d1e4c\n",
      "Coefficient statistics:\n",
      "  Matrix range     [1e+00, 1e+00]\n",
      "  Objective range  [3e+03, 5e+03]\n",
      "  Bounds range     [0e+00, 0e+00]\n",
      "  RHS range        [1e+00, 2e+00]\n",
      "Presolve time: 0.01s\n",
      "Presolved: 2 rows, 3 columns, 4 nonzeros\n",
      "\n",
      "Iteration    Objective       Primal Inf.    Dual Inf.      Time\n",
      "       0    0.0000000e+00   2.900000e+00   0.000000e+00      0s\n",
      "       2    8.0000000e+03   0.000000e+00   0.000000e+00      0s\n",
      "\n",
      "Solved in 2 iterations and 0.01 seconds (0.00 work units)\n",
      "Optimal objective  8.000000000e+03\n",
      "Optimalno rešenje: \n",
      "\t Neiskorišćena šargarepa = 0.0\n",
      "\t Neiskorišćeni krompir = 0.5\n",
      "\t Neiskorišćeno đubrivo = 1.2\n",
      "\t Zarada = 8000.0\n"
     ]
    }
   ],
   "source": [
    "modelFarmerDual = lp.Model()\n",
    "\n",
    "y1 = modelFarmerDual.add_variables(lower=0.0, name=\"Neiskorišćena šargarepa\")\n",
    "y2 = modelFarmerDual.add_variables(lower=0.0, name=\"Neiskorišćeni krompir\")\n",
    "y3 = modelFarmerDual.add_variables(lower=0.0, name=\"Neiskorišćeno đubrivo\")\n",
    "\n",
    "modelFarmerDual.add_objective(3000*y1 + 4000*y2 + 5000*y3, sense='min')\n",
    "\n",
    "modelFarmerDual.add_constraints(y2+y3 >= 1.7, name=\"Gubitak koji se odnosi na šargarepu\")\n",
    "modelFarmerDual.add_constraints(y1+y3 >= 1.2, name=\"Gubitak koji se odnosi na krompir\")\n",
    "\n",
    "print(modelFarmerDual)\n",
    "\n",
    "modelFarmerDual.solve()\n",
    "\n",
    "print(f'Optimalno rešenje: \\n\\t Neiskorišćena šargarepa = {y1.solution.values}'\n",
    "      f'\\n\\t Neiskorišćeni krompir = {y2.solution.values}'\n",
    "      f'\\n\\t Neiskorišćeno đubrivo = {y3.solution.values}'\n",
    "      f'\\n\\t Zarada = {3000*y1.solution.values + 4000*y2.solution.values + 5000*y3.solution.values}')"
   ]
  },
  {
   "cell_type": "markdown",
   "id": "ca70c7ba",
   "metadata": {},
   "source": [
    "# 7. Celobrojno programiranje (ILP):\n",
    "\n",
    "Šta ako se bavimo izradom stolica i stolova, koristeći gore LP način možemo da dobijemo rešenje koje nam donosi maksimalan profit ali izradom pola stolice.... Ovo nema smisla, zbog toga postoji celebrojno programiranje (**Integer linear prograimmng**) koje ograničava da su rešenja u skupu prirodnih brojeva."
   ]
  },
  {
   "cell_type": "markdown",
   "id": "cf0c3de0",
   "metadata": {},
   "source": [
    "## 7.1 Pogodan region ILP (ILP Feasable region):\n",
    "\n",
    "Rešavamo problem stolica i stolova, imamo da stolice vrede $20$, stolovi $50$. Izrada stolica troši $10$ jedinica drveta, a stolova $15$, vremenski stolice se prave $2$ sata a stolovi $5$ sati. Koja je maksimalna zarada ako imamo $15$ sati i $60$ jedinica drveta za izradu.  \n",
    "\n",
    "Grafički prikaz bi bio sličan kao za LP, prvo predstavimo feasable region kao da su dopuštena realna rešenja, nakon čega dodajemo ograničenje celobrojnih brojeva.\n",
    "\n",
    "| LP ograničenja                   | LP Fesable region                   | ILP Fesable region                   |\n",
    "| -------------------------------- | ----------------------------------- | ------------------------------------ |\n",
    "| ![](../slike/ILP/LPOgranicenje.png) | ![](../slike/ILP/LPFeasableRegion.png) | ![](../slike/ILP/ILPFeasableRegion.png) |\n",
    "\n",
    "Tačke predstavljaju sva dopuštena rešenja.\n",
    "\n",
    "Ukoliko rešavamo problem koji sadrži i paramtere koji moraju biti celobrojni i parametara koji smeju imati realne vrednosti ovo se i dalje naziva ILP.\n"
   ]
  },
  {
   "cell_type": "markdown",
   "id": "22c11adb",
   "metadata": {},
   "source": [
    "## 7.2 Geometrijski princip rešavanja ILP:\n",
    "\n",
    "Predstavimo funkciju koju želimo da maksimizujemo kao $f(x_1, x_2) = c$, gde je $c$ konstanta, i samo prevlačimo funkciju po regionu dok ne dotaknemo poslednu pogodnu tačku.\n",
    "\n",
    "U našem primeru ova funkcija je $20 * x_1 + 50 * x_2 = c$\n",
    "\n",
    "| Min                       | Mid                       | Max                       |\n",
    "| ------------------------- | ------------------------- | ------------------------- |\n",
    "| ![](../slike/ILP/ILPmin.png) | ![](../slike/ILP/ILPmid.png) | ![](../slike/ILP/ILPmax.png) |\n",
    "\n",
    "Maksimalnu zaradu dostižemo kada napravimo $3$ stola i ni jednu stolicu, zarada je $150$.\n"
   ]
  },
  {
   "cell_type": "markdown",
   "id": "75d337ed",
   "metadata": {},
   "source": [
    "## 7.3. Primeri ILP problema\n",
    "\n",
    "### 7.3.1 Problem ranca:\n",
    "Imamo 8 različitih objekata svaki ima svoju težinu (4, 2, 8, 3, 7, 5, 9, 6) i vrednost (19, 17, 30, 13, 25, 29, 23, 10). Imamo ranac koji može da nosi maksimalno 17kg. Naš zadatak je da nađemo maksimalnu  zaradu, ali da ne pređemo ograničenje težine koju ranac može da nosi.\n",
    "\n",
    "Za ovaj problem možemo da koristimo binarne promenljive (jesmo li uzeli ili ne objekat).\n",
    "Postavka zadatka je sledeća:\n",
    "1. Ograničavamo svaku promenljivu da može biti $1$ ili $0$ koristeći sledeća dva ograničenja:\n",
    "\t$$0 \\leq o_1$$ \n",
    "\t$$o_2 \\leq 1$$\n",
    "\tIstu stvar bi uradili za svaki objekat:\n",
    "\t$$0 \\leq o_1, o_2, o_3, o_4, o_5, o_6, o_7, o_8 \\leq 1$$\n",
    "1. Pišemo ostala ograničenja kao što bi inače pisali u LP:\n",
    "\tOgraničenje težine:\n",
    "\t$$4 * o_1 + 2 * o_2 + 8 * o_3 + 3 * o_4 + 7 * o_5 + 5 * o_6 + 9 * o_7 + 6 * o_8 \\leq 17$$\n",
    "3. I konačno funkcija koju želimo da maksimizujemo:\n",
    "\t$$max(19 * o_1 + 17 * o_2 + 30 * o_3 + 13 * o_4 + 25 * o_5 + 29 * o_6 + 23 * o_8 + 10 * o_8)$$\n",
    "\tRadi lepšeg ispisa možemo zameniti sve ove promenljive vektorima.\n"
   ]
  },
  {
   "cell_type": "code",
   "execution_count": 5,
   "id": "fbaae7c6-b66e-4245-bd3b-0cd2464beacb",
   "metadata": {},
   "outputs": [],
   "source": [
    "import gurobipy as gp"
   ]
  },
  {
   "cell_type": "code",
   "execution_count": 6,
   "id": "0e062f02-5fc3-4525-8118-d6a8191ae04c",
   "metadata": {},
   "outputs": [],
   "source": [
    "values = [19, 17, 30, 13, 25, 29, 23, 10]\n",
    "weights = [4, 2, 8, 3, 7, 5, 9, 6]\n",
    "max_weight = 17"
   ]
  },
  {
   "cell_type": "code",
   "execution_count": 7,
   "id": "d456c8ab-e092-467e-9eeb-5ba5ec73299f",
   "metadata": {},
   "outputs": [
    {
     "name": "stdout",
     "output_type": "stream",
     "text": [
      "Restricted license - for non-production use only - expires 2025-11-24\n",
      "Gurobi Optimizer version 11.0.3 build v11.0.3rc0 (linux64 - \"Fedora Linux 39 (Workstation Edition)\")\n",
      "\n",
      "CPU model: 11th Gen Intel(R) Core(TM) i5-1135G7 @ 2.40GHz, instruction set [SSE2|AVX|AVX2|AVX512]\n",
      "Thread count: 4 physical cores, 8 logical processors, using up to 8 threads\n",
      "\n",
      "Optimize a model with 1 rows, 8 columns and 8 nonzeros\n",
      "Model fingerprint: 0xb3d397e7\n",
      "Variable types: 0 continuous, 8 integer (8 binary)\n",
      "Coefficient statistics:\n",
      "  Matrix range     [2e+00, 9e+00]\n",
      "  Objective range  [1e+01, 3e+01]\n",
      "  Bounds range     [1e+00, 1e+00]\n",
      "  RHS range        [2e+01, 2e+01]\n",
      "Found heuristic solution: objective 79.0000000\n",
      "Presolve removed 1 rows and 8 columns\n",
      "Presolve time: 0.00s\n",
      "Presolve: All rows and columns removed\n",
      "\n",
      "Explored 0 nodes (0 simplex iterations) in 0.01 seconds (0.00 work units)\n",
      "Thread count was 1 (of 8 available processors)\n",
      "\n",
      "Solution count 2: 84 79 \n",
      "\n",
      "Optimal solution found (tolerance 1.00e-04)\n",
      "Best objective 8.400000000000e+01, best bound 8.400000000000e+01, gap 0.0000%\n",
      "Optimalno rešenje: \n",
      "\t izabrani_objekti = [0.0, 1.0, 0.0, 1.0, 1.0, 1.0, 0.0, 0.0]\n",
      "\t vrednost_ranca = 84.0\n",
      "\t težina_ranca = 17.0\n"
     ]
    }
   ],
   "source": [
    "modelRanac = gp.Model(\"simple_lp\")\n",
    "\n",
    "atrb = []\n",
    "\n",
    "# Definišemo sve varibale, odnosno sve predmete koje možemo da izaberemo\n",
    "# gurobipy podržava baratanje sa binarnim promenljivim, tako da gore navedena ograničenja za promenljive ne važi\n",
    "for i in range(len(values)):\n",
    "    atrb.append(modelRanac.addVar(lb=0, vtype=gp.GRB.BINARY, name=f'x{i}'))\n",
    "\n",
    "# Postavljamo funkciju koju oprimizujemo\n",
    "modelRanac.setObjective(gp.quicksum(values[i] * atrb[i] for i in range(len(atrb))), gp.GRB.MAXIMIZE)\n",
    "\n",
    "# Postavljamo funkciju ograničenja\n",
    "modelRanac.addConstr(gp.quicksum(weights[i] * atrb[i] for i in range(len(atrb))) <= max_weight, f\"Maksimalna težina ranca {max_weight}kg\")\n",
    "\n",
    "modelRanac.optimize()\n",
    "\n",
    "if modelRanac.status == gp.GRB.OPTIMAL:\n",
    "    print(f'Optimalno rešenje: \\n\\t izabrani_objekti = {[atrb[i].X for i in range(len(atrb))]}'\n",
    "          f'\\n\\t vrednost_ranca = {sum(values[i] * atrb[i].X for i in range(len(atrb)))}'\n",
    "          f'\\n\\t težina_ranca = {sum(weights[i] * atrb[i].X for i in range(len(atrb)))}')\n",
    "else:\n",
    "    print(\"Nema optimalno rešenje\")"
   ]
  },
  {
   "cell_type": "markdown",
   "id": "d54d3c61-81a0-49dc-aba8-9d2c9ad4008f",
   "metadata": {},
   "source": [
    "### 7.3.2 Problem stolara:\n",
    "Stolar može da napravi stolove ili stolice, vrednosti i vreme izrade respektivno 50, 5h i 20, 2h. \n",
    "Koliko maksimalno stolar može da zaradi u 15 sati, ako ima 60 jedinica drveta (stolovi troše 15 a stolice 10 jedinica drveta)?"
   ]
  },
  {
   "cell_type": "code",
   "execution_count": 8,
   "id": "3b016a50-775c-473e-bb53-eba2cd02c6a0",
   "metadata": {},
   "outputs": [],
   "source": [
    "import gurobipy as gp"
   ]
  },
  {
   "cell_type": "code",
   "execution_count": 9,
   "id": "508a1556-5d78-42cc-9585-dfef74b76f24",
   "metadata": {},
   "outputs": [],
   "source": [
    "sto = [50, 5, 15] #[vrednost, vreme, potrošnja]\n",
    "stolica = [20, 2, 10]\n",
    "vreme = 15\n",
    "drvo = 60"
   ]
  },
  {
   "cell_type": "code",
   "execution_count": 10,
   "id": "5995850a-130a-426a-a42e-be717f004037",
   "metadata": {},
   "outputs": [
    {
     "name": "stdout",
     "output_type": "stream",
     "text": [
      "Gurobi Optimizer version 11.0.3 build v11.0.3rc0 (linux64 - \"Fedora Linux 39 (Workstation Edition)\")\n",
      "\n",
      "CPU model: 11th Gen Intel(R) Core(TM) i5-1135G7 @ 2.40GHz, instruction set [SSE2|AVX|AVX2|AVX512]\n",
      "Thread count: 4 physical cores, 8 logical processors, using up to 8 threads\n",
      "\n",
      "Optimize a model with 2 rows, 2 columns and 4 nonzeros\n",
      "Model fingerprint: 0x63242e55\n",
      "Variable types: 0 continuous, 2 integer (0 binary)\n",
      "Coefficient statistics:\n",
      "  Matrix range     [2e+00, 2e+01]\n",
      "  Objective range  [2e+01, 5e+01]\n",
      "  Bounds range     [0e+00, 0e+00]\n",
      "  RHS range        [2e+01, 6e+01]\n",
      "Found heuristic solution: objective 150.0000000\n",
      "Presolve time: 0.00s\n",
      "Presolved: 2 rows, 2 columns, 4 nonzeros\n",
      "Variable types: 0 continuous, 2 integer (0 binary)\n",
      "\n",
      "Root relaxation: cutoff, 0 iterations, 0.00 seconds (0.00 work units)\n",
      "\n",
      "Explored 1 nodes (0 simplex iterations) in 0.01 seconds (0.00 work units)\n",
      "Thread count was 8 (of 8 available processors)\n",
      "\n",
      "Solution count 1: 150 \n",
      "\n",
      "Optimal solution found (tolerance 1.00e-04)\n",
      "Best objective 1.500000000000e+02, best bound 1.500000000000e+02, gap 0.0000%\n",
      "Optimalno rešenje: \n",
      "\t stolova = 3.0\n",
      "\t stolica = -0.0\n",
      "\t potrošeno vremena/drveta = 15.0h/45.0\n",
      "\t zarada = 150.0\n"
     ]
    }
   ],
   "source": [
    "modelStolar = gp.Model()\n",
    "\n",
    "x1 = modelStolar.addVar(lb=0, vtype=gp.GRB.INTEGER, name='stolovi')\n",
    "x2 = modelStolar.addVar(lb=0, vtype=gp.GRB.INTEGER, name='stolice')\n",
    "\n",
    "modelStolar.setObjective(x1*sto[0] + x2*stolica[0], gp.GRB.MAXIMIZE)\n",
    "\n",
    "modelStolar.addConstr(x1*sto[1] + x2*stolica[1] <= vreme, name='Maksimalno vreme proizvodnje')\n",
    "modelStolar.addConstr(x1*sto[2] + x2*stolica[2] <= drvo, name='Dostupno drveta za izradu')\n",
    "\n",
    "modelStolar.optimize()\n",
    "\n",
    "if modelStolar.status == gp.GRB.OPTIMAL:\n",
    "    print(f'Optimalno rešenje: \\n\\t stolova = {x1.X}'\n",
    "          f'\\n\\t stolica = {x2.X}'\n",
    "          f'\\n\\t potrošeno vremena/drveta = {x1.X*sto[1] + x2.X*stolica[1]}h/{x1.X*sto[2] + x2.X*stolica[2]}'\n",
    "          f'\\n\\t zarada = {x1.X*sto[0] + x2.X*stolica[0]}')\n",
    "else:\n",
    "    print(\"Nema optimalno rešenje\")"
   ]
  },
  {
   "cell_type": "markdown",
   "id": "a419a9de",
   "metadata": {},
   "source": [
    "# 8. Metaheuristike:\n",
    "\n",
    "**Heuristika** je metod koji \"navodi\" algoritam ka potencijalno dobrom rešenju, bez garancije da će pronaći optimalno rešenje. Ovi pristupi često služe za rešavanje problema gde je kompletna pretraga prostora rešenja nepraktična zbog vremenskih ili računarskih ograničenja.\n",
    "\n",
    "**Metaheuristike** (meta - apstrakcija) su generalizovane heuristike koje se primenjuju na širi spektar problema, pružajući okvir za rešavanje sličnih problema. One koriste apstraktne principe koji mogu da se prilagode specifičnostima konkretnog problema i time \"navedu\" pretragu u dobrom smeru. Dakle: \n",
    "1. Nisu specifične za dati problem već skup problema\n",
    "2. Podpomaže algoritmu da se ne zaglavi na lokalnim rešenjima i time efikasnije istraže prostor rešenja\n",
    "3. Nisu determinističke\n",
    "\n",
    "Primeri metaheuristika su: Genetski algoritmi (GA), Simulirano kaljenje (Simulated annealing), Optimizacija kolonije mrava (Ant colony optimization ACO), Optimizacija grupe čestica (Partical sworm optimization PSO), Variable neighborhood search (VNS) ...\n",
    "\n",
    "Kako metaheuristike nemaju ideju o kvalitetu rešenja uglavnom se zaustavljaju na osnovu nekih spoljašnjih faktora (kao što su vreme rada algoritma ili broj iteracija). \n",
    "Kako nisu rešenja egzaktnog problema uglavnom se koriste u kombinaciji sa egzaktnim problemima.\n",
    "\n",
    "Relativno je nova oblast koja nije bazirana ni na jednom dokazu,  teoremi.\n",
    "\n",
    "Metaheuristike na osnovu broja rešenja dele se na:\n",
    "1. **S-Metaheuristike (S - Single)** - algoritam se vrši nad jednim rešenjem koje unapređujemo vremenom. (VNS, Simulated annealing, gradijent ...)\n",
    "2. **P-Metaheuristike (P - Population)** - algoritam se bavi populacijom rešenja gde svaka jedinka se kreće ka rešenju. (GA, ACO, PSO ...)"
   ]
  },
  {
   "cell_type": "markdown",
   "id": "658fc7cc",
   "metadata": {},
   "source": [
    "## 8.1 Trajectory methods (S - Metaheuristics):\n",
    "U ovu grupu spadaju sve one metaheuristike koje se bave jednim rešenjem koje unapređuju vremenom.\n",
    "\n",
    "Jedan od poznatih metaheuristika ovog tipa jeste VNS ili Variable neighborhood search, koji funkcioniše po sledećem principu:\n",
    "1. Izabere neko pseudo nasumično rešenje\n",
    "2. Odredi njegov kvalitet\n",
    "3. Vršimo **Shake** operaciju koja od našeg sadašnjeg rešenja pravi nova rešenja u njegovoj okolini. \n",
    "\t- prvo se predstavljaju sva rešenja dobijena izmenom jednog parametra prethodnog rešenja\n",
    "\t- ukoliko nije nađeno bolje rešenje povećavamo broj parametara koji smeju da se izmene i ponavljamo prethodni korak\n",
    "\t- ukoliko smo našli bolje rešenje, ili više nemamo parametre koje možemo da izmenimo, prekidamo postupak\n",
    "4. Sada bolje dobijeno rešenje, ukoliko je takvo nađeno, postavljamo kao novo optimalno rešenje i ovaj postupak ponavljamo dok ne istekne broj iteracija ili neko vremensko ograničenje.\n",
    "\n",
    "**Primer**: tražimo $x$ za koje funkcija $f(x) = 10 + x^2 - \\cos{2\\pi x}$ dostiže minimum. Kako se ovde bavimo jednom promenljivom shake funkcija ce biti malo drugačija, ali ideja je slična. \n",
    "Funkciju **Shake** možemo predstaviti kao funkciju koja pravi od našeg trenutnog rešenja $x_{local}$ dva rešenja $x_{left}$ i $x_{right}$ koji se izračunavaju kao:\n",
    "$$x_{left} = x_{local} - value$$\n",
    "$$x_{right} = x_{local} + value$$\n",
    "a $value$ je vrednost koja za svako novo shake-ovanje ima redom vrednosti $[stepSize, nSize]$, nSize je najveća okolina koja se posmatra. \n",
    "Izaberimo neku nasumičnu tačku $x_{local}$.\n",
    "\n",
    "Okoline koje dobijemo $x_{left}$ i $x_{right}$ ukoliko pronalazimo da je vrednost u nekoj od ove dve tačke manja od trenutnog rešenja, uzimamo to rešenje kao novi optimum.\n",
    "\n",
    "Ukoliko u okolini tačke prve dve vrednosti dobijene shake-om $x_{left}$ i $x_{right}$ nisu novi optimum, ponavljamo shake,\n",
    "tek kada se desi prvo poboljšanje, ili dostignemo maksimalnu okolinu, prekidamo shak-ovanje i nastavljamo dalje sa izvršavanjem glavne petlje.\n",
    "\n",
    "Dalje se isti postupak ponavlja dok ne dođemo do konačnog rešenja kada više ne možemo više da poboljšamo rešenje ili nam je ponestalo iteracija.\n"
   ]
  },
  {
   "cell_type": "code",
   "execution_count": 11,
   "id": "723f17ef-cf30-4e04-bed6-dd58b955bed6",
   "metadata": {},
   "outputs": [],
   "source": [
    "import numpy as np\n",
    "import random"
   ]
  },
  {
   "cell_type": "code",
   "execution_count": 12,
   "id": "d76553fd-6c1e-4436-a1c1-30a7dbe76f4b",
   "metadata": {},
   "outputs": [],
   "source": [
    "def shakeVNS(step: float, k: int) -> float:\n",
    "    \"\"\"\n",
    "    Generate a perturbation value for the Variable Neighborhood Search (VNS) algorithm.\n",
    "\n",
    "    This function computes a value based on the step size and the current neighborhood level, \n",
    "    which is used to explore the search space in VNS.\n",
    "\n",
    "    Args:\n",
    "        step (float): The step size used to scale the perturbation. Determines the granularity of exploration.\n",
    "        k (int): The current neighborhood level. Higher values result in larger perturbations.\n",
    "\n",
    "    Returns:\n",
    "        float: The computed perturbation value.\n",
    "\n",
    "    Example:\n",
    "        >>> shakeVNS(0.1, 3)\n",
    "        0.3\n",
    "        >>> shakeVNS(0.5, 2)\n",
    "        1.0\n",
    "    \"\"\"\n",
    "    return step*k"
   ]
  },
  {
   "cell_type": "code",
   "execution_count": 13,
   "id": "1ddbffdf-2043-49ac-ad8a-a86eb74cf469",
   "metadata": {},
   "outputs": [],
   "source": [
    "def minVNS(function: callable, iters: int = 100, stepSize: float = 0.1, nSize: int = 3, domain: list = [-10e10, 10e10]) -> list:\n",
    "    \"\"\"\n",
    "    Minimize a single-variable function using the Variable Neighborhood Search (VNS) algorithm.\n",
    "\n",
    "    This implementation of VNS explores the neighborhood around a solution to iteratively \n",
    "    find a minimum of the given function. The algorithm adjusts its neighborhood size and \n",
    "    explores left and right directions for improvement.\n",
    "\n",
    "    Args:\n",
    "        function (callable): The objective function to minimize. Should accept a single float and return a float.\n",
    "        iters (int, optional): Maximum number of iterations. Defaults to 100.\n",
    "        stepSize (float, optional): Step size for neighborhood exploration. Smaller values create finer exploration. Defaults to 0.1.\n",
    "        nSize (int, optional): Maximum number of neighborhood levels. Determines the extent of search around the solution. Defaults to 3.\n",
    "        domain (list, optional): Search domain specified as [lower_bound, upper_bound]. Defaults to [-10e10, 10e10].\n",
    "\n",
    "    Returns:\n",
    "        tuple: A tuple containing:\n",
    "            - xloc (float): The best solution found (local minimum).\n",
    "            - graph (list): A list of lists, where each sublist contains:\n",
    "                - Current location of the solution.\n",
    "                - Left exploration value.\n",
    "                - Right exploration value.\n",
    "\n",
    "    Example:\n",
    "        >>> def quadratic(x):\n",
    "        ...     return x**2 + 3*x + 5\n",
    "        ...\n",
    "        >>> result, trace = minVNS(quadratic, iters=50, stepSize=0.5, nSize=5, domain=[-10, 10])\n",
    "        >>> print(\"Optimal Solution:\", result)\n",
    "        >>> print(\"Search Trace:\", trace)\n",
    "    \"\"\"\n",
    "    a = np.floor(domain[0])\n",
    "    b = np.floor(domain[1])\n",
    "    nSize = int(nSize / stepSize)\n",
    "    xloc = random.uniform(a, b)\n",
    "    xnew = xloc\n",
    "    graph = [[xloc, 0, 0]]\n",
    "    for it in range(iters):\n",
    "        for i in range(1, nSize):\n",
    "            value = shakeVNS(stepSize, i)\n",
    "            xleft = np.clip(xloc - value, a, b)\n",
    "            xright = np.clip(xloc + value, a, b)\n",
    "            \n",
    "            if function(xleft) < function(xloc):\n",
    "                xnew = xleft\n",
    "                graph.append([xleft, xleft, xright])\n",
    "                break\n",
    "            elif function(xright) < function(xloc):\n",
    "                xnew = xright\n",
    "                graph.append([xright, xleft, xright])\n",
    "                break\n",
    "            else:\n",
    "                graph.append([xloc, xleft, xright])\n",
    "        \n",
    "        if abs(xnew - xloc) < 10e-5:\n",
    "            xloc = xnew\n",
    "            break\n",
    "        xloc = xnew\n",
    "\n",
    "    return xloc, graph"
   ]
  },
  {
   "cell_type": "code",
   "execution_count": 14,
   "id": "5fe03c9a-97bc-4c5b-b936-a008397e8c31",
   "metadata": {},
   "outputs": [],
   "source": [
    "def fVNS(x: float) -> float:\n",
    "    return 10 + x**2 - 10*np.cos(2*np.pi*x)"
   ]
  },
  {
   "cell_type": "code",
   "execution_count": 15,
   "id": "37a4e215-e42a-4fc1-b3b9-ae503d151dae",
   "metadata": {},
   "outputs": [],
   "source": [
    "domainVNS = [-5.12, 5.12]\n",
    "stepVNS = 0.1\n",
    "iterationsVNS = int(10e7)\n",
    "neighbourhoodVNS = 1.5"
   ]
  },
  {
   "cell_type": "code",
   "execution_count": 16,
   "id": "580a7cfb-c0ac-4d15-b5b8-71151c6ab653",
   "metadata": {},
   "outputs": [
    {
     "name": "stdout",
     "output_type": "stream",
     "text": [
      "Tacka minimuma: (-0.03475593891071593, 0.23870664659597196)\n"
     ]
    }
   ],
   "source": [
    "xlocVNS, graphVNS = minVNS(fVNS, iters=iterationsVNS, stepSize=stepVNS, nSize=neighbourhoodVNS, domain=domainVNS)\n",
    "print(f\"Tacka minimuma: ({xlocVNS}, {fVNS(xlocVNS)})\")"
   ]
  },
  {
   "cell_type": "markdown",
   "id": "89c64b2a-987f-4f4c-908d-d1dc33cb1513",
   "metadata": {},
   "source": [
    "### Iscrtavanje:"
   ]
  },
  {
   "cell_type": "code",
   "execution_count": 17,
   "id": "acdd8391-35e9-4203-a26b-11041a138077",
   "metadata": {},
   "outputs": [],
   "source": [
    "import matplotlib.pyplot as plt\n",
    "import ipywidgets as widgets"
   ]
  },
  {
   "cell_type": "code",
   "execution_count": 18,
   "id": "cb551a9c-22e1-4159-8b6f-f190470691f6",
   "metadata": {},
   "outputs": [],
   "source": [
    "xpVNS = np.linspace(np.floor(domainVNS[0]), np.ceil(domainVNS[1]), num = 1000)\n",
    "ypVNS = [fVNS(x) for x in xpVNS]\n",
    "\n",
    "def drawVNS(i):\n",
    "    xloc = graphVNS[i][0]\n",
    "    xleft = graphVNS[i][1]\n",
    "    xright = graphVNS[i][2]\n",
    "\n",
    "    if xleft != 0 and xright != 0:\n",
    "        plt.vlines(x = xleft, ymin = 0, ymax = fVNS(xleft), colors = 'purple')\n",
    "        plt.vlines(x = xright, ymin = 0, ymax = fVNS(xright), colors = 'purple')\n",
    "\n",
    "    plt.plot(xpVNS, ypVNS)\n",
    "    plt.scatter(xloc, fVNS(xloc), marker=\"o\", c=\"red\")\n",
    "    plt.show()"
   ]
  },
  {
   "cell_type": "code",
   "execution_count": 19,
   "id": "8eabfeac-3e6c-4e0c-a6b5-8bc2e453de72",
   "metadata": {},
   "outputs": [
    {
     "data": {
      "application/vnd.jupyter.widget-view+json": {
       "model_id": "fa1ea9d918cd4ac5bb23078e504f0f05",
       "version_major": 2,
       "version_minor": 0
      },
      "text/plain": [
       "interactive(children=(IntSlider(value=0, description='i', max=36), Output()), _dom_classes=('widget-interact',…"
      ]
     },
     "metadata": {},
     "output_type": "display_data"
    },
    {
     "name": "stdout",
     "output_type": "stream",
     "text": [
      "Tacka minimuma: (-0.03475593891071593, 0.23870664659597196)\n"
     ]
    }
   ],
   "source": [
    "widgets.interact(drawVNS, i = widgets.IntSlider(min=0, max=len(graphVNS) - 1, step=1));\n",
    "print(f\"Tacka minimuma: ({xlocVNS}, {fVNS(xlocVNS)})\")"
   ]
  },
  {
   "cell_type": "markdown",
   "id": "178e02c1-8de8-4229-99d7-5efc48f19cea",
   "metadata": {},
   "source": [
    "Koristeći VNS mogli bi da rešimo i problem ranca, jedina razlika bi bila u predstavljanju rešenja: kao niz bitova, a funkcija shake-ovanja bi bila implementirana kao sve kombinacije kada negiramo $1$, $2$, $3$...$n$ bitova gde je $n$ broj objekata koje možemo odabrati.\n",
    "\n",
    "Na osnovu toga vidimo da je VNS zaista metaheuristika."
   ]
  },
  {
   "cell_type": "markdown",
   "id": "1dc7609f-14da-4f63-940a-e8dadc59deb2",
   "metadata": {},
   "source": [
    "## 8.2 Population-based (P - Metaheuristika):\n",
    "U ovu grupu spadaju sve one metaheuristike koje se bave unapređivanjem više rešenja njihovim simultanim evoluiranjem.\n",
    "\n",
    "Primer ovakvih algoritama je algoritam jata ptica (Bird flocking PSO), funkcioniše po sledećem principu:\n",
    "1. Izaberemo pseudo nasumično **n** rešenja, svako rešenje predstavlja pticu u prostoru rešenja koja se kreće ka optimalnom rešenju\n",
    "2. Rešenja međusobno komuniciraju i prilagođavaju svoju putanju na sonovu:\n",
    "\t- svoje najbolje pozicije \n",
    "\t- najbolje pozicije grupe \n",
    "\t- inercije\n",
    "3. Vremenom rešenja konvergira ka najboljem rešenju, a iscrtavanjem ovog algoritma rešenja izgledaju kao jato pica.\n",
    "\n",
    "U svkoj iteraciji želimo adekvatno da pomerimo pticu na njenu sledeću poziciju. Imamo sledeće vrednosti **najbolju poziciju ptice ($p_{local}$)**, **najbolju poziciju grupe ($p_{global}$)** i **inerciju ptice ($v_i$)** kao i **trenutnu poziciju ptice ($p_{pos}$)**.\n",
    "Novu poziciju dobijamo kao zbir vektora inercije ($v_i$), vektora $v_{global} = p_{global} - p_{pos}$ i vektora $v_{local} = p_{local} - p_{pos}$. \n",
    "Kako vektor ka globalnoj najboljoj poziciji ima verovatno najveću vrednost vrednost lokalnog rešenja ptice biće zanemareno i time gubimo na osobini **intenzivikacije**. Da bi izbegli ovo želimo da množimo svaki vektor nekom konstantom koju možemo da menjamo, pa bi novu poziciju računali na sledeći način $v_i = c_iv_i + c_{local}v_{local} + c_{global}v_{global}$.\n",
    "Kako bi još više poboljšali naše istraživanje domena želimo da uvedemo stohastičnosti, odabirom dva broja između 0 i 1 ($r_{local}$ i $r_{global}$), i time omogućimo **diverzifikaciju**. \n",
    "Konačna formula bi bila:\n",
    "$$v_i = c_iv_i + c_{local}r_{local}v_{local} + c_{global}r_{global}v_{global}$$\n",
    "Konačno ono što moramo da proverimo posle svake iteracije jeste da li je neko od novih lokalnih pozicija novo globalno najbolje rešenje. "
   ]
  },
  {
   "cell_type": "code",
   "execution_count": 20,
   "id": "d95db770-dd57-437e-99c3-d35bd41b7862",
   "metadata": {},
   "outputs": [],
   "source": [
    "import numpy as np\n",
    "import copy as cp\n",
    "import random"
   ]
  },
  {
   "cell_type": "code",
   "execution_count": 21,
   "id": "c4d33b8d-9573-4645-bfc6-3054201897a8",
   "metadata": {},
   "outputs": [],
   "source": [
    "class Bird:\n",
    "    \"\"\"\n",
    "    Represents a particle (bird) in the Particle Swarm Optimization (PSO) algorithm.\n",
    "\n",
    "    Each bird updates its position and velocity in search of the global minimum of a given objective function.\n",
    "    The class also tracks global best position and fitness among all birds in the swarm.\n",
    "\n",
    "    Attributes:\n",
    "        globalBestPos (np.array): The global best position found by any bird in the swarm.\n",
    "        globalMin (float): The global minimum fitness value found by any bird in the swarm.\n",
    "\n",
    "    Methods:\n",
    "        updatePos():\n",
    "            Updates the bird's position based on its velocity and enforces boundary constraints.\n",
    "        calcVector():\n",
    "            Updates the bird's velocity using inertia, cognitive, and social components.\n",
    "        getFitness():\n",
    "            Returns the current fitness value of the bird's position.\n",
    "        getPos():\n",
    "            Returns the current position of the bird.\n",
    "    \"\"\"\n",
    "    globalBestPos = None\n",
    "    globalMin = None\n",
    "    \n",
    "    def __init__(self, bounds: np.array, f: callable, alpha: float = 0.5, beta1: float = 0.5, beta2: float = 0.5) -> 'Bird':\n",
    "        \"\"\"\n",
    "        Initializes a bird with random position and velocity within the given bounds.\n",
    "\n",
    "        Args:\n",
    "            bounds (np.array): A 2D array defining the lower and upper bounds for each dimension.\n",
    "            f (callable): The objective function to be minimized.\n",
    "            alpha (float): Inertia weight for controlling the impact of the previous velocity.\n",
    "            beta1 (float): Coefficient for the cognitive component (personal best).\n",
    "            beta2 (float): Coefficient for the social component (global best).\n",
    "        \"\"\"\n",
    "        self.F = f\n",
    "        self.__alpha = alpha\n",
    "        self.__beta1 = beta1\n",
    "        self.__beta2 = beta2\n",
    "        self.__bounds = bounds\n",
    "        \n",
    "        self.__pos = np.array([random.uniform(bound[0], bound[1]) for bound in self.__bounds])\n",
    "        self.__velocity = np.array([random.uniform(-(bound[1] - bound[0]), (bound[1] - bound[0]))\n",
    "                                    for bound in self.__bounds])\n",
    "        self.__bestPos = cp.deepcopy(self.__pos)\n",
    "        self.__currVal = self.F(self.__pos)\n",
    "        self.__bestVal = self.__currVal\n",
    "\n",
    "        Bird.globalBestPos = cp.deepcopy(self.__pos)\n",
    "        Bird.globalMin = self.__currVal\n",
    "\n",
    "    def updatePos(self) -> None:\n",
    "        \"\"\"\n",
    "        Updates the bird's position based on its velocity and clips it within the bounds.\n",
    "        Updates the fitness and personal best position if the new position improves fitness.\n",
    "        \"\"\"\n",
    "        lowerBound = np.array([x[0] for x in self.__bounds])\n",
    "        upperBound = np.array([x[1] for x in self.__bounds])\n",
    "        self.__pos = np.clip(self.__pos + self.__velocity, lowerBound, upperBound)\n",
    "\n",
    "        self.__currVal = self.F(self.__pos)\n",
    "        if self.__currVal < self.__bestVal:\n",
    "            self.__bestPos = cp.deepcopy(self.__pos)\n",
    "            self.__bestVal = self.__currVal\n",
    "    \n",
    "    def calcVector(self) -> None:\n",
    "        \"\"\"\n",
    "        Updates the bird's velocity based on inertia, cognitive component (personal best), \n",
    "        and social component (global best).\n",
    "        \"\"\"\n",
    "        self.__velocity = (self.__alpha * self.__velocity \n",
    "                           + (1 - self.__alpha) * (+ random.random() * self.__beta1 * (self.__bestPos - self.__pos) \n",
    "                           + random.random() * self.__beta2 * (Bird.globalBestPos - self.__pos)))\n",
    "\n",
    "    def getFitness(self) -> float:\n",
    "        return self.__currVal\n",
    "\n",
    "    def getPos(self) -> np.array:\n",
    "        return self.__pos\n",
    "    \n",
    "    def __lt__(self, other: 'Bird'):\n",
    "        if self.__currVal < other.getFitness():\n",
    "            return True\n",
    "\n",
    "    def __str__(self):\n",
    "        return f\"x: {self.__pos[0]}, y: {self.__pos[1]}, min: {self.F(self.__bestPos)}\""
   ]
  },
  {
   "cell_type": "code",
   "execution_count": 22,
   "id": "96f07d48-1296-4ca6-8992-da716b6c19e0",
   "metadata": {},
   "outputs": [],
   "source": [
    "def startFlight(function: callable, bounds: np.array, populationSize: int = 100, alpha: float = 0.5, beta1: float = 0.5, beta2: float = 0.5, numIter: int = 100) -> list:\n",
    "    \"\"\"\n",
    "    Executes the Particle Swarm Optimization (PSO) algorithm with the given parameters.\n",
    "\n",
    "    Args:\n",
    "        function (callable): The objective function to be optimized.\n",
    "        bounds (np.array): The search space boundaries for the particles (birds).\n",
    "        populationSize (int, optional): The number of birds in the swarm (default is 100).\n",
    "        alpha (float, optional): The inertia weight that influences the velocity update (default is 0.5).\n",
    "        beta1 (float, optional): The cognitive parameter (default is 0.5).\n",
    "        beta2 (float, optional): The social parameter (default is 0.5).\n",
    "        numIter (int, optional): The number of iterations (default is 100).\n",
    "\n",
    "    Returns:\n",
    "        list: A list containing two elements:\n",
    "            - The trajectory of the bird positions across iterations.\n",
    "            - The best bird after all iterations.\n",
    "    \n",
    "    Description:\n",
    "        This function initializes a swarm of birds with random positions and velocities. \n",
    "        It then iteratively updates their positions based on their velocities, and the \n",
    "        global best position is tracked throughout the process. The function returns the \n",
    "        evolution of bird positions during the optimization process and the best bird found.\n",
    "\n",
    "    Example:\n",
    "        >>> def objective_function(x):\n",
    "        >>>     return x[0]**2 + x[1]**2  # Simple quadratic function\n",
    "        >>> \n",
    "        >>> bounds = np.array([[-5, 5], [-5, 5]])  # Search space bounds\n",
    "        >>> graph, best_bird = startFlight(objective_function, bounds)\n",
    "        >>> print(\"Best position found:\", best_bird.getPos())\n",
    "        >>> print(\"Best fitness value:\", best_bird.getFitness())\n",
    "    \"\"\"\n",
    "    birds = np.array([Bird(bounds, function, alpha, beta1, beta2) for _ in range(populationSize)])\n",
    "    graph = [[bird.getPos() for bird in birds]]\n",
    "    bestBird = min(birds)\n",
    "    \n",
    "    Bird.globalBestPos = cp.deepcopy(bestBird.getPos())\n",
    "    Bird.globalMin = bestBird.getFitness()\n",
    "    \n",
    "    for _ in range(numIter):\n",
    "        for bird in birds:\n",
    "            bird.calcVector()\n",
    "            bird.updatePos()\n",
    "\n",
    "        newBest = min(birds)\n",
    "        if newBest.getFitness() < Bird.globalMin:\n",
    "            Bird.globalBestPos = cp.deepcopy(newBest.getPos())\n",
    "            Bird.globalMin = newBest.getFitness()\n",
    "        \n",
    "        newBirdPos = np.array([bird.getPos() for bird in birds])\n",
    "        graph.append(newBirdPos)\n",
    "            \n",
    "    return [graph, min(birds)]"
   ]
  },
  {
   "cell_type": "markdown",
   "id": "6faa1e4e",
   "metadata": {},
   "source": [
    "# Primer: \n",
    "Tražimo minimum funkcije $f(x, y) = -20e^{-0.2\\sqrt{0.5(x^2 + y^2)}} -e^{0.5(\\cos{2\\pi x} + \\cos{2\\pi y})} + e + 20$ poznata i kao [\"Ackley function\"](https://en.wikipedia.org/wiki/Ackley_function), tražimo rešenje na domenu $-5 \\leq x,y \\leq 5$. \n",
    "Uzimamo ovakvu funkciju pošto se ovakva vrsta algoritma uglavnom koristi za probleme sa kontinualnim domenom."
   ]
  },
  {
   "cell_type": "code",
   "execution_count": 23,
   "id": "e9bea1e9-47f9-4be0-890b-4a0f6286ca09",
   "metadata": {},
   "outputs": [],
   "source": [
    "def fPSO(pos: np.array) -> float:\n",
    "    x = pos[0]\n",
    "    y = pos[1]\n",
    "    return -20 * np.e ** (-0.2 * np.sqrt(0.5*(x**2 + y**2))) - np.e**(0.5*(np.cos(2 * np.pi * x) + np.cos(2*np.pi*y))) + np.e + 20"
   ]
  },
  {
   "cell_type": "code",
   "execution_count": 24,
   "id": "1102a962-1e89-4c55-bcbb-19bfff750884",
   "metadata": {},
   "outputs": [
    {
     "name": "stdout",
     "output_type": "stream",
     "text": [
      "x: -7.86140848462688e-06, y: -1.4128481920784575e-05, min: 4.573797853169026e-05\n"
     ]
    }
   ],
   "source": [
    "domainPSO = np.array([[-5, 5], [-5, 5]])\n",
    "populationPSO = 100 \n",
    "graphPSO, bestBird = startFlight(fPSO, domainPSO, populationPSO, 0.4, 0.7, 0.3, 50)\n",
    "print(bestBird)"
   ]
  },
  {
   "cell_type": "markdown",
   "id": "3fca367f-c0e1-4d26-8d63-449372bed0b6",
   "metadata": {},
   "source": [
    "## Iscrtavanje:"
   ]
  },
  {
   "cell_type": "code",
   "execution_count": 25,
   "id": "bb5da510-b466-44ad-b9e4-f82368cec0df",
   "metadata": {},
   "outputs": [],
   "source": [
    "import matplotlib.pyplot as plt\n",
    "import ipywidgets as widgets"
   ]
  },
  {
   "cell_type": "code",
   "execution_count": 26,
   "id": "a46bd014-7b9a-47fd-b4a1-53514394e146",
   "metadata": {},
   "outputs": [],
   "source": [
    "X_PSO, Y_PSO = np.meshgrid(np.linspace(domainPSO[0][0], domainPSO[0][1], 256), np.linspace(domainPSO[1][0], domainPSO[1][1], 256))\n",
    "Z_PSO = np.array([fPSO(np.array([x, y])) for x, y in zip(X_PSO, Y_PSO)])\n",
    "\n",
    "levels_PSO = np.linspace(Z_PSO.min(), Z_PSO.max(), 50)\n",
    "def drawPSO(i):\n",
    "    xs = [graphPSO[i][j][0] for j in range(populationPSO)]\n",
    "    ys = [graphPSO[i][j][1] for j in range(populationPSO)]\n",
    "\n",
    "    plt.contourf(X_PSO, Y_PSO, Z_PSO, levels = levels_PSO)\n",
    "    plt.scatter(xs, ys, c = 'red');\n",
    "    plt.subplots_adjust(left=0.0, right=0.6)\n",
    "    \n",
    "    plt.xlim(domainPSO[0][0], domainPSO[0][1])\n",
    "    plt.ylim(domainPSO[1][0], domainPSO[1][1])"
   ]
  },
  {
   "cell_type": "code",
   "execution_count": 27,
   "id": "971f539a-8816-460b-aee6-58db54a4f6b5",
   "metadata": {},
   "outputs": [
    {
     "data": {
      "application/vnd.jupyter.widget-view+json": {
       "model_id": "867ea71054ce494caae74ee3de0aa107",
       "version_major": 2,
       "version_minor": 0
      },
      "text/plain": [
       "interactive(children=(IntSlider(value=0, description='i', max=50), Output()), _dom_classes=('widget-interact',…"
      ]
     },
     "metadata": {},
     "output_type": "display_data"
    },
    {
     "name": "stdout",
     "output_type": "stream",
     "text": [
      "x: -7.86140848462688e-06, y: -1.4128481920784575e-05, min: 4.573797853169026e-05\n"
     ]
    }
   ],
   "source": [
    "widgets.interact(drawPSO, i = widgets.IntSlider(min=0, max=len(graphPSO) - 1, step=1));\n",
    "print(bestBird)"
   ]
  },
  {
   "cell_type": "markdown",
   "id": "9d83d3ae",
   "metadata": {},
   "source": [
    "# 9. Evolutivna izračunavanja:\n",
    "Evolutivno izračunavanje predstavlja proces poboljšavanja organizama ili sistema kroz takmičarsko okruženje, gde se najuspešnije jedinke prilagođavaju i prenose svoje karakteristike na buduće generacije. Poznati kao **Evolutivni algoritmi**.\n",
    "**Evolutivni algoritmi (EA)** pripadaju **P-Metaheuristici**.\n",
    "\n",
    "Očigledno inspirisano nekim istorijskim idejama o evoluciji:\n",
    "- **Lamarkov pristup** - Organizmi mogu nasleđivati karakteristike stečene tokom života (npr. fizičke promene izazvane okruženjem).\n",
    "- **Darvinov pristup** - Evolucija se odvija kroz prirodnu selekciju, gde samo najprilagođenije jedinke (\"survival of the fittest\") opstaju, dok se njihove karakteristike propagiraju kroz populaciju ukrštanjem i mutacijom.\n",
    "\n",
    "### **Osnovni pojmovi:**\n",
    "1. **Hromozom/Jedinka** - kodirano rešenje, uglavnom pseudo nasumično generisano, uglavnom u vidu niza bitova i slično. (kod genetskog programiranja GP, rešenja mogu biti stabla)\n",
    "2. **Populacija **- skup više hromozoma\n",
    "3. **Selekcija** - odabir jedinki koje će graditi sledeću generaciju\n",
    "4. **Ukrštanje (Crossover)** - mešanje hromozoma neke dve jedinke\n",
    "5. **Mutacija** - stohastička izmena delova hromozoma u nadi da izmene dodaju neke inovacije u populaciju\n",
    "\n",
    "### **Pseudokod EA:**\n",
    " - **generiši inicijalnu populaciju** $P_{0}(n)$\n",
    " - **while** nisu zadovoljeni uslovi:\n",
    "\t- izračunaj **fitness** za svaku jedinku u $P_{t}(n)$\n",
    "\t- koristeći **crossover** napravi novu generaciju $P_{t+1}(n)$\n",
    "\t- pređu u sledeću generaciju $t = t + 1$\n",
    "- **end**\n",
    "\n",
    "Algoritam se završava ukoliko dođe do maksimalnog broja iteracija $t_{max}$, nađemo neko optimalno rešenje, nađemo rešenje i slično.\n",
    "\n",
    "### **Algoritmi zasnovani na EA:**\n",
    "1. **Genetski algoritmi GA** - genetski kod u obliku niza bitova\n",
    "2. **Genetsko programiranje GP** - genetski kod u obliku stabla\n",
    "3. **Evolutivno programiranje EP** - koristi samo mutaciju prilikom pravljenja sledeće generacije\n",
    "4. **Evolutivne strategije ES** - gradi novu privremenu populaciju (drugačije veličine u odnosu na prethodnu generaciju), nad njom vrši ukrštanje i mutaciju i tek onda rangira sva rešenja i na osnovu njih gradi populaciju $P_{t+1}$. Rešenja u obliku niza realnih brojeva.\n",
    "5. **Diferencijalna evolucija DE** - ne koristi optimizaciju gradijenta, pa funkcije ne moraju biti neprekidne ili diferencijabilne, već za svaku jedinku bira približne tri tačke a, b i c nasumično, koje ne smeju biti iste, i gradi novu tačku po formuli $x_{new} = a + F \\times (v - c)$.\n",
    "6. **Kulturna evolucija (CA)** - pored populacije sadrži dodatnu komponentu **belief space**, ta verovanja jedinke prihvataju ali i utiču na populaciju\n",
    "7. **Koevolucija** - ne postoji evaluacija rešenja, već su rešenja ograničenja nekim drugim populacijma i njihovim ponašanjima.\n",
    "\n",
    "### Kodiranje (hromozomi):\n",
    "U prirodi hromozomi predstavljaju ceo DNK neke jedinke prilikom deobe ćelije. \n",
    "Svaki hromozom je sačinjen od velikog broja gena koji predstavljaju upustva za sintezu proteina, a proteini određuju anatomiju i fiziologiju organizma.\n",
    "\n",
    "U kontekstu EA hromozomi su rešenja problema, a pojedini geni su karakteristike rešenja.\n",
    "\n",
    "Kodiranje je uglavnom u obliku niza, može biti, kao u GP, nelinearno u obliku drveta.\n",
    "Klasični primer je binarni vektor fiksne dužine.\n",
    "||\n",
    "|-|\n",
    "|![](../slike/EA/kodiranjeBitovi.png)|\n",
    "\n",
    "Za same gene možemo koristiti kao što je predstavljeno bitove, ali to mogu biti i celi brojeve ili realni brojevi...\n",
    "Postoji i opcija gde se celi brojevi mogu predstaviti **Grejovim kodiranjem**, međutim danas je prihvaćeno kodiranje direktno odabranim tipom. \n",
    "Imamo u vidu da način kodiranja utiče na druge funkcije (mutacije i ukrštanja).\n",
    "Prilikom kodiranja sa realnim brojevima ukoliko ih želimo predstaviti grejovim kodom moramo prihvatiti gubitak tačnosti.  Što veću tačnost želimo to su hromozomi duži a time evolucija sporija.\n",
    "\n",
    "Čuveni problem **trgovačkog putnika** možemo rešiti koristeći kod koji sadrži nasumičnu permutaciju gradova, što je ukupna dužina ovakve permutacije manja to je vrednost fitness funkcije veća.  **Mutacija** može biti swapovanje neka dva grada.\n",
    "\n",
    "### Fitness funkcija:\n",
    "Prema Darvinovom modelu jedinke sa najboljim karakteristikama preživljavaju i dobijaju priliku da svoje gene prpagiraju u sledeću generaciju.\n",
    "Kvantifikator ovakvih karakteristika u EA rešavamo **fitness** funkcijom,  uglavnom predstavlja baš funkciju cilja.\n",
    "\n",
    "### Selekcija:\n",
    "Faza u kojoj se se dešava odabir potomka. Ideja je da se onim boljim rešenjima da veća šansa da propagiraju svoje gene.\n",
    "\n",
    "**Selekcioni pritisak** - predstavlja koliko vremena je potrebno da najbolje jedinke izgrade uniformnu populaciju. \n",
    "Pa bi najniži selekcioni pritisak bio da izmešamo populaciju i nasumično biramo jedinke.\n",
    "\n",
    "Postoje dva osnovna pristupa selekciji:\n",
    "1. **Turnir**:\n",
    "\tIdeja ovog pristupa jeste da izaberemo neki deo populacije, jedinke tog izabranog dela rangiramo, prema fitness-u, i izaberemo dve najbolje jedinke.\n",
    "\tU zavisnosti od veličine izabranog broja jedinki za turnir ($k$), koji može biti jednak ili manji od veličine populacije ($n$), imamo sledeće ishode:\n",
    "\t- $k = 1$: praktično je nasumičan odabir jedinki za crossover.\n",
    "\t- $k < n$: najbolji pristup, pošto i one dobre i one loše jedinke imaju šansu da budu izabrane.\n",
    "\t- $k = n$: u ovom slučaju uvek će biti izabrane one jedinke koje su najbolje u celoj populaciji, pa će se uniformna populacija steći jako brzo.\n",
    "\tPrimetimo da što je veće **$k$** to je selekcioni pritisak veći.\n",
    "1. **Rulet**:\n",
    "\tZamišljamo ruletski točak gde je svaka pozicija u koju loptica može da upadne jedna jedinka. \n",
    "\tVeličina pozicije za svaku jedinku je proporcijalna fitness vrednosti jedinke, ovo pretstavlja verovatnoću njenog odabira. Kako verovatnoća svih mogućih događaja mora da bude jednaka 1, moramo normalizovati sve verovatnoće. \n",
    "\tPa u populaciji sa $n$ jedinki, za svaku jedinku računamo njenu verovatnoću:\n",
    "\t$$p_x = \\dfrac{f_x}{\\sum_{i = 1}^n f_i}$$\n",
    "\tOvakav način selekcije nije najbolji, jer kako one jedinke koje imaju bolji fitness imaju veće šanse da budu odabrane, one lošije jedinke će ređe biti odabrane.\n",
    "\tMožda baš te lošije jedinke imaju neki gen koji nam je potreban u nekoj drugoj jedinci da bi dobili bolje rešenje.\n",
    "\tJedna od modifikacija ruletske selekcije je **Stohastičko univerzalno uzorkovanje (SUS)**.\n",
    "\n",
    "![](../slike/EA/rouletteTournament.png)"
   ]
  },
  {
   "cell_type": "markdown",
   "id": "3e1df67c",
   "metadata": {},
   "source": [
    "## 9.1 Genetski algoritmi (GA):\n",
    "Glavna primena u diskretnom domenu. \n",
    "Mada su spori, ovi algoritmi su odlični za rešavanje kombinaornih problema.\n",
    "\n",
    "### Pseudokod GA:\n",
    "- **while** nije zadovoljen uslov:\n",
    "\t- odaberi roditelje \n",
    "\t- uradi **crossover** i **mutation**\n",
    "\t- napravi $P_{t+1}$\n",
    "- **end**\n",
    "\n",
    "U osnovnom algoritmu GA ili SGA (Simple GA) čiji je pseudokod dat, selekcija roditelja se vrši tako što razbacama roditelje i za svaka dva imamo šansu da li će doći do ukrštanja, ako ne dođe do ukrštanja roditelji se samo prepisuju.\n",
    "\n",
    "Jednostavni genetski algoritam koristi takozvani **Genracijski model (Generation GA - GGA)**, gde svaka jedinka preživi tačno jednu generaciju, odnosno cela populacija se zameni novom populacijom, odnosno potopmcima. Ovo je i tipično za GA.\n",
    "\n",
    "**Generacijski jaz** određujemo koji deo populacije želimo da menjamo, ako je odnos stare i nove generacije manji od 1, samo se deo populacije menja (odnos nove i stare generacije 1 je GGA). Ovaj model se koristi u **Evolutivnim strategijama ES**.\n",
    "\n",
    "**Model stabilnog stanja (Steady-State GA - SSGA)** generišemo jedno dete.\n",
    "\n",
    "Primećujemo da se u druga dva modela dešava da samo kopiramo jedinke iz stare generacije, postoji još jedan princip po kom se čuva prvih **n** jedinki sa najboljim fitnessom ocaj princip se naziva **Elitizam**. \n",
    "Ideja je da čuvamo one jedinke koje su kvalitetne odnosno imaju dobar fitness, ali ne želimo da dozvolimo da one bolje jedinke nadvaladaju.\n",
    "\n",
    "### Crossover i Mutacija:\n",
    "\n",
    "**Ukrštanje (crossover)** - za svaka dva odabrana roditelja prave se dva deteta korišćenjem operacije ukrštanja. \n",
    "Ideja ukrštanja u smislu pronalaženja rešenja predstavlja intezifikaciju. Drugim rečima, ukrštanje je istraživanje prostora rešenja koja mogu nastati rekombinovanjem već postojećih rešenja. \n",
    "Mana ukrštanja je da ukoliko je optimalno rešenje \"van dometa\" trenutnog prostora rešenja nikada ga nećemo naći. Kako je \"van dometa\" određene osobine tog rešenja ne postoje ni u jednom od rešenja koja se nalaze u trenutnoj populaciji (lokalni minimum). \n",
    "\n",
    "**Crossover** u zavisnosti od problma može biti drugačiji ali se uglavnom izvršava na neki od sledećih načina:\n",
    "1.  **Uniformno** - svaki gen jendog roditelja ima jednake šanse da se swapuje sa genom na istoj poziciji drugog roditelja.\n",
    "2. **Jednopoziciono** - bira jednu poziciju, pa se prvi deo hromozoma prenosi od jednog roditelja, a drugi deo od drugog.\n",
    "3.  **n - Poziciono** - bira više pozicija i deli oba gena na n+1 celinu nakon čega radi \"cik-cak\" swap delova gena.\n",
    "\n",
    "||\n",
    "|-|\n",
    "|![](../slike/EA/GA/crossover.png)|\n",
    "\n",
    "\n",
    "U slučaju realnog kodiranja koristimo **Aritmetičko ukrštanje**:\n",
    "$$z_i = \\alpha x_i + (1 - \\alpha)y_i$$\n",
    "$$0 \\leq \\alpha \\leq 1$$\n",
    "Alfa možemo da biramo za svaku generaciju, da postavimo na početku  ili da se menja kroz generacije. \n",
    "Jednostvano aritmetičko ukrštanje je kada izaberemo poziciju u kodu i odatle vršimo ukrštanje, celovito je kada je $k = 0$.\n",
    "\n",
    "**Mutacija** prolazi svaki gen (bit) sa nekom verovatnoćom može ga izmeniti (negirati).\n",
    "Ideja mutacije služi za diverzifikaciju, odnosno uvođenje novih osobina (rešenja) koje nisu mogle biti dobijene drugačije.\n",
    "Drugim rečima, mutacija pokušava da proširi prostor rešenja koja imamo do sada. Mana mutacije je njena destruktivnost. Kako može da proširi skup rešenja tako može da ga umanji, ili ,ukoliko je previše učestala, da prosto ne dozvoli populaciji da konvergira ka bilo kom minimumu.\n",
    "\n",
    "||\n",
    "|-|\n",
    "|![](../slike/EA/GA/mutationsSwapFlip.png)|\n",
    "\n",
    "Kao što smo naveli već, mutacija kod kodiranja bitovima je flipovanje vrednosti bita.\n",
    "Kada kodiramo realnim brojevima, neke od čestih mutacija:\n",
    "1. **Dodavanje šuma (Gaussian mutation)**:\n",
    "\tNa broj dodajemo šum dobijen iz standardne normalne raspodele. \n",
    "\tRačunamo novo x na sledeći način: $x' = x + N(0, \\sigma)$\n",
    "2. **Uniformna mutacija**:\n",
    "\tSvakom genu je dodeljen opseg i nova vrednost mu se dodeljuje uniformno iz tog opsega. \n",
    "\tRačunamo novo x na sledeći način: $x' = U(a, b)$\n",
    "3. **Menjanje gena za korak**\n",
    "\n",
    "Ima više metoda ali ove su neke osnovne."
   ]
  },
  {
   "cell_type": "markdown",
   "id": "8e184eab-ed24-4a34-a97d-ae9a5892b1dd",
   "metadata": {},
   "source": [
    "### Zadatak ranca:\n",
    "    Imamo ogranicenu kilazu koju ranac moze da nosi, \n",
    "    nas cilj je da u ranac ubacimo sto vise stvari tako da vrednost stvari bude sto veca.\n",
    "    Recimo da imamo 8 objekata redom tezine [4, 2, 8, 3, 7, 5, 9, 6],\n",
    "    a njihove vrednosti [19, 17, 30, 13, 25, 29, 23, 10].\n",
    "    U rancu može biti najviše 17kg težine.\n",
    "\n",
    "    Resenja predstavljamo preko bool-ova [False, True, True, False, False, True, False], \n",
    "    ako uzimamo objekat onda postavljamo vrednost True."
   ]
  },
  {
   "cell_type": "code",
   "execution_count": 28,
   "id": "5db4935e-bdc0-4601-b815-d2af14d6cc29",
   "metadata": {},
   "outputs": [],
   "source": [
    "import numpy as np\n",
    "import copy as cp\n",
    "import random"
   ]
  },
  {
   "cell_type": "code",
   "execution_count": 29,
   "id": "9fe2d606-4185-4346-8866-a6dbc2be4237",
   "metadata": {},
   "outputs": [],
   "source": [
    "class Bag:\n",
    "    def __init__(self, values: list, weights: list, maxW: float, mutationChance: float = 0.05):\n",
    "        self.__values = values\n",
    "        self.__weights = weights\n",
    "        self.__maxW = maxW\n",
    "        self.__mutationChance = mutationChance\n",
    "        self.bag = [True if random.random() < 0.3 else False for _ in range(len(self.__values))]\n",
    "        self.calcFitness()\n",
    "\n",
    "    def calcFitness(self):\n",
    "        v = sum(self.__values[i] if self.bag[i] else 0 for i in range(len(self.bag)))\n",
    "        w = sum(self.__weights[i] if self.bag[i] else 0 for i in range(len(self.bag)))\n",
    "        if w > self.__maxW:\n",
    "            self.v, self.w = float('-inf'), w\n",
    "        else:\n",
    "            self.v, self.w = v, w\n",
    "\n",
    "    def mutate(self):\n",
    "        for i in range(len(self.bag)):\n",
    "            if random.random() < self.__mutationChance:\n",
    "                self.bag[i] = not self.bag[i]\n",
    "        self.calcFitness()\n",
    "\n",
    "    def __mul__(self, other: 'Bag') -> list: #crossover\n",
    "        child1, child2 = cp.deepcopy(self), cp.deepcopy(other)\n",
    "        crossPos = random.randint(0, len(self.bag)-1)\n",
    "\n",
    "        child1.bag[:crossPos], child2.bag[:crossPos] = child2.bag[:crossPos], child1.bag[:crossPos]\n",
    "        child1.calcFitness()\n",
    "        child2.calcFitness()\n",
    "        \n",
    "        return child1, child2\n",
    "\n",
    "    def getFitness(self):\n",
    "        return self.v\n",
    "    \n",
    "    def __str__(self):\n",
    "        return f'Odabrani objekti: {self.bag}, vrednost: {self.v}, tezina: {self.w}'\n",
    "    \n",
    "    def __lt__(self, other: 'Bag'):\n",
    "        if self.getFitness() == other.getFitness():\n",
    "            return other.w < self.w\n",
    "        return self.getFitness() < other.getFitness()"
   ]
  },
  {
   "cell_type": "code",
   "execution_count": 30,
   "id": "e6798700-34f4-4947-a18f-dce4940142c5",
   "metadata": {},
   "outputs": [],
   "source": [
    "def tournament(population: list) -> int:\n",
    "    indices = random.sample(range(0, len(population)), len(population)//10)\n",
    "    \n",
    "    best = float(\"-inf\")\n",
    "    idx = -1\n",
    "    for i in indices:\n",
    "        if population[i].v > best:\n",
    "            best = population[i].v\n",
    "            idx = i\n",
    "\n",
    "    return idx"
   ]
  },
  {
   "cell_type": "code",
   "execution_count": 31,
   "id": "d275528b-fbc9-4467-ae32-73634594dee8",
   "metadata": {},
   "outputs": [],
   "source": [
    "def GA(values: list, weights: list, maxW: float, populationSize: int = 100, elitizam: int = 0, epochs: int = 100, mutationChnace: float = 0.5) -> list:\n",
    "    population = [Bag(values, weights, maxW, mutationChnace) for _ in range(populationSize)]\n",
    "    newPopulation = [Bag(values, weights, maxW, mutationChnace) for _ in range(populationSize)]\n",
    "\n",
    "    population.sort(reverse = True)\n",
    "    graph = [max(population).getFitness()]\n",
    "\n",
    "    elitizam = (elitizam) if elitizam%2 == 1 else (elitizam - 1)\n",
    "    \n",
    "    for _ in range(epochs):\n",
    "        newPopulation[:elitizam] = cp.deepcopy(population[:elitizam])\n",
    "        for i in range(elitizam + 1, populationSize, 2):\n",
    "            idx1, idx2 = tournament(population), tournament(population)\n",
    "            newPopulation[i], newPopulation[i+1] = population[idx1]*population[idx2]\n",
    "            \n",
    "            newPopulation[i].mutate()\n",
    "            newPopulation[i+1].mutate()\n",
    "\n",
    "        population = cp.deepcopy(newPopulation)\n",
    "        population.sort(reverse = True)\n",
    "        graph.append(max(population).getFitness())\n",
    "\n",
    "    return graph, max(population)"
   ]
  },
  {
   "cell_type": "code",
   "execution_count": 32,
   "id": "bd7e44e4-ab98-4f85-964d-c324cbb76cd6",
   "metadata": {},
   "outputs": [],
   "source": [
    "weightsItems = [4, 2, 8, 3, 7, 5, 9, 6]\n",
    "valuesItems = [19, 17, 30, 13, 25, 29, 23, 10]\n",
    "maxWeights = 17"
   ]
  },
  {
   "cell_type": "code",
   "execution_count": 33,
   "id": "0f188410-4c74-43e9-9d4a-67772c4395e3",
   "metadata": {},
   "outputs": [
    {
     "name": "stdout",
     "output_type": "stream",
     "text": [
      "Odabrani objekti: [False, True, False, True, True, True, False, False], vrednost: 84, tezina: 17\n"
     ]
    }
   ],
   "source": [
    "graphGA, bestBagGA = GA(valuesItems, weightsItems, maxWeights, elitizam=10, epochs=100, mutationChnace=0.1)\n",
    "print(bestBagGA)"
   ]
  },
  {
   "cell_type": "markdown",
   "id": "e94ee3ab-ed4e-4d88-8e7c-cee617c67dae",
   "metadata": {},
   "source": [
    "### Iscrtavanje:"
   ]
  },
  {
   "cell_type": "code",
   "execution_count": 34,
   "id": "acf573ee-ff94-4c20-bbd5-9f6bb2bc56b2",
   "metadata": {},
   "outputs": [],
   "source": [
    "import matplotlib.pyplot as plt"
   ]
  },
  {
   "cell_type": "code",
   "execution_count": 35,
   "id": "c7d78b20-cca5-4eef-a106-e11cd9a89ff5",
   "metadata": {},
   "outputs": [
    {
     "data": {
      "image/png": "[encoded data removed]",
      "text/plain": [
       "<Figure size 640x480 with 1 Axes>"
      ]
     },
     "metadata": {},
     "output_type": "display_data"
    },
    {
     "name": "stdout",
     "output_type": "stream",
     "text": [
      "Odabrani objekti: [False, True, False, True, True, True, False, False], vrednost: 84, tezina: 17\n"
     ]
    }
   ],
   "source": [
    "plt.plot(graphGA)\n",
    "plt.xlabel('Generations/Epochs')\n",
    "plt.ylabel('Best Fitness')\n",
    "plt.show()\n",
    "print(bestBagGA)"
   ]
  },
  {
   "cell_type": "markdown",
   "id": "1563716b-e114-4303-832d-9bc3cf5d0eae",
   "metadata": {},
   "source": [
    "### Problem trgovačkog putnika (TSP):\n",
    "Specifični problemi jesu oni zasnovani na **permutacijama**, jedan takav jeste problem trgovačkog putnika (TSP). \n",
    "\n",
    "Trgovac treba da obiđe sve gradove i da se vrati u početni grad (napravi ciklus), ali sme da poseti svaki grad jednom (sem početnog). (za 30 gradova 30! rešenja)\n",
    "\n",
    "Kako trgovac treba da obiđe sve gradove znamo da jedino po čemu se rešenje može menjati jeste po redosledu obiđenih gradova. \n",
    "**Kodiranje**: \n",
    "Niz celih brojeva, gde svaki broj predstavlja drugačiji grad u grafu, a redosled graodva u nizu redosled posećivanja.\n",
    "\n",
    "Pošto moramo da posetimo sve gradove znamo da standardna mutacija neće raditi u našem slučaju, jer mutacija može da zameni neki broj nekim drugim, takvo rešenje je nama nedopustivo.\n",
    "**Mutacija**:\n",
    "1. **Umetanje**: Izaberemo neka dva gena i drugi umećemo tako da stoji odmah posle prvog, svi ostali geni se pomeraju.\n",
    "2. **Zamena**: Izaberemo dva gena i swapujemo ih.\n",
    "3. **Inverzija**: Izaberemo segment hromozoma nad kojom vršimo inverziju\n",
    "4. **Mešanje**: Izaberemo segment hromozoma i izmešamo gene unutar segmenta.\n",
    "\n",
    "||\n",
    "|-|\n",
    "|![](../slike/EA/GA/mutationPermutation.png)|\n",
    "\n",
    "Sličan razlog kao kod mutacija, ako bi koristili standardno ukrštanje nastala bi nedopustiva rešenja koja mogu imati duple gradove.\n",
    "**Ukrštanja**:\n",
    "1. **Ukrštanje prvog reda**: Odaberemo segment hromozoma prvog roditelja, iskopiramo dati segment u prvo dete, nastavljamo desno od kopiranog segmenta i upisujemo sve one brojeve koji se nisu još pojavili u prvom detetu, sve dok se ne popune sve pozicije. Slično i za drugo dete.\\\n",
    "\t![](../slike/EA/GA/ukrstanjePrvogRedaPermutation.png)\n",
    "\n",
    "2. **Delimično ukrštanje (PMX)**: Odaberemo segment hromozoma prvog roditelja. Gledajući početak ovog segmenta idemo redom kroz isti segment drugog roditelja i gledamo u koji broj se broj drugog roditelja slika, posmatramo u koji se broj taj broj slika u drugom roditelju, postupak ponavljamo dok ne izađemo iz segmenta, ili ne prođemo sve elemente segmenta preko kog pišemo iz drugog roditelja. Nakon ovoga prepisujemo na slobodne pozicije brojeve iz drugog roditelja. Slično za drugo dete.\\\n",
    "\t![](../slike/EA/GA/ukrstanjePMXPermutation.png)"
   ]
  },
  {
   "cell_type": "code",
   "execution_count": null,
   "id": "800c811e-7218-48be-b4e8-cc29ba1891d3",
   "metadata": {},
   "outputs": [],
   "source": []
  },
  {
   "cell_type": "markdown",
   "id": "c944bf29",
   "metadata": {},
   "source": [
    "## 9.2 Genetsko programiranje (GP):\n",
    "Osmišljen od strane **John R. Koza**, ovaj algoritam je inspirisan idejom da ako se računaru daju ulazni i izlazni parametri on bi trebalo da zna da napravi program koji rešava dati problem. Koristi princip GA, generacijska evolucija rešenja, odnosno GP je nadovezan na GA.\n",
    "\n",
    "Idejno ovaj algoritam radi nad stablima, odnosno **Apstraktnim Sintaksnim Stablima (AST)**. Svaki program može se zapisati u sintaksnom stablu, primer može da bude neka jednačina $x^2 + 5x - 1 = 0$ drugačije zapisana i kao $xx + 5x - 1 = 0$, njeno sintaksno stablo bi izgledalo:\\\n",
    "![](../slike/EA/GP/AST.png)\n",
    "\n",
    "Mozemo primetiti da se promenljive nalaze na samim listovima **terminali** (konstante, promenljive) ovih stabala, dok se **funkcije** (operacije) nalaze u unutrašnjim čvorovima stabla.\n",
    "Ovako bi izgledalo i stablo bilo kog drugog programa.\n",
    "\n",
    "Znajući ovo evolucija programa bi se zasnivala kao i kod GA na crossover-u i mutacijama.\n",
    "Prilikom mutacija nije dozvoljeno da list mutiramo tako da on postane neki od funkcija, operatora i slično...\n",
    "\n",
    "Osnovni koraci:\n",
    "1. Definisati skup **terminala**\n",
    "2. Definisati skup **funkcija**\n",
    "3. **Fitness** funkcija\n",
    "4. Parametri kontrolisanja izvršavanja (veličina populacije, šansa mutacija, elitizam i slično)\n",
    "5. Definisati kad se vrši **zaustavljanje** \n",
    "\n",
    "**Fitness**:\n",
    "Funkcija čija nam vrednost predstavlja kvalitet sadačnjeg koda. U vrednost, odnosno kvalitet, ulazi i da li se sam kod kompajlira, koliko ima grešaka i slično.\n",
    "\n",
    "**Crossover**:\n",
    "Slično kao kod GA, uzmemo dva roditelja i biramo dve pozicije u roditeljima i podstabla krenuvši od tih pozicija swap-ujemo (**jednopoziciono ukrštanje**). \n",
    "Dugačije se ova operacija nad stablima zove i **Headless chicken** crossover.\n",
    "\n",
    "| Odabir pozicija                 | Swap-ovanje podstabla           |\n",
    "| ------------------------------- | ------------------------------- |\n",
    "| ![](../slike/EA/GP/crossover1.png) | ![](../slike/EA/GP/crossover2.png) |\n",
    "\n",
    "**Mutacija**:\n",
    "U ovom slučaju kao i kod permutacija mormao da osmislimo pogodnu mutaciju, odnosno dozviljenu mutaciju.\n",
    "Kao što smo prethodno primetili, listovi AST su promenljive i konstante, dok su unutrašnji čvorovi kao i koren čvora su funkcije, operacije i slično.\n",
    "\n",
    "Unajući ovo neke dozvoljene mutacije bi bile:\n",
    "1. **Mutacija listova**: kada znamo da je čvor list onda:\n",
    "\t- **Konstanta**: vrednost možemo da uvećamo ili smanjimo, zamenimo novim brojem ili zamenimo promenljivom...\n",
    "\t- **Promenljiva**: promenljivu možemo zameniti drugom promenljivom, uvođenjem nove promenljive ili zamenom promenljive konstantom...\n",
    "2. **Mutacija unutračnjeg čvora**: zamenimo dati čvor drugom funkcijom, operacijom i slično, naravno moramo da zadržimo sintaksnu tačnost.\n",
    "3. **Mutacija umetanjem novih podstabala**: poznato kao i **Grow**, jeste da dopustimo programu da izgradi pliće podstablo i da ga umetnemo na neku poziciju unutar AST-a programa.\n",
    "\n",
    "| Mutacija listova               | Mutacija  operacije            |\n",
    "| ------------------------------ | ------------------------------ |\n",
    "| ![](../slike/EA/GP/mutation1.png) | ![](../slike/EA/GP/mutation2.png) |\n",
    "\n",
    "Primetimo da ovaj algoritam u teoriji može da gradi program, međutim ovo je veoma težak postao, pošto moramo voditi računa o velikom broju sintaksnih i semantičkih pravila.\n",
    "Doduše primenljivi jesu, i neki primeri jesu GP algortimi koji prave **regexe**, **aritmetičke formule**, **logičke formule**, neki lakši programi...\n",
    "\n",
    "Dodatno o čemu moramo voditi računa prilikom rada algoritma jeste da ne dozvolimo algoritmu da pravi preduboka ili preširoka stabla, ovo rešavamo određenim ograničenjima koja če kvariti fitness funkciju ili potpuno brisati te delove stabla (nije najbolje rešenje).\n",
    "\n",
    "**Primer**: recimo da imamo program koji rešava zadatke iz poznate [**Moj broj**](https://github.com/PetarP02/Genetic-Programming-GP) igre. U ovoj igri igraču je data neka tražena vrednost **b** kao i niz od 6 brojeva **nums**, od igrača se traži da koristeći osnovne operacije (+, -, \\*, /), nađe traženi broj **b** tako da se ni jedan broj iz **nums** ne ponavlja. (igrač ne mora da iskoristi sve brojeve)\n",
    "U ovom primeru, pretpostavimo da smo implementirali sve operacije kao binarno stablo, primetimo da nam nije optimalno da GP pravi preduboka stabla, ili stabla koja imaju više od 11 čvorova. \n",
    "Ovo nije magičan broj već znamo da ako stablo ima **n** listova onda znamo da maksimalan broj čvorova nivoa iznad je n/2, nivoa iznad n/4 .... 1 dakle formula popunjenog binarnog stabla bi bila $2n - 1$.\n",
    "Samim tim ne bi želeli da nam GP pravi bilo koja stabla čiji je ukupan broj čvorova veći od 11."
   ]
  },
  {
   "cell_type": "markdown",
   "id": "d487286d-874a-45a8-84d1-25345faceb02",
   "metadata": {},
   "source": [
    "# 10. Inteligencija grupa (SI - Swarm Intelligence):\n",
    "Inteligencija grupa predstavlja proces u kojem jedinke istražuju svoja lokalna rešenja dok istovremeno komuniciraju i sarađuju sa ostalim članovima grupe. \n",
    "Kroz ovu interakciju dolazi do globalnog ponašanja, što omogućava grupi da kolektivno pronađe optimalno rešenje problema ili se prilagodi promenljivim uslovima u okruženju.\n",
    "\n",
    "Jedna od bitnih osobina ovih algoritama je da su dinamički, odnosno ukoliko se prostor menja tokom rada algoritma, sposobni su da se prilagode i nađu novo rešenje.\n",
    "Primer ovakvog ponašanja je ako postavimo kamen na put koji je oformljen ka hrani od strane mrava, brzo će naći novi optimalni put ka istoj toj hrani. \n",
    "\n",
    "Ovi algortimi pripadaju **P - Metaheuristikama**, i često se koriste na problemima **kontinualne** prirode. Osobina računara da brojeve čuvaju u ograničenoj memoriji, **No Free Lucnch (NFL)** teorema tvrdi da su svi **kontinualni** problemi rešavani na računarima ustvari **diskretni** problemi.\n",
    "\n",
    "Razlika ovih algoritama od EA jeste u činjenici da jedinke ovde rade zajedno, tj. kreću se zajedno u smeru rešenja.\n",
    "\n",
    "Razmena informacija unutar grupa može se vršiti na dva načina:\n",
    "1. **Direktna** - jedinke moraju da interaguju na ličnom nivou sa drugim.\n",
    "2. **Indirektno** - individulano ponašanje menja okruženje bez lične interackcije.\n",
    "\n",
    "Neki primeri:\n",
    "1. **Particle Swarm Optimization (PSO)**  - svaka čestica računa novu inerciju poštovaći najbolje rešenje grupe + njeno najbolje rešenje + kao i njenu staru inerciju.\n",
    "2. **Ant colony optimization (ACO)** - svaki mrav ostavlja feromone prilikom traženja hrane, jačina feromona predstavlja kvalitet rešenja koji drugi mravi mogu i ne moraju da prate.\n",
    "3. **Artificial Bee Colony (ABC)** - inspirisan grupama pčela u potrazi za nektarom, postoje tri vrste pčela **izviđači** (diverzifikacija), **zaposleni** (traže lokalna rešenja) i **posmatrači** (intenzivikacija, biraju gde će se vršiti istraživanje).\n",
    "4. **Bacterial foraging optimization (BFO)** - bakterije se razmnožavaju u onim delovima gde je najbolje rešenje, u svakoj generaciji se odstranjuje polovina rešenja.\n",
    "\n",
    "Još jedna korist SI algoritama jeste u izgradnji trodimenzionalnih tela na osnovu nekih pravila.\n"
   ]
  },
  {
   "cell_type": "markdown",
   "id": "1cd2d350-0348-4ee3-a582-b3c17e660103",
   "metadata": {},
   "source": [
    "## 10.1  Particle Swarm Optimization (PSO):\n",
    "U osnovnom PSO (Particle Swarm Optimization) algoritmu imamo grupu čestica, tako nazvanih zbog osobine da svaka jedinka ima brzinu i ubrzanje, u svakoj iteraciji se računa nova pozicija svake čestice. \n",
    "Inspirisani su kretanjem jata ptica i jatom riba.\n",
    "\n",
    "Svaka čestica čuva **svoju najbolju poziciju čestice ($p_{local}$)**, **inerciju čestice ($v_i$)** kao i **trenutnu poziciju čestice ($p_{pos}$)**. \n",
    "Dok se glovalno pamti i po potrebi menja **najbolja pozicija grupe ($p_{global}$)**.\n",
    "\n",
    "Formula po kojoj se računa nova inercija čestice:\\\n",
    "$$v_i = c_iv_i + c_{local}r_{local}v_{local} + c_{global}r_{global}v_{global}$$\\\n",
    "gde su:\n",
    "1. $v_{global} = p_{global} - p_{pos}$ **vektor ka najboljem rešenju grupe**,\n",
    "2. $v_{local} = p_{local} - p_{pos}$ **vektor ka ličnom najboljem rešenju**\n",
    "3. $r_{global}$, $r_{local}$ brojevi između 0 i 1 koji uvode stohastičnost\n",
    "4. $c_{local}$, $c_{global}$ i $c_{i}$ **konstante ubrzanja**, odnosno koliko će se stare vrednosti koristiti u računanju novog momentuma. \n",
    "\n",
    "Bitna je vrednost $c_i$ jer omogućava kontrolu intenzifikacije i diverzifikacije:\n",
    "- $c_i \\geq 1$ - brzina stalno raste i grupa divergira\n",
    "- $c_i \\leq 0$ - brzina se smanjuje vremenom, dok ne dostigne 0\n",
    "- $0 \\leq c_i \\leq 1$ - čestice usporavaju pa konvergencija zavisi od $c_{local}$ i $c_{global}$, kako je $c_i$ između 1 i 0 znamo da će starije vrednosti momentuma imati manji uticaj na novu vrednost.\n",
    "### Pseudokod PSO:\n",
    "- generiši populaciju $P(n)$\n",
    "- globalMin = min($P(n)$)\n",
    "- **while** nisu zadovoljeni uslovi:\n",
    "\t- **for** p in $P(n)$ \n",
    "\t\t- velocity_update()\n",
    "\t\t- position_update()\n",
    "\t- **end**\n",
    "- **end**\n",
    "\n",
    "Detaljno objašnjenje Algoritam jata prica (Birds flocking PSO) predstvaljeno je u [8.2](#8.2-Population-based-(P---Metaheuristika):)."
   ]
  },
  {
   "cell_type": "markdown",
   "id": "baf71c8f-bd05-44ca-8eb1-9c581eebee8e",
   "metadata": {},
   "source": [
    "## 10.2 Ant Colony Optimization (ACO):\n",
    "Inspirisan ponašanjem kolonije mrava. Kada pronađu neku hranu mravi traže najoptimalniji, tj. najkraći put do te hrane. \n",
    "\n",
    "Prilikom kretanja kroz odabrani put svaki mrav iza sebe ostavlja feromone,  koji vremenom isparavaju. Drugi mravi imaju opciju da prate one puteve čiji su feromoni jači.\n",
    "Prilikom povratka mrava nazad u mravinjak dodatno vraća feromone na isti taj put. Samim tim, ako je put kraći, mrav će češće da prelazi put i feromoni će biti snažniji i neće stići da ispare do kraja, što privlači druge mrave.\n",
    "\n",
    "Ovakavo ponašanje možemo da iskoristimo u problemima sa grafovima, najbolji primer je **Traveling Salesman Problem (TSP)** gde tražimo najkraći put, a da pritom posetimo sve gradove.\n",
    "\n",
    "U fazi inicijalizacije, **svakom mravu** je dodeljen **drugačiji čvor** kao početni, kako bi se izbeglo favoritizovanje rešenja na osnovu heuristike. Takođe\n",
    "\n",
    "Svaki mrav čuva: \n",
    "1. **početnu poziciju (dodeljeni čvor)** - uvek kreće od ovog čvora\n",
    "2. **trenutno rešenje (niz čvorova)** - resetuje se na početku svake nove iteracije\n",
    "3. **dužinu puta** - resetuje se na početku svake nove iteracije\n",
    "4. **depozit feromona (Q)** - konstanta koja se deli sa dužinom puta mrava, na osnovu čega se određuje količina feromona koja se ostavlja na tom putu.\n",
    "\n",
    "Globalno se čuva **količina feromona na svim granama**.\n",
    "\n",
    "U svakoj iteraciji, za svakog mrava zovemo:\n",
    "1. **resetSolution()** - nakon svake iteracije je potrebno da se resetuje rešenje, kako bi moglo da se nađe novo\n",
    "2. **findSolution()** - mrav traži novo rešenje, odnosno novi put na osnovu feromona i odabrane heuristike. Proces odabira puta je sledeći:\\\n",
    "\tSvaki mrav bira sledeći čvor dok nije posetio sve čvorove. Gledajući čvor na kom se trenutno nalazi ($i$ - čvor), mrav posmatra sve one koji su susedni i neposećeni ($j = susedi(i)$), bira put koji će preći na osnovu sledeće formule:\\\n",
    "\t$$p_{i, j} = \\dfrac{\\tau_{i, j}^{\\alpha}n_{i, j}^{\\beta}}{\\sum_{k = susedi(i)}^{n}{\\tau_{i, k}^{\\alpha}n_{i, k}^{\\beta}}}$$\n",
    "\t\\\n",
    "\tU prethodnoj formuli:\n",
    "\t- $\\tau_{i, j}$ - pretstavlja količinu feromona na grani $(i, j)$ u globalnoj promenljivoj $pheromones(m)$ \n",
    "\t- $n_{i, j}$ - pretstavlja odabranu heuristiku koja će se koristiti za računanje udaljenosti čvora $i$ od $j$. (u primeru koristimo heuristiku $n_{i, j} = \\dfrac{1}{distance[i][j]}$) \n",
    "\t- $\\alpha$ - stepen koji odlučuje koliko će feromoni uticati na verovatnoću odabira tog čvora. Uglavnom uzima vrednost između $[1, 2]$.\n",
    "\t- $\\beta$ - stepen koji odlučuje koliko će heuristika za optimalnost dužine puta uticati na verovatnoću odabirata tog čvora. Uglavnom uzima vrednost između $[2, 5]$.\n",
    "\tU odnosu na verovatnoće dobijene prethodnom formulom za sve susede, mrav stohastićki bira sledeći čvor. \n",
    "\tNakon odabira čvora, on se dodaje na rešenje i dužina puta se povećava za pređeni put.\n",
    "3. **updatePheromones()** - na kraju svake iteracije $pheromones(m)$ se ažurira sledećom formulom:\\\n",
    "\t$$pheromones(i, j) = (1 - p)pheromones(i, j) + \\sum_{k = 1}^{n}{\\Delta\\tau_{i, j}^k}$$\n",
    "\t\\\n",
    "\tU prethodnoj formuli:\n",
    "\t- $(1 - p)$ - koliko će feromoni posle svake iteracije da isparavaju, $p$ je predefinisano pre početka algoritma, vrednost između $[0, 1]$. Na ovaj način stari feromoni imaju manji uticaj na odabir sledećeg čvora čime samo rešenje vremenom konvergira.\n",
    "\t- $\\Delta\\tau_{i, j}^k$ - količina feromona koji mrav $k$ ostavlja na grani $(i, j)$, definisana sledećom formulom:\\\n",
    "   \t$$\\Delta\\tau_{i, j}^k = \\dfrac{Q}{pathLen(k)}$$\n",
    "   \t\\\n",
    "   \tQ je predefinisana konstanta, uglavnom broj u intervalu $[1, 100]$. Delimo sa ukupnom dužinom puta koji je mrav $k$ prešao, radi postizanja prethodno navedene politike da kraći put ima snažniji miris feromona.\n",
    "   "
   ]
  },
  {
   "cell_type": "code",
   "execution_count": 36,
   "id": "8a8fa416-7794-41e6-926f-8a60f18fbd3f",
   "metadata": {},
   "outputs": [],
   "source": [
    "import numpy as np\n",
    "import random"
   ]
  },
  {
   "cell_type": "code",
   "execution_count": 37,
   "id": "3e09ccd3-36c4-4318-9a86-e924dd3a5e40",
   "metadata": {},
   "outputs": [],
   "source": [
    "class Ant:\n",
    "    \"\"\"\n",
    "    Represents an individual ant in the Ant Colony Optimization (ACO) algorithm.\n",
    "\n",
    "    This class models the behavior of an ant as it traverses a graph to find \n",
    "    a solution to a problem, typically the Traveling Salesman Problem (TSP). \n",
    "    The ant uses pheromone levels and heuristic information to probabilistically \n",
    "    choose its path through the graph.\n",
    "\n",
    "    Attributes:\n",
    "        __connections (list): A 2D list representing the adjacency matrix of the graph. \n",
    "                              Each element specifies the distance or cost between nodes.\n",
    "        __starting (int): The starting node for the ant's traversal.\n",
    "        __constPheromon (float): A constant amount of pheromone deposited by the ant on its path.\n",
    "        __length (float): The total length or cost of the path the ant has traversed.\n",
    "        __alpha (float): The influence of pheromones on the ant's decision-making.\n",
    "        __beta (float): The influence of heuristic information (distance) on the ant's decision-making.\n",
    "\n",
    "    Methods:\n",
    "        findSoulution(pheromones: dict) -> None:\n",
    "            Determines the path the ant takes through the graph based on pheromone levels \n",
    "            and heuristic values. Updates the length of the path and calculates the pheromones \n",
    "            to deposit.\n",
    "\n",
    "        nextNode(pheromones: dict) -> int:\n",
    "            Selects the next node for the ant to visit based on pheromone levels \n",
    "            and heuristic values. Uses a probabilistic rule weighted by pheromone intensity \n",
    "            and inverse distance.\n",
    "\n",
    "        getPheromons() -> dict:\n",
    "            Returns the dictionary of pheromones deposited by the ant on its path.\n",
    "\n",
    "        getLength() -> int:\n",
    "            Returns the total length or cost of the path traversed by the ant.\n",
    "    \"\"\"\n",
    "    def __init__(self, starting: int, connections: list, constPheromon: float, alpha: float, beta: float) -> 'Ant':\n",
    "        \"\"\"\n",
    "        Initializes an Ant instance.\n",
    "\n",
    "        Args:\n",
    "            starting (int): The starting node for the ant's traversal.\n",
    "            connections (list): A 2D list representing the adjacency matrix of the graph. \n",
    "                                Each element specifies the distance or cost between nodes.\n",
    "            constPheromon (float): The constant amount of pheromone deposited by the ant.\n",
    "            alpha (float): The influence of pheromones on the ant's decision-making.\n",
    "            beta (float): The influence of heuristic information (distance) on the ant's decision-making.\n",
    "        \"\"\"\n",
    "        self.__connections = connections\n",
    "        self.__starting = starting\n",
    "        self.__constPheromon = constPheromon\n",
    "        self.__length = 0\n",
    "        self.__alpha = alpha\n",
    "        self.__beta = beta\n",
    "\n",
    "    def findSoulution(self, pheromones: dict) -> None:\n",
    "        \"\"\"\n",
    "        Determines the path the ant takes through the graph.\n",
    "\n",
    "        The ant starts at its initial node and iteratively selects the next node to visit \n",
    "        based on the pheromone levels and heuristic values. It calculates the total length \n",
    "        of the path and determines the pheromones to deposit on each edge it traversed.\n",
    "\n",
    "        Args:\n",
    "            pheromones (dict): A dictionary where keys are tuples representing edges \n",
    "                               (sorted node pairs) and values are the pheromone levels \n",
    "                               on those edges.\n",
    "        \"\"\"\n",
    "        self.__leavingPheromons = {}\n",
    "        self.__visited = [self.__starting]\n",
    "        self.__length = 0\n",
    "        while len(self.__visited) != len(self.__connections):\n",
    "            newNode = self.nextNode(pheromones)\n",
    "            self.__length = self.__length + self.__connections[self.__visited[-1]][newNode]\n",
    "            edge = [self.__visited[-1], newNode]\n",
    "            edge.sort()\n",
    "            self.__leavingPheromons[tuple(edge)] = self.__constPheromon\n",
    "            self.__visited.append(newNode)\n",
    "        \n",
    "        for u, v in self.__leavingPheromons:\n",
    "            self.__leavingPheromons[(u, v)] /= self.__length\n",
    "    \n",
    "    def nextNode(self, pheromones: dict) -> int:\n",
    "        \"\"\"\n",
    "        Selects the next node for the ant to visit.\n",
    "\n",
    "        The next node is selected probabilistically, weighted by pheromone intensity \n",
    "        and inverse distance (heuristic value). Nodes already visited by the ant are excluded.\n",
    "\n",
    "        Args:\n",
    "            pheromones (dict): A dictionary where keys are tuples representing edges \n",
    "                               (sorted node pairs) and values are the pheromone levels \n",
    "                               on those edges.\n",
    "\n",
    "        Returns:\n",
    "            int: The index of the next node to visit.\n",
    "        \"\"\"\n",
    "        current = self.__visited[-1]\n",
    "        neighbours = []\n",
    "        neighbourChance = np.array([])\n",
    "        sumNeighbour = 0\n",
    "        \n",
    "        for i in range(len(self.__connections[current])):\n",
    "            distance = self.__connections[current][i]\n",
    "            if distance != 0 and i not in self.__visited:\n",
    "                neighbours.append(i)\n",
    "                edge = [current, i]\n",
    "                edge.sort()\n",
    "                pheromone_value = pheromones[tuple(edge)]\n",
    "                heuristic_value = 1 / distance\n",
    "                neighbourChance = np.append(neighbourChance, pheromone_value**self.__alpha * heuristic_value**self.__beta)\n",
    "                sumNeighbour += neighbourChance[-1]\n",
    "                \n",
    "        if sumNeighbour == 0:\n",
    "            return neighbours[0]    \n",
    "        \n",
    "        neighbourChance /= sumNeighbour\n",
    "        return np.random.choice(neighbours, p = neighbourChance)\n",
    "\n",
    "    def getPheromons(self) -> dict:\n",
    "        return self.__leavingPheromons\n",
    "\n",
    "    def getLength(self) -> int:\n",
    "        return self.__length\n",
    "    \n",
    "    def __lt__(self, other: 'Ant'):\n",
    "        return self.getLength() < other.getLength()\n",
    "        \n",
    "    def __str__(self):\n",
    "        return f\"path: {self.__visited}, length: {self.__length}\""
   ]
  },
  {
   "cell_type": "markdown",
   "id": "a5f22bde-e79c-4e81-a755-395cdb67107c",
   "metadata": {},
   "source": [
    "### Pseudokod ACO:\n",
    "- generiši populaciju $P(n)$\n",
    "- inicijalizuj feromone na svim granama $pheromones(m)$ \n",
    "- **while** nisu ispunjeni uslovi:\n",
    "\t- **for** ant in $P(n)$\n",
    "\t\t- resetSolution(ant)\n",
    "\t\t- findSolution(ant)\n",
    "\t- **end**\n",
    "\t- updatePheromones($pheromones(m)$)\n",
    "- **end**"
   ]
  },
  {
   "cell_type": "code",
   "execution_count": 38,
   "id": "b7cb4fd0-6d4f-45fe-8372-3ec8e3140cb1",
   "metadata": {},
   "outputs": [],
   "source": [
    "def ACO(graph: np.array, edges: dict, iters: int, startingPheromones: float, constPheromones: float, evaporation: float, alpha: float, beta: float) -> list:\n",
    "    \"\"\"\n",
    "    Implements the Ant Colony Optimization (ACO) algorithm to find the shortest path in a graph.\n",
    "\n",
    "    Args:\n",
    "        graph (np.array): A 2D numpy array representing the adjacency matrix of the graph. \n",
    "                          Each element specifies the distance or cost between nodes.\n",
    "        edges (dict): A dictionary where keys are tuples representing edges (sorted node pairs)\n",
    "                      and values are the distances or costs of those edges.\n",
    "        iters (int): The number of iterations to run the ACO algorithm.\n",
    "        startingPheromones (float): The initial amount of pheromones on each edge.\n",
    "        constPheromones (float): The constant pheromone value deposited by each ant.\n",
    "        evaporation (float): The evaporation rate for pheromones, determining how much pheromone\n",
    "                             evaporates in each iteration.\n",
    "        alpha (float): The influence of pheromones on the ants' decision-making.\n",
    "        beta (float): The influence of heuristic information (inverse distance) on the ants' decision-making.\n",
    "\n",
    "    Returns:\n",
    "        list: A tuple containing:\n",
    "              - The best `Ant` instance that found the shortest path.\n",
    "              - A list of lists where each inner list represents the pheromone levels on all edges \n",
    "                at a specific iteration.\n",
    "\n",
    "    Description:\n",
    "        This function applies Ant Colony Optimization (ACO) to iteratively find the best solution for a path optimization problem. \n",
    "        It uses multiple ants that explore different paths and deposit pheromones along the way. \n",
    "        Pheromones influence the probability of ants selecting certain paths, guiding the search towards the optimal solution. \n",
    "        The pheromones evaporate over time, which prevents premature convergence to suboptimal solutions.\n",
    "\n",
    "    Example:\n",
    "        >>> # Define a simple graph and edge distances\n",
    "        >>> graph = np.array([[0, 1, 2], [1, 0, 1], [2, 1, 0]])  # Distance matrix\n",
    "        >>> edges = {(0, 1): 1, (0, 2): 2, (1, 2): 1}\n",
    "        >>> iters = 50\n",
    "        >>> startingPheromones = 1.0\n",
    "        >>> constPheromones = 1.0\n",
    "        >>> evaporation = 0.1\n",
    "        >>> alpha = 1.0\n",
    "        >>> beta = 2.0\n",
    "        >>> best_ant, pheromons_iterations = ACO(graph, edges, iters, startingPheromones, constPheromones, evaporation, alpha, beta)\n",
    "        >>> print(\"Best path:\", best_ant.__str__())  # Print the best path found by an ant\n",
    "        >>> print(\"Pheromone levels:\", pheromons_iterations)  # Show pheromone levels over iterations\n",
    "    \n",
    "    \"\"\"\n",
    "    pheromones = {(u, v) : startingPheromones for u, v in edges}\n",
    "\n",
    "    pheromonsIterations = [[pheromones[val] for val in pheromones]]\n",
    "    ants = [Ant(i, graph, constPheromones, alpha, beta) for i in range(len(graph))]\n",
    "\n",
    "    for _ in range(iters):\n",
    "        for ant in ants:\n",
    "            ant.findSoulution(pheromones)\n",
    "\n",
    "        for u, v in pheromones:\n",
    "            pheromones[(u, v)] *= (1 - evaporation)\n",
    "\n",
    "        for ant in ants:\n",
    "            fromAnt = ant.getPheromons()\n",
    "            for u, v in fromAnt:\n",
    "                pheromones[(u, v)] += fromAnt[(u, v)]\n",
    "                \n",
    "        pheromonsIterations.append([pheromones[val] for val in pheromones])\n",
    "    ants.sort() \n",
    "    return ants[0], pheromonsIterations"
   ]
  },
  {
   "cell_type": "markdown",
   "id": "d624c1ba-60ec-4049-9523-cadc3c654b7d",
   "metadata": {},
   "source": [
    "# Primer:\n",
    "TSP sa 10 gradova:"
   ]
  },
  {
   "cell_type": "code",
   "execution_count": 39,
   "id": "1a59c893-5d72-4805-990d-4c2b49210930",
   "metadata": {},
   "outputs": [],
   "source": [
    "graph = np.array([[ 0, 14, 12,  1, 11, 12, 19,  4, 20,  16],\n",
    "                  [14,  0,  9,  2, 13, 15, 17,  5,  2,  19],\n",
    "                  [12,  9,  0,  6,  2, 15, 14, 11,  3,  19],\n",
    "                  [ 1,  2,  6,  0,  9, 13,  2,  2, 19,   2],\n",
    "                  [11, 13,  2,  9,  0,  7, 18,  9,  4,   6],\n",
    "                  [12, 15, 15, 13,  7,  0,  4,  4,  20,  7], \n",
    "                  [19, 17, 14,  2, 18,  4,  0, 15,   1,  8], \n",
    "                  [ 4,  5, 11,  2,  9,  4, 15,  0,  11, 17], \n",
    "                  [20,  2,  3, 19,  4,  20, 1, 11,   0, 20], \n",
    "                  [16, 19, 19,  2,  6,   7, 8, 17,  20,  0]])"
   ]
  },
  {
   "cell_type": "code",
   "execution_count": 40,
   "id": "35ae5ab0-b540-4231-b611-d99c29e5bca8",
   "metadata": {},
   "outputs": [],
   "source": [
    "edges = {}\n",
    "for i in range(len(graph)):\n",
    "    for j in range(i, len(graph)):\n",
    "        if graph[i, j] != 0:\n",
    "            edges[(i, j)] = graph[i, j]"
   ]
  },
  {
   "cell_type": "code",
   "execution_count": 41,
   "id": "55fea8d6-f02f-42ab-92f3-d985f2faf368",
   "metadata": {},
   "outputs": [
    {
     "name": "stdout",
     "output_type": "stream",
     "text": [
      "path: [1, 8, 6, 5, 7, 0, 3, 9, 4, 2], length: 26\n"
     ]
    }
   ],
   "source": [
    "bestAnt, graphACO = ACO(graph, edges, 1000, 0.4, 5, 0.5, 1, 2)\n",
    "print(bestAnt)"
   ]
  },
  {
   "cell_type": "markdown",
   "id": "8105269e-8d6c-4213-b4bc-e37cfb0eeef0",
   "metadata": {},
   "source": [
    "## Iscrtavanje:"
   ]
  },
  {
   "cell_type": "code",
   "execution_count": 42,
   "id": "9adbcb14-8f62-4c17-b3c3-e70eb11ecc4f",
   "metadata": {},
   "outputs": [],
   "source": [
    "import matplotlib.pyplot as plt\n",
    "import ipywidgets as widgets\n",
    "import networkx as nx"
   ]
  },
  {
   "cell_type": "code",
   "execution_count": 43,
   "id": "db457eec-e948-4929-8529-858ed2f6d2ad",
   "metadata": {},
   "outputs": [],
   "source": [
    "def drawACO(i):\n",
    "    nx.draw(G, pos, node_color = 'lightseagreen', edge_color = 'mediumseagreen', width=graphACO[i], with_labels=True)\n",
    "    nx.draw_networkx_edge_labels(G, pos, edge_labels = edges, font_color='black')\n",
    "    plt.show()"
   ]
  },
  {
   "cell_type": "code",
   "execution_count": 44,
   "id": "cefa0628-a92a-40e1-9632-0a9e9dac2875",
   "metadata": {},
   "outputs": [],
   "source": [
    "G = nx.Graph()\n",
    "for u, v in edges:\n",
    "    G.add_edge(u, v, weight=edges[(u, v)])\n",
    "pos = nx.shell_layout(G)"
   ]
  },
  {
   "cell_type": "code",
   "execution_count": 45,
   "id": "b273bf69-ecca-4d71-ae5c-039ec5222e70",
   "metadata": {},
   "outputs": [
    {
     "data": {
      "application/vnd.jupyter.widget-view+json": {
       "model_id": "57d18aa5a7ee4d2db46b9d4305c7002a",
       "version_major": 2,
       "version_minor": 0
      },
      "text/plain": [
       "interactive(children=(IntSlider(value=0, description='i', max=1000), Output()), _dom_classes=('widget-interact…"
      ]
     },
     "metadata": {},
     "output_type": "display_data"
    },
    {
     "name": "stdout",
     "output_type": "stream",
     "text": [
      "path: [1, 8, 6, 5, 7, 0, 3, 9, 4, 2], length: 26\n"
     ]
    }
   ],
   "source": [
    "widgets.interact(drawACO, i = widgets.IntSlider(min=0, max=len(graphACO) - 1, step=1));\n",
    "print(bestAnt)"
   ]
  },
  {
   "cell_type": "markdown",
   "id": "992f7673-ce98-409a-866c-3c891130cd11",
   "metadata": {},
   "source": [
    "## 10.3 Artificial Bee Colony (ABC):\n",
    "Algoritam je zasnovan na ponašanju pčela prilikom traženja polena. \n",
    "Pčele komuniciraju plesom, kojim govore ostalim pčelama gde se nalazi više polena, odnosno gde je kvalitetnije rešenje.\n",
    "\n",
    "Pčele su podeljene na tri grupe:\n",
    "1. **Employed bees (Zaposlene)** - ove pčele imaju dužnost da \"iscrpljuju\" resurs koje su one našle kao optimalan.\n",
    "2. **Onlooker bees (Posmatrači)** - ove pčele na osnovu kvaliteta ostalih pčela i njihovog \"plesa\" biraju da li će nastaviti da iscrpljuju svoje resurse ili će preći na neki bolji resurs populacije.\n",
    "3. **Scout bees (Izviđači)** - ovo su pčele koje nakon što su iscrpile svoj resurs biraju neki sledeći neistraženi resurs.\n",
    "\n",
    "Dakle ideja je sledeća, zaposlene pčele prikuljaju polen (poboljšava lokalno svoje rešenje , tj. eksploatacija), dok pčele posmatrači nadgledaju i traže one pčele koje su našle najviše polena i šalju druge pčele da rade na tim pozicijama (konvergencija rešenja) i na kraju pčele istraživači traže druge izvore polena (eksploracija).\n",
    "\n",
    "Mada su pomenute kao tri različite grupe pčela, ustvari svaka pčela unutar populacije menja svoju ulogu, pa se može reći i da prolazi kroz 3 faze ponašanja u svakoj iteraciji. \n",
    "\n",
    "Svaka pčela ima sledeće informacije i funkcije:\n",
    "- **pos** - trenutna pozicija pčele.\n",
    "- **bestPos** - najbolja pozicija pčele.\n",
    "- **failedImprovement** - ova promenljiva meri koliko dugo pčela nije poboljšala svoje rešenje ukoliko ovaj broj prekorači predodređenu vrednost **strpljenja** pčela postaje izviđač i uzima novo nasumično rešenje.\n",
    "- **employedPhase()** - pčela vrši lokalnu pretragu svoje okoline, ukoliko ne nađe bolje rešenje failedImprovement se povećava.\n",
    "- **onlookerPhase()** - pčela postaje posmatrač i ako naiđe na pčelu koja ima bolje rešenje od njenog najboljeg rešenja prebacuje se na tu poziciju.\n",
    "- **scoutPhase()** - pčela postaje izviđač onog momenta kada se pređe strpljenje.\n",
    "\n",
    "U svakoj iteraciji, za svaku pčelu vršimo sve tri faze: \n",
    "1. **Employed Phase**:\\\n",
    "\tPčela istražuje okolinu svog trenutnog rešenja koristeći trenutno najbolje globalno rešenje pouplacije:\\\n",
    "\t$$p_{new} = p_{old} + \\phi_i (p_{localBest} - p_{random})$$\n",
    "\t\\\n",
    "\tu ovoj formuli $\\phi_i$ je vrednost između -1 i 1, koja uvodi stohastičnost u celu pretragu, a $p_{random}$ pretstavlja pseudo-nasumičnu poziciju neke od pčela iz populacije. \n",
    "\tUkoliko je novonađena pozicija kvalitetnija, pored izmene najboljeg lokalnog rešenja, proverava se da li je globalno bolja.\n",
    "1. **Onlooker Phase**:\\\n",
    "\tPčela bira neku od pčela po principu ruleta, gde svaka od pčela ima šansu da bude izabrana na osnovu sledeće formule:\\\n",
    "\t$$p_i = \\dfrac{f_i}{\\sum_{i = 1}^n f_i}$$\n",
    "\t\\\n",
    "\tUkoliko je vrednost najboljeg rešenja izabrane pčele bolja od nabolje vrednosti pčele posmatrača, pčela posmatrač odbacuje sve resurse i prebacuje se na izabranu pčelu, inače ništa se ne dešava.\n",
    "3. **Scout Phase**:\\\n",
    "\tUkoliko se kvalitet rešenja pčele nije poboljšalo predodređen broj iteracija pčela bira neku nasumičnu poziciju unutar domena."
   ]
  },
  {
   "cell_type": "code",
   "execution_count": 46,
   "id": "1dbd052e-9f0e-4071-bbc0-e57447f52e11",
   "metadata": {},
   "outputs": [],
   "source": [
    "import numpy as np\n",
    "import copy as cp\n",
    "import random"
   ]
  },
  {
   "cell_type": "code",
   "execution_count": 47,
   "id": "169c5964-d6d7-4ed6-b262-f9e2c146075f",
   "metadata": {},
   "outputs": [],
   "source": [
    "class Bee:\n",
    "    \"\"\"\n",
    "    A class representing a single bee in the Artificial Bee Colony (ABC) algorithm.\n",
    "\n",
    "    The `Bee` class is used to simulate the behavior of bees in an optimization problem.\n",
    "    Each bee searches for optimal solutions within a defined domain using the employed,\n",
    "    onlooker, and scout phases. The class keeps track of its own best position, fitness,\n",
    "    and the global best position and fitness found by any bee in the population.\n",
    "\n",
    "    Attributes:\n",
    "        globalBestPos (np.array): The best position found globally by any bee in the population.\n",
    "        globalMin (float): The objective value at the global best position.\n",
    "\n",
    "    Methods:\n",
    "        __init__(domain, f, patience=100):\n",
    "            Initializes the bee with a random position and evaluates its fitness.\n",
    "        \n",
    "        calcFitness(newPos):\n",
    "            Updates the fitness of the bee based on a new position.\n",
    "        \n",
    "        employedPhase(population):\n",
    "            Explores a neighboring solution based on another randomly selected bee.\n",
    "\n",
    "        onlookerPhase(population):\n",
    "            Probabilistically selects another bee and adopts its state if it's better.\n",
    "\n",
    "        scoutPhase():\n",
    "            Reinitializes the bee's position if it has failed to improve for a specified number of iterations.\n",
    "\n",
    "        getBest():\n",
    "            Returns the best fitness value found by the bee.\n",
    "\n",
    "        getPos():\n",
    "            Returns the current position of the bee.\n",
    "\n",
    "        getFitness():\n",
    "            Returns the fitness value of the bee's current position.\n",
    "    \"\"\"\n",
    "    globalBestPos = None\n",
    "    globalMin = None\n",
    "    \n",
    "    def __init__(self, domain: np.array, f: callable, patience: int = 100):\n",
    "        \"\"\"\n",
    "        Initializes a Bee instance.\n",
    "\n",
    "        Args:\n",
    "            domain (np.array): Array specifying the lower and upper bounds for each dimension.\n",
    "            f (callable): The objective function to minimize.\n",
    "            patience (int, optional): Number of iterations without improvement before the bee becomes a scout. Default is 100.\n",
    "        \"\"\"\n",
    "        self.__F = f\n",
    "        self.__domain = domain\n",
    "        self.__faildImprovements = 0\n",
    "        self.__patience = patience\n",
    "        \n",
    "        self.__pos = np.array([random.uniform(bound[0], bound[1]) for bound in self.__domain])\n",
    "        self.bestPos = cp.deepcopy(self.__pos)\n",
    "        \n",
    "        self.currVal = self.__F(self.__pos)\n",
    "        self.__bestVal = self.currVal\n",
    "\n",
    "    def calcFitness(self, newPos):\n",
    "        \"\"\"\n",
    "        Updates the fitness of the bee based on a new position.\n",
    "\n",
    "        If the new position improves the objective value, it updates the bee's position,\n",
    "        best position, and fitness. It also checks for a global improvement and updates\n",
    "        global best values if necessary.\n",
    "\n",
    "        Args:\n",
    "            newPos (np.array): The new position to evaluate.\n",
    "        \"\"\"\n",
    "        self.currVal = self.__F(newPos)\n",
    "        \n",
    "        if self.currVal < self.__bestVal:\n",
    "            self.__pos = cp.deepcopy(newPos)\n",
    "            self.__bestVal = self.currVal\n",
    "            self.bestPos = cp.deepcopy(self.__pos)\n",
    "            self.__faildImprovements = 0\n",
    "\n",
    "            if Bee.globalBestPos is None or self.__bestVal < Bee.globalMin:\n",
    "                Bee.globalBestPos = cp.deepcopy(self.bestPos)\n",
    "                Bee.globalMin = self.__bestVal\n",
    "        else:\n",
    "            self.__faildImprovements += 1\n",
    "        \n",
    "    def employedPhase(self, population: list):\n",
    "        \"\"\"\n",
    "        Performs the employed bee phase by exploring a neighboring solution.\n",
    "\n",
    "        A random bee from the population is selected, and a new candidate position\n",
    "        is generated based on the difference between the current bee's position\n",
    "        and the selected bee's position. The new position is clipped to the feasible\n",
    "        domain, and the fitness is evaluated.\n",
    "\n",
    "        Args:\n",
    "            population (list): The list of all bees in the hive.\n",
    "        \"\"\"\n",
    "        lowerBound = np.array([x[0] for x in self.__domain])\n",
    "        upperBound = np.array([x[1] for x in self.__domain])\n",
    "        selectedBee = random.choice(population)\n",
    "        newPos = np.clip(self.__pos + random.uniform(-1, 1)*(self.__pos - selectedBee.getPos()), lowerBound, upperBound)\n",
    "        \n",
    "        self.calcFitness(newPos)\n",
    "\n",
    "    def onlookerPhase(self, population: list):\n",
    "        \"\"\"\n",
    "        Performs the onlooker bee phase by probabilistically selecting a bee.\n",
    "\n",
    "        The probability of selecting a bee is proportional to its fitness relative to\n",
    "        the total fitness of the population. If the selected bee has a better fitness\n",
    "        than the current bee, the current bee adopts the selected bee's state.\n",
    "\n",
    "        Args:\n",
    "            population (list): The list of all bees in the hive.\n",
    "        \"\"\"\n",
    "        sumFitness = 0\n",
    "        for p in population:\n",
    "            sumFitness += p.currVal \n",
    "        selectedBee = np.random.choice(population, p = [p.currVal / sumFitness for p in population])\n",
    "\n",
    "        if selectedBee.getBest() < self.__bestVal:\n",
    "            self = cp.deepcopy(selectedBee)\n",
    "            self.__faildImprovements = 0\n",
    "\n",
    "    def scoutPhase(self):\n",
    "        \"\"\"\n",
    "        Performs the scout bee phase by randomly reinitializing the position.\n",
    "\n",
    "        If the bee has failed to improve for a number of iterations exceeding\n",
    "        its patience, it is reinitialized to a new random position within the\n",
    "        feasible domain.\n",
    "        \"\"\"\n",
    "        if self.__faildImprovements > self.__patience:\n",
    "            newPos = np.array([random.uniform(bound[0], bound[1]) for bound in self.__domain])\n",
    "            self.calcFitness(newPos)\n",
    "\n",
    "    def getBest(self):\n",
    "        return self.__bestVal\n",
    "    \n",
    "    def getPos(self):\n",
    "        return self.__pos\n",
    "\n",
    "    def getFitness(self):\n",
    "        return self.__F(self.__pos)\n",
    "    \n",
    "    def __lt__(self, other):\n",
    "        return self.currVal < other.currVal\n",
    "    \n",
    "    def __str__(self):\n",
    "        return f\"pos: {self.bestPos}, fit: {self.__bestVal}\""
   ]
  },
  {
   "cell_type": "markdown",
   "id": "5a360ee5-6155-4a8f-9384-c95f645aa9d1",
   "metadata": {},
   "source": [
    "### Pseudokod ABC:\n",
    "- generiši populaciju $P(n)$\n",
    "- nadji globalniMin = min($P(n)$)\n",
    "- **while** nisu ispunjeni uslovi:\n",
    "\t- **for** bee in $P(n)$:\n",
    "\t\t- employedPhase(bee)\n",
    "\t\t- onlookerPhase(bee)\n",
    "\t\t- scoutPhase(bee)\n",
    "\t- **end**\n",
    "- **end**"
   ]
  },
  {
   "cell_type": "code",
   "execution_count": 48,
   "id": "e94be190-9ce9-435b-8921-1129e78c3d9a",
   "metadata": {},
   "outputs": [],
   "source": [
    "def ABC(f: callable, domain: np.array, populationSize: int = 30, numIter: int = 100, L: int = 100):\n",
    "    \"\"\"\n",
    "    Executes the Artificial Bee Colony (ABC) optimization algorithm.\n",
    "\n",
    "    The ABC algorithm is a population-based metaheuristic inspired by the foraging behavior \n",
    "    of honey bees. This function uses `Bee` objects to explore and exploit the search space \n",
    "    for finding the global minimum of the objective function.\n",
    "\n",
    "    Args:\n",
    "        f (callable): The objective function to minimize. It must take a NumPy array as input \n",
    "                      and return a scalar value.\n",
    "        domain (np.array): A 2D array specifying the search space for the optimization. \n",
    "                           Each row defines the lower and upper bounds for one dimension.\n",
    "        populationSize (int, optional): The number of bees in the hive. Defaults to 30.\n",
    "        numIter (int, optional): The number of iterations to run the algorithm. Defaults to 100.\n",
    "        L (int, optional): The patience parameter, determining the number of iterations a bee \n",
    "                           waits before becoming a scout. Defaults to 100.\n",
    "\n",
    "    Returns:\n",
    "        list: A two-element list containing:\n",
    "            - `graph` (list): A record of the positions of all bees at each iteration. \n",
    "              Each entry is a list of positions (one for each bee) in the population.\n",
    "            - `bestBee` (Bee): The `Bee` object representing the best solution found.\n",
    "\n",
    "    Description:\n",
    "        This function applies the Artificial Bee Colony (ABC) algorithm, which is a nature-inspired optimization algorithm \n",
    "        based on the foraging behavior of honey bees. The algorithm uses three types of bees: employed bees, onlooker bees, and \n",
    "        scout bees, to explore the search space. Employed bees exploit a given food source (search point), onlooker bees \n",
    "        probabilistically select food sources based on the fitness of the employed bees, and scout bees randomly explore the \n",
    "        search space when a food source is no longer productive.\n",
    "\n",
    "        The ABC algorithm proceeds iteratively, with each iteration consisting of the following phases:\n",
    "            - Employed Phase: Bees explore the search space near their current position and evaluate the fitness of new positions.\n",
    "            - Onlooker Phase: Bees select positions based on the fitness of employed bees and evaluate them.\n",
    "            - Scout Phase: If no improvement is found over a number of iterations, scout bees randomly explore the search space.\n",
    "\n",
    "        The algorithm terminates after a predefined number of iterations, or when no further improvement is found.\n",
    "\n",
    "\n",
    "    Example:\n",
    "        >>> f = lambda x: np.sum(x**2)  # Objective: minimize the sum of squares\n",
    "        >>> domain = np.array([[-10, 10], [-10, 10]])  # Search space for 2D problem\n",
    "        >>> graph, bestBee = ABC(f, domain, 50, 200, 50)\n",
    "        >>> print(bestBee)  # Outputs the best position and fitness found\n",
    "    \"\"\"\n",
    "    hive = [Bee(domain, f, L) for _ in range(populationSize)]\n",
    "\n",
    "    graph = [[bee.getPos() for bee in hive]]\n",
    "    bestBee = min(hive)\n",
    "    \n",
    "    Bee.globalBestPos = cp.deepcopy(bestBee.getPos())\n",
    "    Bee.globalMin = bestBee.getFitness()\n",
    "    \n",
    "    for _ in range(numIter):\n",
    "        for bee in hive:\n",
    "            bee.employedPhase(hive);\n",
    "            bee.onlookerPhase(hive);\n",
    "            bee.scoutPhase();\n",
    "        \n",
    "        newBeePos = np.array([bee.getPos() for bee in hive])\n",
    "        graph.append(newBeePos)\n",
    "            \n",
    "    return [graph, min(hive)]"
   ]
  },
  {
   "cell_type": "markdown",
   "id": "f0841b94-dd3c-4750-a67c-7e344c4951b2",
   "metadata": {},
   "source": [
    "# Primer: \n",
    "Tražimo minimum funkcije $f(x, y) = 20 + (x^2 - 10\\cos(2\\pi x) + y^2 - 10\\cos(2\\pi y))$ poznata i kao [\"Rastrigin function\"](https://en.wikipedia.org/wiki/Rastrigin_function), tražimo rešenje na $-5.12 \\leq x,y \\leq 5.12$. "
   ]
  },
  {
   "cell_type": "code",
   "execution_count": 49,
   "id": "aaa7fd2f-36eb-4453-af92-6d906c6916cb",
   "metadata": {},
   "outputs": [],
   "source": [
    "def fABC(params: np.array) -> float:\n",
    "    x = params[0]\n",
    "    y = params[1]\n",
    "    return 20 + (x**2 - 10 * np.cos(2*np.pi*x) + y**2 - 10 * np.cos(2*np.pi*y))"
   ]
  },
  {
   "cell_type": "code",
   "execution_count": 50,
   "id": "d7721c82-b470-4fea-88a8-366768b22142",
   "metadata": {},
   "outputs": [
    {
     "name": "stdout",
     "output_type": "stream",
     "text": [
      "pos: [5.98128309e-06 8.87309587e-07], fit: 7.253824207964499e-09\n"
     ]
    }
   ],
   "source": [
    "domainABC = np.array([[-5.12, 5.12], [-5.12, 5.12]])\n",
    "graphABC, bestBee = ABC(fABC, domainABC, 100, 100, 50)\n",
    "print(bestBee)"
   ]
  },
  {
   "cell_type": "markdown",
   "id": "b66b1df0-d9b3-4314-8908-af284bb9cf70",
   "metadata": {},
   "source": [
    "## Iscrtavanje:"
   ]
  },
  {
   "cell_type": "code",
   "execution_count": 51,
   "id": "dcf94f70-c3ab-4e02-b198-540c98aee61c",
   "metadata": {},
   "outputs": [],
   "source": [
    "import matplotlib.pyplot as plt\n",
    "import ipywidgets as widgets"
   ]
  },
  {
   "cell_type": "code",
   "execution_count": 52,
   "id": "c966c808-d5a9-4ad9-aa46-ecddb4121a16",
   "metadata": {},
   "outputs": [],
   "source": [
    "X_ABC, Y_ABC = np.meshgrid(np.linspace(domainABC[0][0], domainABC[0][1], 256), np.linspace(domainABC[1][0], domainABC[1][1], 256))\n",
    "Z_ABC = np.array([fABC(np.array([x, y])) for x, y in zip(X_ABC, Y_ABC)])\n",
    "\n",
    "levels_ABC = np.linspace(Z_ABC.min(), Z_ABC.max(), 50)\n",
    "def drawABC(i):\n",
    "    xs = [graphABC[i][j][0] for j in range(len(graphABC[0]))]\n",
    "    ys = [graphABC[i][j][1] for j in range(len(graphABC[0]))]\n",
    "\n",
    "    plt.contourf(X_ABC, Y_ABC, Z_ABC, levels=levels_ABC)\n",
    "    plt.scatter(xs, ys, c='red');\n",
    "    plt.subplots_adjust(left=0.0, right=0.6)\n",
    "    \n",
    "    plt.xlim(domainABC[0][0], domainABC[0][1])\n",
    "    plt.ylim(domainABC[1][0], domainABC[1][1])"
   ]
  },
  {
   "cell_type": "code",
   "execution_count": 53,
   "id": "20e18f23-d690-484b-bb9d-99472a14beca",
   "metadata": {},
   "outputs": [
    {
     "data": {
      "application/vnd.jupyter.widget-view+json": {
       "model_id": "4c4a62281cd742dd9e1b264a0164b467",
       "version_major": 2,
       "version_minor": 0
      },
      "text/plain": [
       "interactive(children=(IntSlider(value=0, description='i'), Output()), _dom_classes=('widget-interact',))"
      ]
     },
     "metadata": {},
     "output_type": "display_data"
    },
    {
     "name": "stdout",
     "output_type": "stream",
     "text": [
      "pos: [5.98128309e-06 8.87309587e-07], fit: 7.253824207964499e-09\n"
     ]
    }
   ],
   "source": [
    "widgets.interact(drawABC, i = widgets.IntSlider(min=0, max=len(graphABC) - 1, step=1));\n",
    "print(bestBee)"
   ]
  },
  {
   "cell_type": "markdown",
   "id": "5f139eda-2095-48f9-afb9-3f35c6b98006",
   "metadata": {},
   "source": [
    "# 11. S - Metaheuristike:\n",
    "Prethodno opisani kao metaheuristike koje se bave jednim rešenjem koje konstantno unapređuju.\n",
    "U poglavlju 8.1 opisna je VNS metaheuristika, a ovde ćemo dodatno opisati Simulirano kaljenje (Simulated Annealing) i Tabu pretragu (Tabu search)."
   ]
  },
  {
   "cell_type": "markdown",
   "id": "3354a2cd-edaa-4757-9311-8ba6229779af",
   "metadata": {},
   "source": [
    "## 11.1 Simulated Annealing (SA):\n",
    "U obradi čelika teknika **kaljenja** funkcioniše po principu zagrevanja, čestice bro menjaju kristalnu rešetku i svoje pozicije, i ponovnog hlađenja, čestice zauzimaju pozicije, čelika. Ovaj proces, sporog hlađenja, dovodi do ojačavanja tvrdoće čelika.\n",
    "\n",
    "Po uzoru na ovaj proces nastala je i optimizacija Simuliranog kaljenja. \n",
    "Na početku algoritma \"temperatura\" sistema je podešena na 1 koja se vremenom smanjuje.\n",
    "Temperatura u optimizaciji predstavlja verovatnoću uzimanja lošijeg rešenja, kako se temperatura smanjuje vremenom ta verovatnoća se smanjuje, što simulira proces kaljenja.\n",
    "\n",
    "### Pseudokod SA:\n",
    "- generiši rešenje $x_{local}$\n",
    "- definišemo i = 0, $x_{best}$\n",
    "- **while** nisu ispunjen uslovi:\n",
    "\t- $x_{i+1} = move(x_{local})$ \n",
    "\t\t- **if** $f(x_{i+1}) < f(x_{best})$:\n",
    "\t\t\t- $x_{best} = x_{i+1}$\n",
    "\t\t\t- $x_{local} = x_{i+1}$\n",
    "\t\t- **else if** $random() < temp$(i):\n",
    "\t\t\t- $x_{local} = x_{i+1}$\n",
    "\t\t- **end**\n",
    "\t- i = i + 1\n",
    "- **end**"
   ]
  },
  {
   "cell_type": "markdown",
   "id": "94e8ddb9-5532-40d1-9a28-e2fde4bcfd2d",
   "metadata": {},
   "source": [
    "**Primer:** Tražimo minimum funkcije $f(x, y) = 20 + (x^2 - 10\\cos(2\\pi x) + y^2 - 10\\cos(2\\pi y))$ poznata i kao [\"Rastrigin function\"](https://en.wikipedia.org/wiki/Rastrigin_function), tražimo rešenje na $-5.12 \\leq x,y \\leq 5.12$. "
   ]
  },
  {
   "cell_type": "code",
   "execution_count": 54,
   "id": "0779cd96-5a68-4335-b44a-8249ea4417e2",
   "metadata": {},
   "outputs": [],
   "source": [
    "import numpy as np\n",
    "import copy as cp"
   ]
  },
  {
   "cell_type": "code",
   "execution_count": 55,
   "id": "fda907c2-5f69-4f64-983c-e128bf2afec8",
   "metadata": {},
   "outputs": [],
   "source": [
    "class SolutionSA:\n",
    "    def __init__(self, bounds: np.array, f: callable) -> 'SolutionSA':\n",
    "        self.__F = f\n",
    "        self.__bounds = bounds\n",
    "        self.xlocal = np.array([random.uniform(bound[0], bound[1]) for bound in self.__bounds])\n",
    "        self.calcFitness()\n",
    "    \n",
    "    def move(self) -> 'SolutionSA':\n",
    "        newSolution = cp.deepcopy(self)\n",
    "        \n",
    "        lowerBound = np.array([x[0] for x in self.__bounds])\n",
    "        upperBound = np.array([x[1] for x in self.__bounds])\n",
    "        newSolution.xlocal = np.clip(newSolution.xlocal + np.array([random.uniform(-1, 1) for _ in self.__bounds]), lowerBound, upperBound)\n",
    "        newSolution.calcFitness()\n",
    "        \n",
    "        return newSolution\n",
    "    \n",
    "    def calcFitness(self) -> None:\n",
    "        self.fit = self.__F(self.xlocal)\n",
    "\n",
    "    def __lt__(self, other: 'SolutionSA') -> bool:\n",
    "        return self.fit < other.fit\n",
    "    \n",
    "    def __str__(self) -> str:\n",
    "        return f\"solution: {self.xlocal}, min: {self.fit}\""
   ]
  },
  {
   "cell_type": "markdown",
   "id": "9e9248e7-f46b-4a18-a0c2-9d833935092a",
   "metadata": {},
   "source": [
    "Sam proces nalaženja nove tačke može se raditi na različite načine u zavisnosti od problema. \n",
    "U našem slučaju koristili smo pomeraj po uniformnoj raspodeli na intervalu [-1, 1], odnosno:\\\n",
    "$$x_{i+1,j} = x_{local,j} + U(-1, 1), j\\in[0, n)$$\\\n",
    "gde je **n** veličina prostora u kom stražimo rešenje."
   ]
  },
  {
   "cell_type": "code",
   "execution_count": 56,
   "id": "3bcbdfd8-e79d-4ed5-b216-8e240a0dcc4c",
   "metadata": {},
   "outputs": [],
   "source": [
    "def tempSA(T0: float, iteration: int) -> float:\n",
    "    return T0*(np.log(2)/np.log(iteration + 1))\n",
    "#logaritamsko: T0*(np.log(2)/np.log(iteration + 1))\n",
    "#brzo kaljenje: T0/iteration"
   ]
  },
  {
   "cell_type": "code",
   "execution_count": 57,
   "id": "9d91cf6f-08a2-4777-9a6c-bfacf977a220",
   "metadata": {},
   "outputs": [],
   "source": [
    "def SA(f: callable, bounds: np.array, tempF: callable, startTemperature: float = 1, iterations: int = 100) -> 'SolutionSA':\n",
    "    xbest = SolutionSA(bounds, f)\n",
    "    xlocal = cp.deepcopy(xbest)\n",
    "    graph = [[xbest.xlocal, 1]]\n",
    "    i = 1\n",
    "    while i < iterations:\n",
    "        xnew = xlocal.move()\n",
    "        if xnew < xbest:\n",
    "            xbest = cp.deepcopy(xnew)\n",
    "            xlocal = cp.deepcopy(xnew)\n",
    "            graph.append([xnew.xlocal, 1])\n",
    "        elif random.random() < tempSA(startTemperature, i+1):\n",
    "            xlocal = cp.deepcopy(xnew)\n",
    "            graph.append([xnew.xlocal, 0])\n",
    "        else:\n",
    "            graph.append([xlocal.xlocal, -1])\n",
    "            \n",
    "        i = i + 1\n",
    "    return graph, xbest"
   ]
  },
  {
   "cell_type": "markdown",
   "id": "3045f3d2-d68b-45dc-a20d-803b222795fb",
   "metadata": {},
   "source": [
    "Na samom početku programa pravimo neko pseudo-nasumično rešenje, postavljamo to rešenje kao najbolje i brojač iteracija.\n",
    "\n",
    "Kao uslov zaustavljanja biramo broj iteracija, još jedan način u ovom primeru bi bio da posmatramo kada je razlika najboljeg i trenutnog novog rešenja $< \\epsilon$. \n",
    "\n",
    "Kada smo našli novo rešenje moramo da vidimo da li je ono bolje ili lošije od prethodnog najboljeg. U slučaju da je bolje čuvamo to repešenje kao najbolje povećavamo brojač i = i+1 zatim tražimo sledeće rešenje preko iste funkcije **move()**. \n",
    "U slučaju lošijeg rešenja koristimo **temperaturu** da bi odredili da li uzimamo rešenje ili ne.\n",
    "Temperatura može da bude bilo koja opadajuća funkcija, neke navedene su:\n",
    "- Logaritamska:\\\n",
    "$$temp(i) = T_0*\\frac{ln(2)}{ln(i+1)}$$\n",
    "- Brzo kaljenje:\\\n",
    "$$temp(i) = \\frac{T_0}{i+1}$$\n",
    "\n",
    "Ove funkcije na početku tolerišu sva lošija rešenja dok se kasnije, kako prolaze iteracije, ta tolerancija smanjuje. Ovaj princip u isto vreme na samom početku praktikuje eksporaciju a kasnije i eksploataciju prostora rešenja."
   ]
  },
  {
   "cell_type": "code",
   "execution_count": 58,
   "id": "2c021644-ca6d-482d-964d-8fb0d48d102d",
   "metadata": {},
   "outputs": [],
   "source": [
    "def fSA(x: np.array):\n",
    "    return 10*len(x) + sum(coord**2 - 10*np.cos(2*np.pi*coord) for coord in x)"
   ]
  },
  {
   "cell_type": "code",
   "execution_count": 59,
   "id": "d4a85d02-0527-4133-8131-20d7d1111162",
   "metadata": {},
   "outputs": [],
   "source": [
    "boundsSA = np.array([[-5.12, 5.12], [-5.12, 5.12]])\n",
    "startingTemp = 10\n",
    "iterationsSA = 10000"
   ]
  },
  {
   "cell_type": "code",
   "execution_count": 60,
   "id": "19697f6b-2887-46e6-910e-ed780b60e7af",
   "metadata": {},
   "outputs": [
    {
     "name": "stdout",
     "output_type": "stream",
     "text": [
      "solution: [-0.03369457 -0.02804952], min: 0.38009202035037504\n"
     ]
    }
   ],
   "source": [
    "graphSA, pointSA = SA(fSA, boundsSA, tempSA, startTemperature = startingTemp, iterations=iterationsSA)\n",
    "print(pointSA)"
   ]
  },
  {
   "cell_type": "markdown",
   "id": "d166002f-0b0d-4e9f-b400-81f5df715dce",
   "metadata": {},
   "source": [
    "# Iscrtavanje:"
   ]
  },
  {
   "cell_type": "code",
   "execution_count": 61,
   "id": "fe743cae-c2c2-42f1-bf83-9e20ea877df6",
   "metadata": {},
   "outputs": [],
   "source": [
    "import matplotlib.pyplot as plt\n",
    "from matplotlib.lines import Line2D\n",
    "import ipywidgets as widgets"
   ]
  },
  {
   "cell_type": "code",
   "execution_count": 62,
   "id": "e501e716-c8eb-4eeb-991d-2a33e5dd8123",
   "metadata": {},
   "outputs": [],
   "source": [
    "X_SA, Y_SA = np.meshgrid(np.linspace(boundsSA[0][0], boundsSA[0][1], 256), np.linspace(boundsSA[1][0], boundsSA[1][1], 256))\n",
    "Z_SA = np.array([fSA(np.array([x, y])) for x, y in zip(X_SA, Y_SA)])\n",
    "\n",
    "xTemp = np.linspace(2, iterationsSA, 256)\n",
    "legend_elementsSA = [\n",
    "    Line2D([0], [0], marker='o', color='w', label='Novo najbolje', markerfacecolor='red', markersize=10),\n",
    "    Line2D([0], [0], marker='o', color='w', label='Novo losije', markerfacecolor='darkorange', markersize=10),\n",
    "    Line2D([0], [0], marker='o', color='w', label='Nema promena', markerfacecolor='black', markersize=10)\n",
    "]\n",
    "\n",
    "levels_SA = np.linspace(Z_SA.min(), Z_SA.max(), 50)\n",
    "def drawSA(i):\n",
    "    xs = graphSA[i][0][0]\n",
    "    ys = graphSA[i][0][1]\n",
    "    color_SA = 'red'\n",
    "    if graphSA[i][1] == 0:\n",
    "        color_SA = 'darkorange'\n",
    "    elif graphSA[i][1] == -1:\n",
    "        color_SA = 'black'\n",
    "    plt.figure(figsize=(14, 5))\n",
    "    \n",
    "    plt.subplot(1, 2, 1)\n",
    "    plt.legend(handles=legend_elementsSA, loc='upper right')\n",
    "    \n",
    "    plt.contourf(X_SA, Y_SA, Z_SA, levels = levels_SA)\n",
    "    plt.scatter(xs, ys, c = color_SA);\n",
    "    plt.subplots_adjust(left=0.0, right=0.6)\n",
    "    plt.title(\"Prostor rešenja\")\n",
    "    \n",
    "    plt.xlim(boundsSA[0][0], boundsSA[0][1])\n",
    "    plt.ylim(boundsSA[1][0], boundsSA[1][1])\n",
    "\n",
    "    plt.subplot(1, 2, 2)\n",
    "    plt.plot(xTemp, [tempSA(startingTemp, x) for x in xTemp])\n",
    "    plt.scatter(i+2, tempSA(startingTemp, i+2), marker = 'o', c = 'red')\n",
    "    plt.xlim(0, iterationsSA)\n",
    "    plt.ylim(tempSA(startingTemp, iterationsSA), tempSA(startingTemp, 2))"
   ]
  },
  {
   "cell_type": "code",
   "execution_count": 63,
   "id": "dd50f74d-b641-47eb-a4a2-157c10843ec8",
   "metadata": {},
   "outputs": [
    {
     "data": {
      "application/vnd.jupyter.widget-view+json": {
       "model_id": "7b4c702940874854a302428128a1208d",
       "version_major": 2,
       "version_minor": 0
      },
      "text/plain": [
       "interactive(children=(Play(value=0, description='i', max=9999), Output()), _dom_classes=('widget-interact',))"
      ]
     },
     "metadata": {},
     "output_type": "display_data"
    },
    {
     "name": "stdout",
     "output_type": "stream",
     "text": [
      "solution: [-0.03369457 -0.02804952], min: 0.38009202035037504\n"
     ]
    }
   ],
   "source": [
    "widgets.interact(drawSA, i = widgets.Play(min = 0, max = len(graphSA) - 1, step=1));\n",
    "print(pointSA)"
   ]
  },
  {
   "cell_type": "markdown",
   "id": "790dad03-28a2-4732-88c2-39e7f4d281a6",
   "metadata": {},
   "source": [
    "# 11.2 Tabu Search (TS):\n",
    "Tabu pretraga temelji se na samom značenju reči \"tabu\", što u ovom kontekstu označava nešto sveto ili zabranjeno. Termin potiče iz jezika naroda Tonge.\n",
    "\n",
    "Slično ovoj definiciji, i algoritam tabu pretrage funkcioniše tako što nameće ograničenja koja sprečavaju izbor određenih rešenja tokom pretrage. Ključni aspekt ovog pristupa jeste korišćenje memorije, kratkoročne ili dugoročne, koja pamti već posećena rešenja i na taj način sprečava njihovo ponavljanje. Ove strukture se nazivaju **tabu liste**, i upravo one čine ovaj algoritam specifičnim.\n",
    "\n",
    "Zabranom povratka na prethodno posećena rešenja, algoritam je prisiljen da istražuje nove oblasti u prostoru rešenja, čime povećava šanse za pronalaženje boljeg rešenja. Međutim, zbog velikog broja potencijalnih rešenja, nije praktično pamtiti sva posećena. Umesto toga, u praksi se najčešće pamte samo ključne tačke ili se koristi ograničena memorija koja evidentira samo nekoliko poslednjih rešenja.\n",
    "\n",
    "Važno zapažanje kod ovog algoritma jeste potreba da se u određenim trenucima prekrše tabu pravila. Ova praksa, poznata kao **kriterijum težnje** (**aspiration criteria**), omogućava izbor rešenja koje je označeno kao tabu, ali koje nudi značajno bolje rezultate od trenutnog najboljeg rešenja. Ovaj pristup osigurava fleksibilnost algoritma i pomaže u izbegavanju lokalnih minimuma.\n",
    "\n",
    "Najvažniji deo tabu pretrage jeste definisanje načina pronalaženja susednih rešenja i odabira odgovarajućeg regiona za pretragu. Ove definicije su specifične za svaki problem i ključne su za uspešno funkcionisanje algoritma.\n",
    "\n",
    "### Pseudokod TS:\n",
    "- generiši rešenje $x_{local}$\n",
    "- definiši $x_{best}$ i $T.append(x_{local})$\n",
    "- **while** nisu ispunjeni uslovi\n",
    "\t- $x_{local} = neighbour(T, x_{local})$\n",
    "\t- **if** $f(x_{local})$ < $f(x_{best})$\n",
    "\t\t- $x_{best} = x_{local}$\n",
    "\t- **end**\n",
    "\t- $T.append(x_{local})$\n",
    "- **end**"
   ]
  },
  {
   "cell_type": "markdown",
   "id": "5ddfca1d-cb96-46b4-9fb9-36dd9fbd49ec",
   "metadata": {},
   "source": [
    "**Primer:** Tražimo minimum funkcije $f(x, y) = 10 + (x^2 - 10\\cos(2\\pi x)$ poznata i kao [\"Rastrigin function\"](https://en.wikipedia.org/wiki/Rastrigin_function), tražimo rešenje na $-5.12 \\leq x \\leq 5.12$."
   ]
  },
  {
   "cell_type": "code",
   "execution_count": 64,
   "id": "0eb5541e-163a-46a4-83d8-877362a57c49",
   "metadata": {},
   "outputs": [],
   "source": [
    "import numpy as np\n",
    "import copy as cp\n",
    "import random"
   ]
  },
  {
   "cell_type": "code",
   "execution_count": 65,
   "id": "47c66a0c-d1e4-4fa2-9422-20fba522a285",
   "metadata": {},
   "outputs": [],
   "source": [
    "def findNeighbourTS(tabuList: list, xlocal: float, bounds: np.array, f: callable) -> float:\n",
    "    lowerBound = np.array(bounds[0])\n",
    "    upperBound = np.array(bounds[1])\n",
    "    while True:\n",
    "        xi = np.clip(xlocal + random.uniform(-1, 1), lowerBound, upperBound)\n",
    "        if (xi not in tabuList and f(xi) < min([f(x) for x in tabuList])) or random.random() < 0.005:\n",
    "            return xi"
   ]
  },
  {
   "cell_type": "markdown",
   "id": "b0adaedf-46ac-494c-8dfe-10a2f476598e",
   "metadata": {},
   "source": [
    "Sledeće rešenje tražimo koristeći se formulom kao u primeru za SA:\\\n",
    "$$x_{i+1} = x_{local} + U(-1, 1)$$\n",
    "Ono što dodatno proveravamo jeste da li je ovo rešenje u listi $T$ (tabu lista), ako jeste tražimo sledeće rešenje po istoj formuli. Možemo dodati dodatan uslov da, mada rešenje nije u tabu listi, ako je lošije od rešenja u tabu listi ipak ne bude izabrano.\n",
    "Kako ovde može doći do beskonačne petlje uvodimo dodatan uslov šanse da se ipak uzme tabu rešenje."
   ]
  },
  {
   "cell_type": "code",
   "execution_count": 66,
   "id": "03066520-3b46-4a7b-8dbf-a950a7fb0d5f",
   "metadata": {},
   "outputs": [],
   "source": [
    "def TS(f: callable, bound: np.array, iterations: int = 100, tabuPointLife: int = 20) -> int:\n",
    "    xlocal = random.uniform(bound[0], bound[1])\n",
    "    xbest = xlocal\n",
    "    T = [xlocal]\n",
    "    graph = [[cp.deepcopy(T), xbest]]\n",
    "\n",
    "    for _ in range(iterations):\n",
    "        xlocal = findNeighbourTS(T, xlocal, bound, f)\n",
    "        if f(xlocal) < f(xbest):\n",
    "            xbest = xlocal\n",
    "        T.append(xlocal)\n",
    "        graph.append([cp.deepcopy(T), xbest])\n",
    "        \n",
    "        if len(T) > tabuPointLife:\n",
    "            T = T[1:]\n",
    "\n",
    "    return graph, xbest"
   ]
  },
  {
   "cell_type": "code",
   "execution_count": 67,
   "id": "eb7793a8-03c2-448a-b717-8895598aec7c",
   "metadata": {},
   "outputs": [],
   "source": [
    "def fTS(x: float) -> float:\n",
    "    return 10 + x**2 - 10*np.cos(2*np.pi*x)"
   ]
  },
  {
   "cell_type": "code",
   "execution_count": 68,
   "id": "d9cb0cc5-0196-46ee-b272-4f40e6cf8309",
   "metadata": {},
   "outputs": [],
   "source": [
    "boundsTS = [-5.12, 5.12]\n",
    "iterationsTS = 1000"
   ]
  },
  {
   "cell_type": "code",
   "execution_count": 69,
   "id": "50d3e04b-5ccd-44a2-9cb3-af15466b5ecf",
   "metadata": {},
   "outputs": [
    {
     "name": "stdout",
     "output_type": "stream",
     "text": [
      "x: 1.066935503213351e-05, fit: 2.258398978938203e-08\n"
     ]
    }
   ],
   "source": [
    "graphTS, pointTS = TS(fTS, boundsTS, iterations = iterationsTS)\n",
    "print(f\"x: {pointTS}, fit: {fTS(pointTS)}\")"
   ]
  },
  {
   "cell_type": "markdown",
   "id": "eabf44bb-ab54-4c0c-8198-01d51420b2d4",
   "metadata": {},
   "source": [
    "# Iscrtavanje:"
   ]
  },
  {
   "cell_type": "code",
   "execution_count": 70,
   "id": "96a3ce7a-62d4-4100-a4aa-ed503dacf814",
   "metadata": {},
   "outputs": [],
   "source": [
    "import matplotlib.pyplot as plt\n",
    "import ipywidgets as widgets"
   ]
  },
  {
   "cell_type": "code",
   "execution_count": 71,
   "id": "98e57535-ae47-4b4e-92bc-8bfc67ff62d1",
   "metadata": {},
   "outputs": [],
   "source": [
    "xpTS = np.linspace(np.floor(boundsTS[0]), np.ceil(boundsTS[1]), num = 1000)\n",
    "ypTS = [fTS(x) for x in xpTS]\n",
    "legend_elementsTS = [\n",
    "    Line2D([0], [0], marker='o', color='w', label='Najbolje rešenje', markerfacecolor='red', markersize=10),\n",
    "    Line2D([0], [0], marker='o', color='w', label='Trenutno lokalno', markerfacecolor='purple', markersize=10),\n",
    "    Line2D([0], [0], marker='o', color='w', label='Trenutna Tabu rešenja', markerfacecolor='gray', markersize=10)\n",
    "]\n",
    "\n",
    "def drawTS(i):\n",
    "    plt.plot(xpTS, ypTS)\n",
    "    plt.scatter(graphTS[i][0], [fTS(x) for x in graphTS[i][0]], c = 'gray');\n",
    "    plt.scatter(graphTS[i][0][-1], fTS(graphTS[i][0][-1]), c = 'purple')\n",
    "    plt.scatter(graphTS[i][1], fTS(graphTS[i][1]), c = 'red')\n",
    "\n",
    "    plt.legend(handles=legend_elementsTS, loc='upper right')\n",
    "    \n",
    "    plt.show()"
   ]
  },
  {
   "cell_type": "code",
   "execution_count": 72,
   "id": "af7f9734-b8f2-43fc-b771-453f850a957d",
   "metadata": {},
   "outputs": [
    {
     "data": {
      "application/vnd.jupyter.widget-view+json": {
       "model_id": "ebbaf4288db744a2994ad4d2ef78c4d4",
       "version_major": 2,
       "version_minor": 0
      },
      "text/plain": [
       "interactive(children=(Play(value=0, description='i', max=1000), Output()), _dom_classes=('widget-interact',))"
      ]
     },
     "metadata": {},
     "output_type": "display_data"
    },
    {
     "name": "stdout",
     "output_type": "stream",
     "text": [
      "x: 1.066935503213351e-05, fit: 2.258398978938203e-08\n"
     ]
    }
   ],
   "source": [
    "widgets.interact(drawTS, i = widgets.Play(min = 0, max = len(graphTS) - 1, step=1));\n",
    "print(f\"x: {pointTS}, fit: {fTS(pointTS)}\")"
   ]
  },
  {
   "cell_type": "code",
   "execution_count": null,
   "id": "9d485a4c-01c5-4d7d-846b-d241c04e3d1e",
   "metadata": {},
   "outputs": [],
   "source": []
  }
 ],
 "metadata": {
  "kernelspec": {
   "display_name": "Python 3 (ipykernel)",
   "language": "python",
   "name": "python3"
  },
  "language_info": {
   "codemirror_mode": {
    "name": "ipython",
    "version": 3
   },
   "file_extension": ".py",
   "mimetype": "text/x-python",
   "name": "python",
   "nbconvert_exporter": "python",
   "pygments_lexer": "ipython3",
   "version": "3.12.7"
  }
 },
 "nbformat": 4,
 "nbformat_minor": 5
}
